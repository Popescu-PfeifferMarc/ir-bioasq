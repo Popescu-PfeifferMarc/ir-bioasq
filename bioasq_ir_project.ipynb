{
  "nbformat": 4,
  "nbformat_minor": 0,
  "metadata": {
    "colab": {
      "provenance": [],
      "gpuType": "T4"
    },
    "kernelspec": {
      "name": "python3",
      "display_name": "Python 3"
    },
    "language_info": {
      "name": "python"
    },
    "widgets": {
      "application/vnd.jupyter.widget-state+json": {
        "4d48c5433aa34319a7f41a2a55c0b2a2": {
          "model_module": "@jupyter-widgets/controls",
          "model_name": "HBoxModel",
          "model_module_version": "1.5.0",
          "state": {
            "_dom_classes": [],
            "_model_module": "@jupyter-widgets/controls",
            "_model_module_version": "1.5.0",
            "_model_name": "HBoxModel",
            "_view_count": null,
            "_view_module": "@jupyter-widgets/controls",
            "_view_module_version": "1.5.0",
            "_view_name": "HBoxView",
            "box_style": "",
            "children": [
              "IPY_MODEL_12d69970a3f24d5fa80a55ae97a81d6f",
              "IPY_MODEL_f146030283554096b1732fe5c03bfbb1",
              "IPY_MODEL_f9f647379a51463cb4b8eb233a21474a"
            ],
            "layout": "IPY_MODEL_ba37e2409f9a4b24bb7432da2291c4d0"
          }
        },
        "12d69970a3f24d5fa80a55ae97a81d6f": {
          "model_module": "@jupyter-widgets/controls",
          "model_name": "HTMLModel",
          "model_module_version": "1.5.0",
          "state": {
            "_dom_classes": [],
            "_model_module": "@jupyter-widgets/controls",
            "_model_module_version": "1.5.0",
            "_model_name": "HTMLModel",
            "_view_count": null,
            "_view_module": "@jupyter-widgets/controls",
            "_view_module_version": "1.5.0",
            "_view_name": "HTMLView",
            "description": "",
            "description_tooltip": null,
            "layout": "IPY_MODEL_8174c7dca3b049eaad993ca330926c89",
            "placeholder": "​",
            "style": "IPY_MODEL_fc2992cfdd904661b26d7195d91741c2",
            "value": "tokenizer_config.json: 100%"
          }
        },
        "f146030283554096b1732fe5c03bfbb1": {
          "model_module": "@jupyter-widgets/controls",
          "model_name": "FloatProgressModel",
          "model_module_version": "1.5.0",
          "state": {
            "_dom_classes": [],
            "_model_module": "@jupyter-widgets/controls",
            "_model_module_version": "1.5.0",
            "_model_name": "FloatProgressModel",
            "_view_count": null,
            "_view_module": "@jupyter-widgets/controls",
            "_view_module_version": "1.5.0",
            "_view_name": "ProgressView",
            "bar_style": "success",
            "description": "",
            "description_tooltip": null,
            "layout": "IPY_MODEL_f69ea314ba4b4dd78bc4f3e51984c1c2",
            "max": 79,
            "min": 0,
            "orientation": "horizontal",
            "style": "IPY_MODEL_30f132fb445845c4b526ddb79e29ed59",
            "value": 79
          }
        },
        "f9f647379a51463cb4b8eb233a21474a": {
          "model_module": "@jupyter-widgets/controls",
          "model_name": "HTMLModel",
          "model_module_version": "1.5.0",
          "state": {
            "_dom_classes": [],
            "_model_module": "@jupyter-widgets/controls",
            "_model_module_version": "1.5.0",
            "_model_name": "HTMLModel",
            "_view_count": null,
            "_view_module": "@jupyter-widgets/controls",
            "_view_module_version": "1.5.0",
            "_view_name": "HTMLView",
            "description": "",
            "description_tooltip": null,
            "layout": "IPY_MODEL_9af6a7539f9d435bb076cf8d1ac246b2",
            "placeholder": "​",
            "style": "IPY_MODEL_4ab34667d7b444c6b9b5d563db7adacc",
            "value": " 79.0/79.0 [00:00&lt;00:00, 2.48kB/s]"
          }
        },
        "ba37e2409f9a4b24bb7432da2291c4d0": {
          "model_module": "@jupyter-widgets/base",
          "model_name": "LayoutModel",
          "model_module_version": "1.2.0",
          "state": {
            "_model_module": "@jupyter-widgets/base",
            "_model_module_version": "1.2.0",
            "_model_name": "LayoutModel",
            "_view_count": null,
            "_view_module": "@jupyter-widgets/base",
            "_view_module_version": "1.2.0",
            "_view_name": "LayoutView",
            "align_content": null,
            "align_items": null,
            "align_self": null,
            "border": null,
            "bottom": null,
            "display": null,
            "flex": null,
            "flex_flow": null,
            "grid_area": null,
            "grid_auto_columns": null,
            "grid_auto_flow": null,
            "grid_auto_rows": null,
            "grid_column": null,
            "grid_gap": null,
            "grid_row": null,
            "grid_template_areas": null,
            "grid_template_columns": null,
            "grid_template_rows": null,
            "height": null,
            "justify_content": null,
            "justify_items": null,
            "left": null,
            "margin": null,
            "max_height": null,
            "max_width": null,
            "min_height": null,
            "min_width": null,
            "object_fit": null,
            "object_position": null,
            "order": null,
            "overflow": null,
            "overflow_x": null,
            "overflow_y": null,
            "padding": null,
            "right": null,
            "top": null,
            "visibility": null,
            "width": null
          }
        },
        "8174c7dca3b049eaad993ca330926c89": {
          "model_module": "@jupyter-widgets/base",
          "model_name": "LayoutModel",
          "model_module_version": "1.2.0",
          "state": {
            "_model_module": "@jupyter-widgets/base",
            "_model_module_version": "1.2.0",
            "_model_name": "LayoutModel",
            "_view_count": null,
            "_view_module": "@jupyter-widgets/base",
            "_view_module_version": "1.2.0",
            "_view_name": "LayoutView",
            "align_content": null,
            "align_items": null,
            "align_self": null,
            "border": null,
            "bottom": null,
            "display": null,
            "flex": null,
            "flex_flow": null,
            "grid_area": null,
            "grid_auto_columns": null,
            "grid_auto_flow": null,
            "grid_auto_rows": null,
            "grid_column": null,
            "grid_gap": null,
            "grid_row": null,
            "grid_template_areas": null,
            "grid_template_columns": null,
            "grid_template_rows": null,
            "height": null,
            "justify_content": null,
            "justify_items": null,
            "left": null,
            "margin": null,
            "max_height": null,
            "max_width": null,
            "min_height": null,
            "min_width": null,
            "object_fit": null,
            "object_position": null,
            "order": null,
            "overflow": null,
            "overflow_x": null,
            "overflow_y": null,
            "padding": null,
            "right": null,
            "top": null,
            "visibility": null,
            "width": null
          }
        },
        "fc2992cfdd904661b26d7195d91741c2": {
          "model_module": "@jupyter-widgets/controls",
          "model_name": "DescriptionStyleModel",
          "model_module_version": "1.5.0",
          "state": {
            "_model_module": "@jupyter-widgets/controls",
            "_model_module_version": "1.5.0",
            "_model_name": "DescriptionStyleModel",
            "_view_count": null,
            "_view_module": "@jupyter-widgets/base",
            "_view_module_version": "1.2.0",
            "_view_name": "StyleView",
            "description_width": ""
          }
        },
        "f69ea314ba4b4dd78bc4f3e51984c1c2": {
          "model_module": "@jupyter-widgets/base",
          "model_name": "LayoutModel",
          "model_module_version": "1.2.0",
          "state": {
            "_model_module": "@jupyter-widgets/base",
            "_model_module_version": "1.2.0",
            "_model_name": "LayoutModel",
            "_view_count": null,
            "_view_module": "@jupyter-widgets/base",
            "_view_module_version": "1.2.0",
            "_view_name": "LayoutView",
            "align_content": null,
            "align_items": null,
            "align_self": null,
            "border": null,
            "bottom": null,
            "display": null,
            "flex": null,
            "flex_flow": null,
            "grid_area": null,
            "grid_auto_columns": null,
            "grid_auto_flow": null,
            "grid_auto_rows": null,
            "grid_column": null,
            "grid_gap": null,
            "grid_row": null,
            "grid_template_areas": null,
            "grid_template_columns": null,
            "grid_template_rows": null,
            "height": null,
            "justify_content": null,
            "justify_items": null,
            "left": null,
            "margin": null,
            "max_height": null,
            "max_width": null,
            "min_height": null,
            "min_width": null,
            "object_fit": null,
            "object_position": null,
            "order": null,
            "overflow": null,
            "overflow_x": null,
            "overflow_y": null,
            "padding": null,
            "right": null,
            "top": null,
            "visibility": null,
            "width": null
          }
        },
        "30f132fb445845c4b526ddb79e29ed59": {
          "model_module": "@jupyter-widgets/controls",
          "model_name": "ProgressStyleModel",
          "model_module_version": "1.5.0",
          "state": {
            "_model_module": "@jupyter-widgets/controls",
            "_model_module_version": "1.5.0",
            "_model_name": "ProgressStyleModel",
            "_view_count": null,
            "_view_module": "@jupyter-widgets/base",
            "_view_module_version": "1.2.0",
            "_view_name": "StyleView",
            "bar_color": null,
            "description_width": ""
          }
        },
        "9af6a7539f9d435bb076cf8d1ac246b2": {
          "model_module": "@jupyter-widgets/base",
          "model_name": "LayoutModel",
          "model_module_version": "1.2.0",
          "state": {
            "_model_module": "@jupyter-widgets/base",
            "_model_module_version": "1.2.0",
            "_model_name": "LayoutModel",
            "_view_count": null,
            "_view_module": "@jupyter-widgets/base",
            "_view_module_version": "1.2.0",
            "_view_name": "LayoutView",
            "align_content": null,
            "align_items": null,
            "align_self": null,
            "border": null,
            "bottom": null,
            "display": null,
            "flex": null,
            "flex_flow": null,
            "grid_area": null,
            "grid_auto_columns": null,
            "grid_auto_flow": null,
            "grid_auto_rows": null,
            "grid_column": null,
            "grid_gap": null,
            "grid_row": null,
            "grid_template_areas": null,
            "grid_template_columns": null,
            "grid_template_rows": null,
            "height": null,
            "justify_content": null,
            "justify_items": null,
            "left": null,
            "margin": null,
            "max_height": null,
            "max_width": null,
            "min_height": null,
            "min_width": null,
            "object_fit": null,
            "object_position": null,
            "order": null,
            "overflow": null,
            "overflow_x": null,
            "overflow_y": null,
            "padding": null,
            "right": null,
            "top": null,
            "visibility": null,
            "width": null
          }
        },
        "4ab34667d7b444c6b9b5d563db7adacc": {
          "model_module": "@jupyter-widgets/controls",
          "model_name": "DescriptionStyleModel",
          "model_module_version": "1.5.0",
          "state": {
            "_model_module": "@jupyter-widgets/controls",
            "_model_module_version": "1.5.0",
            "_model_name": "DescriptionStyleModel",
            "_view_count": null,
            "_view_module": "@jupyter-widgets/base",
            "_view_module_version": "1.2.0",
            "_view_name": "StyleView",
            "description_width": ""
          }
        },
        "8455fc2744714cfaac24294fc9f0fa5c": {
          "model_module": "@jupyter-widgets/controls",
          "model_name": "HBoxModel",
          "model_module_version": "1.5.0",
          "state": {
            "_dom_classes": [],
            "_model_module": "@jupyter-widgets/controls",
            "_model_module_version": "1.5.0",
            "_model_name": "HBoxModel",
            "_view_count": null,
            "_view_module": "@jupyter-widgets/controls",
            "_view_module_version": "1.5.0",
            "_view_name": "HBoxView",
            "box_style": "",
            "children": [
              "IPY_MODEL_c2217e5fb6e54494abbe40e55d077bc8",
              "IPY_MODEL_09b18a099e05448084690a5b2675f12e",
              "IPY_MODEL_cdcf99e67b0e47b28e22912c1d102df4"
            ],
            "layout": "IPY_MODEL_513c7e50bfc542faa1fa78ac58103e49"
          }
        },
        "c2217e5fb6e54494abbe40e55d077bc8": {
          "model_module": "@jupyter-widgets/controls",
          "model_name": "HTMLModel",
          "model_module_version": "1.5.0",
          "state": {
            "_dom_classes": [],
            "_model_module": "@jupyter-widgets/controls",
            "_model_module_version": "1.5.0",
            "_model_name": "HTMLModel",
            "_view_count": null,
            "_view_module": "@jupyter-widgets/controls",
            "_view_module_version": "1.5.0",
            "_view_name": "HTMLView",
            "description": "",
            "description_tooltip": null,
            "layout": "IPY_MODEL_889a054dc4564c71a3449ac4ebb6056e",
            "placeholder": "​",
            "style": "IPY_MODEL_5bc762359eb74c4390cb72866c60821b",
            "value": "config.json: 100%"
          }
        },
        "09b18a099e05448084690a5b2675f12e": {
          "model_module": "@jupyter-widgets/controls",
          "model_name": "FloatProgressModel",
          "model_module_version": "1.5.0",
          "state": {
            "_dom_classes": [],
            "_model_module": "@jupyter-widgets/controls",
            "_model_module_version": "1.5.0",
            "_model_name": "FloatProgressModel",
            "_view_count": null,
            "_view_module": "@jupyter-widgets/controls",
            "_view_module_version": "1.5.0",
            "_view_name": "ProgressView",
            "bar_style": "success",
            "description": "",
            "description_tooltip": null,
            "layout": "IPY_MODEL_95f84d83d88844b4abab3b18283df83b",
            "max": 571,
            "min": 0,
            "orientation": "horizontal",
            "style": "IPY_MODEL_180ff53d6c3f42e48f4e78ad5bdced9e",
            "value": 571
          }
        },
        "cdcf99e67b0e47b28e22912c1d102df4": {
          "model_module": "@jupyter-widgets/controls",
          "model_name": "HTMLModel",
          "model_module_version": "1.5.0",
          "state": {
            "_dom_classes": [],
            "_model_module": "@jupyter-widgets/controls",
            "_model_module_version": "1.5.0",
            "_model_name": "HTMLModel",
            "_view_count": null,
            "_view_module": "@jupyter-widgets/controls",
            "_view_module_version": "1.5.0",
            "_view_name": "HTMLView",
            "description": "",
            "description_tooltip": null,
            "layout": "IPY_MODEL_c36b96dbd4f34ce0a4cf0749a4f5df1a",
            "placeholder": "​",
            "style": "IPY_MODEL_c64df170e6a842d288b939828713005e",
            "value": " 571/571 [00:00&lt;00:00, 25.3kB/s]"
          }
        },
        "513c7e50bfc542faa1fa78ac58103e49": {
          "model_module": "@jupyter-widgets/base",
          "model_name": "LayoutModel",
          "model_module_version": "1.2.0",
          "state": {
            "_model_module": "@jupyter-widgets/base",
            "_model_module_version": "1.2.0",
            "_model_name": "LayoutModel",
            "_view_count": null,
            "_view_module": "@jupyter-widgets/base",
            "_view_module_version": "1.2.0",
            "_view_name": "LayoutView",
            "align_content": null,
            "align_items": null,
            "align_self": null,
            "border": null,
            "bottom": null,
            "display": null,
            "flex": null,
            "flex_flow": null,
            "grid_area": null,
            "grid_auto_columns": null,
            "grid_auto_flow": null,
            "grid_auto_rows": null,
            "grid_column": null,
            "grid_gap": null,
            "grid_row": null,
            "grid_template_areas": null,
            "grid_template_columns": null,
            "grid_template_rows": null,
            "height": null,
            "justify_content": null,
            "justify_items": null,
            "left": null,
            "margin": null,
            "max_height": null,
            "max_width": null,
            "min_height": null,
            "min_width": null,
            "object_fit": null,
            "object_position": null,
            "order": null,
            "overflow": null,
            "overflow_x": null,
            "overflow_y": null,
            "padding": null,
            "right": null,
            "top": null,
            "visibility": null,
            "width": null
          }
        },
        "889a054dc4564c71a3449ac4ebb6056e": {
          "model_module": "@jupyter-widgets/base",
          "model_name": "LayoutModel",
          "model_module_version": "1.2.0",
          "state": {
            "_model_module": "@jupyter-widgets/base",
            "_model_module_version": "1.2.0",
            "_model_name": "LayoutModel",
            "_view_count": null,
            "_view_module": "@jupyter-widgets/base",
            "_view_module_version": "1.2.0",
            "_view_name": "LayoutView",
            "align_content": null,
            "align_items": null,
            "align_self": null,
            "border": null,
            "bottom": null,
            "display": null,
            "flex": null,
            "flex_flow": null,
            "grid_area": null,
            "grid_auto_columns": null,
            "grid_auto_flow": null,
            "grid_auto_rows": null,
            "grid_column": null,
            "grid_gap": null,
            "grid_row": null,
            "grid_template_areas": null,
            "grid_template_columns": null,
            "grid_template_rows": null,
            "height": null,
            "justify_content": null,
            "justify_items": null,
            "left": null,
            "margin": null,
            "max_height": null,
            "max_width": null,
            "min_height": null,
            "min_width": null,
            "object_fit": null,
            "object_position": null,
            "order": null,
            "overflow": null,
            "overflow_x": null,
            "overflow_y": null,
            "padding": null,
            "right": null,
            "top": null,
            "visibility": null,
            "width": null
          }
        },
        "5bc762359eb74c4390cb72866c60821b": {
          "model_module": "@jupyter-widgets/controls",
          "model_name": "DescriptionStyleModel",
          "model_module_version": "1.5.0",
          "state": {
            "_model_module": "@jupyter-widgets/controls",
            "_model_module_version": "1.5.0",
            "_model_name": "DescriptionStyleModel",
            "_view_count": null,
            "_view_module": "@jupyter-widgets/base",
            "_view_module_version": "1.2.0",
            "_view_name": "StyleView",
            "description_width": ""
          }
        },
        "95f84d83d88844b4abab3b18283df83b": {
          "model_module": "@jupyter-widgets/base",
          "model_name": "LayoutModel",
          "model_module_version": "1.2.0",
          "state": {
            "_model_module": "@jupyter-widgets/base",
            "_model_module_version": "1.2.0",
            "_model_name": "LayoutModel",
            "_view_count": null,
            "_view_module": "@jupyter-widgets/base",
            "_view_module_version": "1.2.0",
            "_view_name": "LayoutView",
            "align_content": null,
            "align_items": null,
            "align_self": null,
            "border": null,
            "bottom": null,
            "display": null,
            "flex": null,
            "flex_flow": null,
            "grid_area": null,
            "grid_auto_columns": null,
            "grid_auto_flow": null,
            "grid_auto_rows": null,
            "grid_column": null,
            "grid_gap": null,
            "grid_row": null,
            "grid_template_areas": null,
            "grid_template_columns": null,
            "grid_template_rows": null,
            "height": null,
            "justify_content": null,
            "justify_items": null,
            "left": null,
            "margin": null,
            "max_height": null,
            "max_width": null,
            "min_height": null,
            "min_width": null,
            "object_fit": null,
            "object_position": null,
            "order": null,
            "overflow": null,
            "overflow_x": null,
            "overflow_y": null,
            "padding": null,
            "right": null,
            "top": null,
            "visibility": null,
            "width": null
          }
        },
        "180ff53d6c3f42e48f4e78ad5bdced9e": {
          "model_module": "@jupyter-widgets/controls",
          "model_name": "ProgressStyleModel",
          "model_module_version": "1.5.0",
          "state": {
            "_model_module": "@jupyter-widgets/controls",
            "_model_module_version": "1.5.0",
            "_model_name": "ProgressStyleModel",
            "_view_count": null,
            "_view_module": "@jupyter-widgets/base",
            "_view_module_version": "1.2.0",
            "_view_name": "StyleView",
            "bar_color": null,
            "description_width": ""
          }
        },
        "c36b96dbd4f34ce0a4cf0749a4f5df1a": {
          "model_module": "@jupyter-widgets/base",
          "model_name": "LayoutModel",
          "model_module_version": "1.2.0",
          "state": {
            "_model_module": "@jupyter-widgets/base",
            "_model_module_version": "1.2.0",
            "_model_name": "LayoutModel",
            "_view_count": null,
            "_view_module": "@jupyter-widgets/base",
            "_view_module_version": "1.2.0",
            "_view_name": "LayoutView",
            "align_content": null,
            "align_items": null,
            "align_self": null,
            "border": null,
            "bottom": null,
            "display": null,
            "flex": null,
            "flex_flow": null,
            "grid_area": null,
            "grid_auto_columns": null,
            "grid_auto_flow": null,
            "grid_auto_rows": null,
            "grid_column": null,
            "grid_gap": null,
            "grid_row": null,
            "grid_template_areas": null,
            "grid_template_columns": null,
            "grid_template_rows": null,
            "height": null,
            "justify_content": null,
            "justify_items": null,
            "left": null,
            "margin": null,
            "max_height": null,
            "max_width": null,
            "min_height": null,
            "min_width": null,
            "object_fit": null,
            "object_position": null,
            "order": null,
            "overflow": null,
            "overflow_x": null,
            "overflow_y": null,
            "padding": null,
            "right": null,
            "top": null,
            "visibility": null,
            "width": null
          }
        },
        "c64df170e6a842d288b939828713005e": {
          "model_module": "@jupyter-widgets/controls",
          "model_name": "DescriptionStyleModel",
          "model_module_version": "1.5.0",
          "state": {
            "_model_module": "@jupyter-widgets/controls",
            "_model_module_version": "1.5.0",
            "_model_name": "DescriptionStyleModel",
            "_view_count": null,
            "_view_module": "@jupyter-widgets/base",
            "_view_module_version": "1.2.0",
            "_view_name": "StyleView",
            "description_width": ""
          }
        },
        "2b9062e48e0645ddbe793f82cf849c5b": {
          "model_module": "@jupyter-widgets/controls",
          "model_name": "HBoxModel",
          "model_module_version": "1.5.0",
          "state": {
            "_dom_classes": [],
            "_model_module": "@jupyter-widgets/controls",
            "_model_module_version": "1.5.0",
            "_model_name": "HBoxModel",
            "_view_count": null,
            "_view_module": "@jupyter-widgets/controls",
            "_view_module_version": "1.5.0",
            "_view_name": "HBoxView",
            "box_style": "",
            "children": [
              "IPY_MODEL_1ce9be2996de4787a89b86043b4c681f",
              "IPY_MODEL_265a916ec0a34207a1bfdf80541ee6f0",
              "IPY_MODEL_44221e8390474751bdc346c217cc1118"
            ],
            "layout": "IPY_MODEL_6a4bdde45c124064b43b0f5df8892586"
          }
        },
        "1ce9be2996de4787a89b86043b4c681f": {
          "model_module": "@jupyter-widgets/controls",
          "model_name": "HTMLModel",
          "model_module_version": "1.5.0",
          "state": {
            "_dom_classes": [],
            "_model_module": "@jupyter-widgets/controls",
            "_model_module_version": "1.5.0",
            "_model_name": "HTMLModel",
            "_view_count": null,
            "_view_module": "@jupyter-widgets/controls",
            "_view_module_version": "1.5.0",
            "_view_name": "HTMLView",
            "description": "",
            "description_tooltip": null,
            "layout": "IPY_MODEL_d388c3cbbb0c4902a10039f6b4c0b7dd",
            "placeholder": "​",
            "style": "IPY_MODEL_4f275ffc07f542c890ca683198be002f",
            "value": "vocab.json: 100%"
          }
        },
        "265a916ec0a34207a1bfdf80541ee6f0": {
          "model_module": "@jupyter-widgets/controls",
          "model_name": "FloatProgressModel",
          "model_module_version": "1.5.0",
          "state": {
            "_dom_classes": [],
            "_model_module": "@jupyter-widgets/controls",
            "_model_module_version": "1.5.0",
            "_model_name": "FloatProgressModel",
            "_view_count": null,
            "_view_module": "@jupyter-widgets/controls",
            "_view_module_version": "1.5.0",
            "_view_name": "ProgressView",
            "bar_style": "success",
            "description": "",
            "description_tooltip": null,
            "layout": "IPY_MODEL_243f98f005a4474db1bf55849fd36dbe",
            "max": 898822,
            "min": 0,
            "orientation": "horizontal",
            "style": "IPY_MODEL_d4eabdb4ea264ded8e30447d4ffedd33",
            "value": 898822
          }
        },
        "44221e8390474751bdc346c217cc1118": {
          "model_module": "@jupyter-widgets/controls",
          "model_name": "HTMLModel",
          "model_module_version": "1.5.0",
          "state": {
            "_dom_classes": [],
            "_model_module": "@jupyter-widgets/controls",
            "_model_module_version": "1.5.0",
            "_model_name": "HTMLModel",
            "_view_count": null,
            "_view_module": "@jupyter-widgets/controls",
            "_view_module_version": "1.5.0",
            "_view_name": "HTMLView",
            "description": "",
            "description_tooltip": null,
            "layout": "IPY_MODEL_df04faa75dc94a53b5fea58e7ac904fd",
            "placeholder": "​",
            "style": "IPY_MODEL_5b40bcbfd2f44b6088523b7a112d625b",
            "value": " 899k/899k [00:00&lt;00:00, 10.2MB/s]"
          }
        },
        "6a4bdde45c124064b43b0f5df8892586": {
          "model_module": "@jupyter-widgets/base",
          "model_name": "LayoutModel",
          "model_module_version": "1.2.0",
          "state": {
            "_model_module": "@jupyter-widgets/base",
            "_model_module_version": "1.2.0",
            "_model_name": "LayoutModel",
            "_view_count": null,
            "_view_module": "@jupyter-widgets/base",
            "_view_module_version": "1.2.0",
            "_view_name": "LayoutView",
            "align_content": null,
            "align_items": null,
            "align_self": null,
            "border": null,
            "bottom": null,
            "display": null,
            "flex": null,
            "flex_flow": null,
            "grid_area": null,
            "grid_auto_columns": null,
            "grid_auto_flow": null,
            "grid_auto_rows": null,
            "grid_column": null,
            "grid_gap": null,
            "grid_row": null,
            "grid_template_areas": null,
            "grid_template_columns": null,
            "grid_template_rows": null,
            "height": null,
            "justify_content": null,
            "justify_items": null,
            "left": null,
            "margin": null,
            "max_height": null,
            "max_width": null,
            "min_height": null,
            "min_width": null,
            "object_fit": null,
            "object_position": null,
            "order": null,
            "overflow": null,
            "overflow_x": null,
            "overflow_y": null,
            "padding": null,
            "right": null,
            "top": null,
            "visibility": null,
            "width": null
          }
        },
        "d388c3cbbb0c4902a10039f6b4c0b7dd": {
          "model_module": "@jupyter-widgets/base",
          "model_name": "LayoutModel",
          "model_module_version": "1.2.0",
          "state": {
            "_model_module": "@jupyter-widgets/base",
            "_model_module_version": "1.2.0",
            "_model_name": "LayoutModel",
            "_view_count": null,
            "_view_module": "@jupyter-widgets/base",
            "_view_module_version": "1.2.0",
            "_view_name": "LayoutView",
            "align_content": null,
            "align_items": null,
            "align_self": null,
            "border": null,
            "bottom": null,
            "display": null,
            "flex": null,
            "flex_flow": null,
            "grid_area": null,
            "grid_auto_columns": null,
            "grid_auto_flow": null,
            "grid_auto_rows": null,
            "grid_column": null,
            "grid_gap": null,
            "grid_row": null,
            "grid_template_areas": null,
            "grid_template_columns": null,
            "grid_template_rows": null,
            "height": null,
            "justify_content": null,
            "justify_items": null,
            "left": null,
            "margin": null,
            "max_height": null,
            "max_width": null,
            "min_height": null,
            "min_width": null,
            "object_fit": null,
            "object_position": null,
            "order": null,
            "overflow": null,
            "overflow_x": null,
            "overflow_y": null,
            "padding": null,
            "right": null,
            "top": null,
            "visibility": null,
            "width": null
          }
        },
        "4f275ffc07f542c890ca683198be002f": {
          "model_module": "@jupyter-widgets/controls",
          "model_name": "DescriptionStyleModel",
          "model_module_version": "1.5.0",
          "state": {
            "_model_module": "@jupyter-widgets/controls",
            "_model_module_version": "1.5.0",
            "_model_name": "DescriptionStyleModel",
            "_view_count": null,
            "_view_module": "@jupyter-widgets/base",
            "_view_module_version": "1.2.0",
            "_view_name": "StyleView",
            "description_width": ""
          }
        },
        "243f98f005a4474db1bf55849fd36dbe": {
          "model_module": "@jupyter-widgets/base",
          "model_name": "LayoutModel",
          "model_module_version": "1.2.0",
          "state": {
            "_model_module": "@jupyter-widgets/base",
            "_model_module_version": "1.2.0",
            "_model_name": "LayoutModel",
            "_view_count": null,
            "_view_module": "@jupyter-widgets/base",
            "_view_module_version": "1.2.0",
            "_view_name": "LayoutView",
            "align_content": null,
            "align_items": null,
            "align_self": null,
            "border": null,
            "bottom": null,
            "display": null,
            "flex": null,
            "flex_flow": null,
            "grid_area": null,
            "grid_auto_columns": null,
            "grid_auto_flow": null,
            "grid_auto_rows": null,
            "grid_column": null,
            "grid_gap": null,
            "grid_row": null,
            "grid_template_areas": null,
            "grid_template_columns": null,
            "grid_template_rows": null,
            "height": null,
            "justify_content": null,
            "justify_items": null,
            "left": null,
            "margin": null,
            "max_height": null,
            "max_width": null,
            "min_height": null,
            "min_width": null,
            "object_fit": null,
            "object_position": null,
            "order": null,
            "overflow": null,
            "overflow_x": null,
            "overflow_y": null,
            "padding": null,
            "right": null,
            "top": null,
            "visibility": null,
            "width": null
          }
        },
        "d4eabdb4ea264ded8e30447d4ffedd33": {
          "model_module": "@jupyter-widgets/controls",
          "model_name": "ProgressStyleModel",
          "model_module_version": "1.5.0",
          "state": {
            "_model_module": "@jupyter-widgets/controls",
            "_model_module_version": "1.5.0",
            "_model_name": "ProgressStyleModel",
            "_view_count": null,
            "_view_module": "@jupyter-widgets/base",
            "_view_module_version": "1.2.0",
            "_view_name": "StyleView",
            "bar_color": null,
            "description_width": ""
          }
        },
        "df04faa75dc94a53b5fea58e7ac904fd": {
          "model_module": "@jupyter-widgets/base",
          "model_name": "LayoutModel",
          "model_module_version": "1.2.0",
          "state": {
            "_model_module": "@jupyter-widgets/base",
            "_model_module_version": "1.2.0",
            "_model_name": "LayoutModel",
            "_view_count": null,
            "_view_module": "@jupyter-widgets/base",
            "_view_module_version": "1.2.0",
            "_view_name": "LayoutView",
            "align_content": null,
            "align_items": null,
            "align_self": null,
            "border": null,
            "bottom": null,
            "display": null,
            "flex": null,
            "flex_flow": null,
            "grid_area": null,
            "grid_auto_columns": null,
            "grid_auto_flow": null,
            "grid_auto_rows": null,
            "grid_column": null,
            "grid_gap": null,
            "grid_row": null,
            "grid_template_areas": null,
            "grid_template_columns": null,
            "grid_template_rows": null,
            "height": null,
            "justify_content": null,
            "justify_items": null,
            "left": null,
            "margin": null,
            "max_height": null,
            "max_width": null,
            "min_height": null,
            "min_width": null,
            "object_fit": null,
            "object_position": null,
            "order": null,
            "overflow": null,
            "overflow_x": null,
            "overflow_y": null,
            "padding": null,
            "right": null,
            "top": null,
            "visibility": null,
            "width": null
          }
        },
        "5b40bcbfd2f44b6088523b7a112d625b": {
          "model_module": "@jupyter-widgets/controls",
          "model_name": "DescriptionStyleModel",
          "model_module_version": "1.5.0",
          "state": {
            "_model_module": "@jupyter-widgets/controls",
            "_model_module_version": "1.5.0",
            "_model_name": "DescriptionStyleModel",
            "_view_count": null,
            "_view_module": "@jupyter-widgets/base",
            "_view_module_version": "1.2.0",
            "_view_name": "StyleView",
            "description_width": ""
          }
        },
        "eb14999126034e1785ef4ce3cdcf4bd6": {
          "model_module": "@jupyter-widgets/controls",
          "model_name": "HBoxModel",
          "model_module_version": "1.5.0",
          "state": {
            "_dom_classes": [],
            "_model_module": "@jupyter-widgets/controls",
            "_model_module_version": "1.5.0",
            "_model_name": "HBoxModel",
            "_view_count": null,
            "_view_module": "@jupyter-widgets/controls",
            "_view_module_version": "1.5.0",
            "_view_name": "HBoxView",
            "box_style": "",
            "children": [
              "IPY_MODEL_5886a7ceeff846c9bd708de74eaac5ce",
              "IPY_MODEL_1041988b26f243f2805326c728608b9d",
              "IPY_MODEL_18136b696a4544cfbfe81bd879d4123c"
            ],
            "layout": "IPY_MODEL_223841d2e94345648279dee909b2e2c5"
          }
        },
        "5886a7ceeff846c9bd708de74eaac5ce": {
          "model_module": "@jupyter-widgets/controls",
          "model_name": "HTMLModel",
          "model_module_version": "1.5.0",
          "state": {
            "_dom_classes": [],
            "_model_module": "@jupyter-widgets/controls",
            "_model_module_version": "1.5.0",
            "_model_name": "HTMLModel",
            "_view_count": null,
            "_view_module": "@jupyter-widgets/controls",
            "_view_module_version": "1.5.0",
            "_view_name": "HTMLView",
            "description": "",
            "description_tooltip": null,
            "layout": "IPY_MODEL_3e689f211e734a3d8dcbb7d04561157e",
            "placeholder": "​",
            "style": "IPY_MODEL_0bfa1e1f166c475fb0ac7a86a723cf85",
            "value": "merges.txt: 100%"
          }
        },
        "1041988b26f243f2805326c728608b9d": {
          "model_module": "@jupyter-widgets/controls",
          "model_name": "FloatProgressModel",
          "model_module_version": "1.5.0",
          "state": {
            "_dom_classes": [],
            "_model_module": "@jupyter-widgets/controls",
            "_model_module_version": "1.5.0",
            "_model_name": "FloatProgressModel",
            "_view_count": null,
            "_view_module": "@jupyter-widgets/controls",
            "_view_module_version": "1.5.0",
            "_view_name": "ProgressView",
            "bar_style": "success",
            "description": "",
            "description_tooltip": null,
            "layout": "IPY_MODEL_e2c3404eb29e4a29a4173deecba41d22",
            "max": 456318,
            "min": 0,
            "orientation": "horizontal",
            "style": "IPY_MODEL_7712c18b776c4aecb2638a068d496ce9",
            "value": 456318
          }
        },
        "18136b696a4544cfbfe81bd879d4123c": {
          "model_module": "@jupyter-widgets/controls",
          "model_name": "HTMLModel",
          "model_module_version": "1.5.0",
          "state": {
            "_dom_classes": [],
            "_model_module": "@jupyter-widgets/controls",
            "_model_module_version": "1.5.0",
            "_model_name": "HTMLModel",
            "_view_count": null,
            "_view_module": "@jupyter-widgets/controls",
            "_view_module_version": "1.5.0",
            "_view_name": "HTMLView",
            "description": "",
            "description_tooltip": null,
            "layout": "IPY_MODEL_c91a3499bf81479f916f788bc885d1d9",
            "placeholder": "​",
            "style": "IPY_MODEL_10cef7113858420bb9c836e61dd103e5",
            "value": " 456k/456k [00:00&lt;00:00, 10.8MB/s]"
          }
        },
        "223841d2e94345648279dee909b2e2c5": {
          "model_module": "@jupyter-widgets/base",
          "model_name": "LayoutModel",
          "model_module_version": "1.2.0",
          "state": {
            "_model_module": "@jupyter-widgets/base",
            "_model_module_version": "1.2.0",
            "_model_name": "LayoutModel",
            "_view_count": null,
            "_view_module": "@jupyter-widgets/base",
            "_view_module_version": "1.2.0",
            "_view_name": "LayoutView",
            "align_content": null,
            "align_items": null,
            "align_self": null,
            "border": null,
            "bottom": null,
            "display": null,
            "flex": null,
            "flex_flow": null,
            "grid_area": null,
            "grid_auto_columns": null,
            "grid_auto_flow": null,
            "grid_auto_rows": null,
            "grid_column": null,
            "grid_gap": null,
            "grid_row": null,
            "grid_template_areas": null,
            "grid_template_columns": null,
            "grid_template_rows": null,
            "height": null,
            "justify_content": null,
            "justify_items": null,
            "left": null,
            "margin": null,
            "max_height": null,
            "max_width": null,
            "min_height": null,
            "min_width": null,
            "object_fit": null,
            "object_position": null,
            "order": null,
            "overflow": null,
            "overflow_x": null,
            "overflow_y": null,
            "padding": null,
            "right": null,
            "top": null,
            "visibility": null,
            "width": null
          }
        },
        "3e689f211e734a3d8dcbb7d04561157e": {
          "model_module": "@jupyter-widgets/base",
          "model_name": "LayoutModel",
          "model_module_version": "1.2.0",
          "state": {
            "_model_module": "@jupyter-widgets/base",
            "_model_module_version": "1.2.0",
            "_model_name": "LayoutModel",
            "_view_count": null,
            "_view_module": "@jupyter-widgets/base",
            "_view_module_version": "1.2.0",
            "_view_name": "LayoutView",
            "align_content": null,
            "align_items": null,
            "align_self": null,
            "border": null,
            "bottom": null,
            "display": null,
            "flex": null,
            "flex_flow": null,
            "grid_area": null,
            "grid_auto_columns": null,
            "grid_auto_flow": null,
            "grid_auto_rows": null,
            "grid_column": null,
            "grid_gap": null,
            "grid_row": null,
            "grid_template_areas": null,
            "grid_template_columns": null,
            "grid_template_rows": null,
            "height": null,
            "justify_content": null,
            "justify_items": null,
            "left": null,
            "margin": null,
            "max_height": null,
            "max_width": null,
            "min_height": null,
            "min_width": null,
            "object_fit": null,
            "object_position": null,
            "order": null,
            "overflow": null,
            "overflow_x": null,
            "overflow_y": null,
            "padding": null,
            "right": null,
            "top": null,
            "visibility": null,
            "width": null
          }
        },
        "0bfa1e1f166c475fb0ac7a86a723cf85": {
          "model_module": "@jupyter-widgets/controls",
          "model_name": "DescriptionStyleModel",
          "model_module_version": "1.5.0",
          "state": {
            "_model_module": "@jupyter-widgets/controls",
            "_model_module_version": "1.5.0",
            "_model_name": "DescriptionStyleModel",
            "_view_count": null,
            "_view_module": "@jupyter-widgets/base",
            "_view_module_version": "1.2.0",
            "_view_name": "StyleView",
            "description_width": ""
          }
        },
        "e2c3404eb29e4a29a4173deecba41d22": {
          "model_module": "@jupyter-widgets/base",
          "model_name": "LayoutModel",
          "model_module_version": "1.2.0",
          "state": {
            "_model_module": "@jupyter-widgets/base",
            "_model_module_version": "1.2.0",
            "_model_name": "LayoutModel",
            "_view_count": null,
            "_view_module": "@jupyter-widgets/base",
            "_view_module_version": "1.2.0",
            "_view_name": "LayoutView",
            "align_content": null,
            "align_items": null,
            "align_self": null,
            "border": null,
            "bottom": null,
            "display": null,
            "flex": null,
            "flex_flow": null,
            "grid_area": null,
            "grid_auto_columns": null,
            "grid_auto_flow": null,
            "grid_auto_rows": null,
            "grid_column": null,
            "grid_gap": null,
            "grid_row": null,
            "grid_template_areas": null,
            "grid_template_columns": null,
            "grid_template_rows": null,
            "height": null,
            "justify_content": null,
            "justify_items": null,
            "left": null,
            "margin": null,
            "max_height": null,
            "max_width": null,
            "min_height": null,
            "min_width": null,
            "object_fit": null,
            "object_position": null,
            "order": null,
            "overflow": null,
            "overflow_x": null,
            "overflow_y": null,
            "padding": null,
            "right": null,
            "top": null,
            "visibility": null,
            "width": null
          }
        },
        "7712c18b776c4aecb2638a068d496ce9": {
          "model_module": "@jupyter-widgets/controls",
          "model_name": "ProgressStyleModel",
          "model_module_version": "1.5.0",
          "state": {
            "_model_module": "@jupyter-widgets/controls",
            "_model_module_version": "1.5.0",
            "_model_name": "ProgressStyleModel",
            "_view_count": null,
            "_view_module": "@jupyter-widgets/base",
            "_view_module_version": "1.2.0",
            "_view_name": "StyleView",
            "bar_color": null,
            "description_width": ""
          }
        },
        "c91a3499bf81479f916f788bc885d1d9": {
          "model_module": "@jupyter-widgets/base",
          "model_name": "LayoutModel",
          "model_module_version": "1.2.0",
          "state": {
            "_model_module": "@jupyter-widgets/base",
            "_model_module_version": "1.2.0",
            "_model_name": "LayoutModel",
            "_view_count": null,
            "_view_module": "@jupyter-widgets/base",
            "_view_module_version": "1.2.0",
            "_view_name": "LayoutView",
            "align_content": null,
            "align_items": null,
            "align_self": null,
            "border": null,
            "bottom": null,
            "display": null,
            "flex": null,
            "flex_flow": null,
            "grid_area": null,
            "grid_auto_columns": null,
            "grid_auto_flow": null,
            "grid_auto_rows": null,
            "grid_column": null,
            "grid_gap": null,
            "grid_row": null,
            "grid_template_areas": null,
            "grid_template_columns": null,
            "grid_template_rows": null,
            "height": null,
            "justify_content": null,
            "justify_items": null,
            "left": null,
            "margin": null,
            "max_height": null,
            "max_width": null,
            "min_height": null,
            "min_width": null,
            "object_fit": null,
            "object_position": null,
            "order": null,
            "overflow": null,
            "overflow_x": null,
            "overflow_y": null,
            "padding": null,
            "right": null,
            "top": null,
            "visibility": null,
            "width": null
          }
        },
        "10cef7113858420bb9c836e61dd103e5": {
          "model_module": "@jupyter-widgets/controls",
          "model_name": "DescriptionStyleModel",
          "model_module_version": "1.5.0",
          "state": {
            "_model_module": "@jupyter-widgets/controls",
            "_model_module_version": "1.5.0",
            "_model_name": "DescriptionStyleModel",
            "_view_count": null,
            "_view_module": "@jupyter-widgets/base",
            "_view_module_version": "1.2.0",
            "_view_name": "StyleView",
            "description_width": ""
          }
        },
        "06ccae922a5f4d19ac25e6a9c9e9526e": {
          "model_module": "@jupyter-widgets/controls",
          "model_name": "HBoxModel",
          "model_module_version": "1.5.0",
          "state": {
            "_dom_classes": [],
            "_model_module": "@jupyter-widgets/controls",
            "_model_module_version": "1.5.0",
            "_model_name": "HBoxModel",
            "_view_count": null,
            "_view_module": "@jupyter-widgets/controls",
            "_view_module_version": "1.5.0",
            "_view_name": "HBoxView",
            "box_style": "",
            "children": [
              "IPY_MODEL_4f8cc144a5c04d73bf4fb09cb1a5d208",
              "IPY_MODEL_2c97518cb6054f5ca7df431c54cfbaf8",
              "IPY_MODEL_ace98f13fca54e9b941894aef5568cf4"
            ],
            "layout": "IPY_MODEL_54394e8ad8494d2db872518b220f82db"
          }
        },
        "4f8cc144a5c04d73bf4fb09cb1a5d208": {
          "model_module": "@jupyter-widgets/controls",
          "model_name": "HTMLModel",
          "model_module_version": "1.5.0",
          "state": {
            "_dom_classes": [],
            "_model_module": "@jupyter-widgets/controls",
            "_model_module_version": "1.5.0",
            "_model_name": "HTMLModel",
            "_view_count": null,
            "_view_module": "@jupyter-widgets/controls",
            "_view_module_version": "1.5.0",
            "_view_name": "HTMLView",
            "description": "",
            "description_tooltip": null,
            "layout": "IPY_MODEL_645443c824e047b0a839d088a537aae7",
            "placeholder": "​",
            "style": "IPY_MODEL_2321aa1c1e804188bc70969109fd305c",
            "value": "special_tokens_map.json: 100%"
          }
        },
        "2c97518cb6054f5ca7df431c54cfbaf8": {
          "model_module": "@jupyter-widgets/controls",
          "model_name": "FloatProgressModel",
          "model_module_version": "1.5.0",
          "state": {
            "_dom_classes": [],
            "_model_module": "@jupyter-widgets/controls",
            "_model_module_version": "1.5.0",
            "_model_name": "FloatProgressModel",
            "_view_count": null,
            "_view_module": "@jupyter-widgets/controls",
            "_view_module_version": "1.5.0",
            "_view_name": "ProgressView",
            "bar_style": "success",
            "description": "",
            "description_tooltip": null,
            "layout": "IPY_MODEL_aa16e9495dd447afb53bbbada3af68ab",
            "max": 772,
            "min": 0,
            "orientation": "horizontal",
            "style": "IPY_MODEL_027075901d604b47a81ee83e4ba9a52c",
            "value": 772
          }
        },
        "ace98f13fca54e9b941894aef5568cf4": {
          "model_module": "@jupyter-widgets/controls",
          "model_name": "HTMLModel",
          "model_module_version": "1.5.0",
          "state": {
            "_dom_classes": [],
            "_model_module": "@jupyter-widgets/controls",
            "_model_module_version": "1.5.0",
            "_model_name": "HTMLModel",
            "_view_count": null,
            "_view_module": "@jupyter-widgets/controls",
            "_view_module_version": "1.5.0",
            "_view_name": "HTMLView",
            "description": "",
            "description_tooltip": null,
            "layout": "IPY_MODEL_37a5114af60c4373bcb1f9672ec8f90c",
            "placeholder": "​",
            "style": "IPY_MODEL_b137eea91aae410ba6c869a3f4b96a55",
            "value": " 772/772 [00:00&lt;00:00, 18.9kB/s]"
          }
        },
        "54394e8ad8494d2db872518b220f82db": {
          "model_module": "@jupyter-widgets/base",
          "model_name": "LayoutModel",
          "model_module_version": "1.2.0",
          "state": {
            "_model_module": "@jupyter-widgets/base",
            "_model_module_version": "1.2.0",
            "_model_name": "LayoutModel",
            "_view_count": null,
            "_view_module": "@jupyter-widgets/base",
            "_view_module_version": "1.2.0",
            "_view_name": "LayoutView",
            "align_content": null,
            "align_items": null,
            "align_self": null,
            "border": null,
            "bottom": null,
            "display": null,
            "flex": null,
            "flex_flow": null,
            "grid_area": null,
            "grid_auto_columns": null,
            "grid_auto_flow": null,
            "grid_auto_rows": null,
            "grid_column": null,
            "grid_gap": null,
            "grid_row": null,
            "grid_template_areas": null,
            "grid_template_columns": null,
            "grid_template_rows": null,
            "height": null,
            "justify_content": null,
            "justify_items": null,
            "left": null,
            "margin": null,
            "max_height": null,
            "max_width": null,
            "min_height": null,
            "min_width": null,
            "object_fit": null,
            "object_position": null,
            "order": null,
            "overflow": null,
            "overflow_x": null,
            "overflow_y": null,
            "padding": null,
            "right": null,
            "top": null,
            "visibility": null,
            "width": null
          }
        },
        "645443c824e047b0a839d088a537aae7": {
          "model_module": "@jupyter-widgets/base",
          "model_name": "LayoutModel",
          "model_module_version": "1.2.0",
          "state": {
            "_model_module": "@jupyter-widgets/base",
            "_model_module_version": "1.2.0",
            "_model_name": "LayoutModel",
            "_view_count": null,
            "_view_module": "@jupyter-widgets/base",
            "_view_module_version": "1.2.0",
            "_view_name": "LayoutView",
            "align_content": null,
            "align_items": null,
            "align_self": null,
            "border": null,
            "bottom": null,
            "display": null,
            "flex": null,
            "flex_flow": null,
            "grid_area": null,
            "grid_auto_columns": null,
            "grid_auto_flow": null,
            "grid_auto_rows": null,
            "grid_column": null,
            "grid_gap": null,
            "grid_row": null,
            "grid_template_areas": null,
            "grid_template_columns": null,
            "grid_template_rows": null,
            "height": null,
            "justify_content": null,
            "justify_items": null,
            "left": null,
            "margin": null,
            "max_height": null,
            "max_width": null,
            "min_height": null,
            "min_width": null,
            "object_fit": null,
            "object_position": null,
            "order": null,
            "overflow": null,
            "overflow_x": null,
            "overflow_y": null,
            "padding": null,
            "right": null,
            "top": null,
            "visibility": null,
            "width": null
          }
        },
        "2321aa1c1e804188bc70969109fd305c": {
          "model_module": "@jupyter-widgets/controls",
          "model_name": "DescriptionStyleModel",
          "model_module_version": "1.5.0",
          "state": {
            "_model_module": "@jupyter-widgets/controls",
            "_model_module_version": "1.5.0",
            "_model_name": "DescriptionStyleModel",
            "_view_count": null,
            "_view_module": "@jupyter-widgets/base",
            "_view_module_version": "1.2.0",
            "_view_name": "StyleView",
            "description_width": ""
          }
        },
        "aa16e9495dd447afb53bbbada3af68ab": {
          "model_module": "@jupyter-widgets/base",
          "model_name": "LayoutModel",
          "model_module_version": "1.2.0",
          "state": {
            "_model_module": "@jupyter-widgets/base",
            "_model_module_version": "1.2.0",
            "_model_name": "LayoutModel",
            "_view_count": null,
            "_view_module": "@jupyter-widgets/base",
            "_view_module_version": "1.2.0",
            "_view_name": "LayoutView",
            "align_content": null,
            "align_items": null,
            "align_self": null,
            "border": null,
            "bottom": null,
            "display": null,
            "flex": null,
            "flex_flow": null,
            "grid_area": null,
            "grid_auto_columns": null,
            "grid_auto_flow": null,
            "grid_auto_rows": null,
            "grid_column": null,
            "grid_gap": null,
            "grid_row": null,
            "grid_template_areas": null,
            "grid_template_columns": null,
            "grid_template_rows": null,
            "height": null,
            "justify_content": null,
            "justify_items": null,
            "left": null,
            "margin": null,
            "max_height": null,
            "max_width": null,
            "min_height": null,
            "min_width": null,
            "object_fit": null,
            "object_position": null,
            "order": null,
            "overflow": null,
            "overflow_x": null,
            "overflow_y": null,
            "padding": null,
            "right": null,
            "top": null,
            "visibility": null,
            "width": null
          }
        },
        "027075901d604b47a81ee83e4ba9a52c": {
          "model_module": "@jupyter-widgets/controls",
          "model_name": "ProgressStyleModel",
          "model_module_version": "1.5.0",
          "state": {
            "_model_module": "@jupyter-widgets/controls",
            "_model_module_version": "1.5.0",
            "_model_name": "ProgressStyleModel",
            "_view_count": null,
            "_view_module": "@jupyter-widgets/base",
            "_view_module_version": "1.2.0",
            "_view_name": "StyleView",
            "bar_color": null,
            "description_width": ""
          }
        },
        "37a5114af60c4373bcb1f9672ec8f90c": {
          "model_module": "@jupyter-widgets/base",
          "model_name": "LayoutModel",
          "model_module_version": "1.2.0",
          "state": {
            "_model_module": "@jupyter-widgets/base",
            "_model_module_version": "1.2.0",
            "_model_name": "LayoutModel",
            "_view_count": null,
            "_view_module": "@jupyter-widgets/base",
            "_view_module_version": "1.2.0",
            "_view_name": "LayoutView",
            "align_content": null,
            "align_items": null,
            "align_self": null,
            "border": null,
            "bottom": null,
            "display": null,
            "flex": null,
            "flex_flow": null,
            "grid_area": null,
            "grid_auto_columns": null,
            "grid_auto_flow": null,
            "grid_auto_rows": null,
            "grid_column": null,
            "grid_gap": null,
            "grid_row": null,
            "grid_template_areas": null,
            "grid_template_columns": null,
            "grid_template_rows": null,
            "height": null,
            "justify_content": null,
            "justify_items": null,
            "left": null,
            "margin": null,
            "max_height": null,
            "max_width": null,
            "min_height": null,
            "min_width": null,
            "object_fit": null,
            "object_position": null,
            "order": null,
            "overflow": null,
            "overflow_x": null,
            "overflow_y": null,
            "padding": null,
            "right": null,
            "top": null,
            "visibility": null,
            "width": null
          }
        },
        "b137eea91aae410ba6c869a3f4b96a55": {
          "model_module": "@jupyter-widgets/controls",
          "model_name": "DescriptionStyleModel",
          "model_module_version": "1.5.0",
          "state": {
            "_model_module": "@jupyter-widgets/controls",
            "_model_module_version": "1.5.0",
            "_model_name": "DescriptionStyleModel",
            "_view_count": null,
            "_view_module": "@jupyter-widgets/base",
            "_view_module_version": "1.2.0",
            "_view_name": "StyleView",
            "description_width": ""
          }
        },
        "a12f27f4132a491d915dc1044f2149d5": {
          "model_module": "@jupyter-widgets/controls",
          "model_name": "HBoxModel",
          "model_module_version": "1.5.0",
          "state": {
            "_dom_classes": [],
            "_model_module": "@jupyter-widgets/controls",
            "_model_module_version": "1.5.0",
            "_model_name": "HBoxModel",
            "_view_count": null,
            "_view_module": "@jupyter-widgets/controls",
            "_view_module_version": "1.5.0",
            "_view_name": "HBoxView",
            "box_style": "",
            "children": [
              "IPY_MODEL_9aa0e0906e924b538264ce58a419a353",
              "IPY_MODEL_1c0db4627d5e4ddc919f03b26d2f97c9",
              "IPY_MODEL_8d387ad458ca4dd996aa75c64827420a"
            ],
            "layout": "IPY_MODEL_f66f091383e14b01a6e6a3584bf64c9a"
          }
        },
        "9aa0e0906e924b538264ce58a419a353": {
          "model_module": "@jupyter-widgets/controls",
          "model_name": "HTMLModel",
          "model_module_version": "1.5.0",
          "state": {
            "_dom_classes": [],
            "_model_module": "@jupyter-widgets/controls",
            "_model_module_version": "1.5.0",
            "_model_name": "HTMLModel",
            "_view_count": null,
            "_view_module": "@jupyter-widgets/controls",
            "_view_module_version": "1.5.0",
            "_view_name": "HTMLView",
            "description": "",
            "description_tooltip": null,
            "layout": "IPY_MODEL_a9571d5182e543afac8b9d5220803bcb",
            "placeholder": "​",
            "style": "IPY_MODEL_dd7d7d96e7a8469399982d1f1254474f",
            "value": "model.safetensors: 100%"
          }
        },
        "1c0db4627d5e4ddc919f03b26d2f97c9": {
          "model_module": "@jupyter-widgets/controls",
          "model_name": "FloatProgressModel",
          "model_module_version": "1.5.0",
          "state": {
            "_dom_classes": [],
            "_model_module": "@jupyter-widgets/controls",
            "_model_module_version": "1.5.0",
            "_model_name": "FloatProgressModel",
            "_view_count": null,
            "_view_module": "@jupyter-widgets/controls",
            "_view_module_version": "1.5.0",
            "_view_name": "ProgressView",
            "bar_style": "success",
            "description": "",
            "description_tooltip": null,
            "layout": "IPY_MODEL_7f09bd0649464c9ea790ba102d68caa0",
            "max": 496254442,
            "min": 0,
            "orientation": "horizontal",
            "style": "IPY_MODEL_d84ad0a3849c4c6095287d3ae7b2cf6b",
            "value": 496254442
          }
        },
        "8d387ad458ca4dd996aa75c64827420a": {
          "model_module": "@jupyter-widgets/controls",
          "model_name": "HTMLModel",
          "model_module_version": "1.5.0",
          "state": {
            "_dom_classes": [],
            "_model_module": "@jupyter-widgets/controls",
            "_model_module_version": "1.5.0",
            "_model_name": "HTMLModel",
            "_view_count": null,
            "_view_module": "@jupyter-widgets/controls",
            "_view_module_version": "1.5.0",
            "_view_name": "HTMLView",
            "description": "",
            "description_tooltip": null,
            "layout": "IPY_MODEL_2797ac5f8abb412e9501bd930427f5d8",
            "placeholder": "​",
            "style": "IPY_MODEL_4b7ff72ad7a049228ea2085c9b361011",
            "value": " 496M/496M [00:06&lt;00:00, 47.5MB/s]"
          }
        },
        "f66f091383e14b01a6e6a3584bf64c9a": {
          "model_module": "@jupyter-widgets/base",
          "model_name": "LayoutModel",
          "model_module_version": "1.2.0",
          "state": {
            "_model_module": "@jupyter-widgets/base",
            "_model_module_version": "1.2.0",
            "_model_name": "LayoutModel",
            "_view_count": null,
            "_view_module": "@jupyter-widgets/base",
            "_view_module_version": "1.2.0",
            "_view_name": "LayoutView",
            "align_content": null,
            "align_items": null,
            "align_self": null,
            "border": null,
            "bottom": null,
            "display": null,
            "flex": null,
            "flex_flow": null,
            "grid_area": null,
            "grid_auto_columns": null,
            "grid_auto_flow": null,
            "grid_auto_rows": null,
            "grid_column": null,
            "grid_gap": null,
            "grid_row": null,
            "grid_template_areas": null,
            "grid_template_columns": null,
            "grid_template_rows": null,
            "height": null,
            "justify_content": null,
            "justify_items": null,
            "left": null,
            "margin": null,
            "max_height": null,
            "max_width": null,
            "min_height": null,
            "min_width": null,
            "object_fit": null,
            "object_position": null,
            "order": null,
            "overflow": null,
            "overflow_x": null,
            "overflow_y": null,
            "padding": null,
            "right": null,
            "top": null,
            "visibility": null,
            "width": null
          }
        },
        "a9571d5182e543afac8b9d5220803bcb": {
          "model_module": "@jupyter-widgets/base",
          "model_name": "LayoutModel",
          "model_module_version": "1.2.0",
          "state": {
            "_model_module": "@jupyter-widgets/base",
            "_model_module_version": "1.2.0",
            "_model_name": "LayoutModel",
            "_view_count": null,
            "_view_module": "@jupyter-widgets/base",
            "_view_module_version": "1.2.0",
            "_view_name": "LayoutView",
            "align_content": null,
            "align_items": null,
            "align_self": null,
            "border": null,
            "bottom": null,
            "display": null,
            "flex": null,
            "flex_flow": null,
            "grid_area": null,
            "grid_auto_columns": null,
            "grid_auto_flow": null,
            "grid_auto_rows": null,
            "grid_column": null,
            "grid_gap": null,
            "grid_row": null,
            "grid_template_areas": null,
            "grid_template_columns": null,
            "grid_template_rows": null,
            "height": null,
            "justify_content": null,
            "justify_items": null,
            "left": null,
            "margin": null,
            "max_height": null,
            "max_width": null,
            "min_height": null,
            "min_width": null,
            "object_fit": null,
            "object_position": null,
            "order": null,
            "overflow": null,
            "overflow_x": null,
            "overflow_y": null,
            "padding": null,
            "right": null,
            "top": null,
            "visibility": null,
            "width": null
          }
        },
        "dd7d7d96e7a8469399982d1f1254474f": {
          "model_module": "@jupyter-widgets/controls",
          "model_name": "DescriptionStyleModel",
          "model_module_version": "1.5.0",
          "state": {
            "_model_module": "@jupyter-widgets/controls",
            "_model_module_version": "1.5.0",
            "_model_name": "DescriptionStyleModel",
            "_view_count": null,
            "_view_module": "@jupyter-widgets/base",
            "_view_module_version": "1.2.0",
            "_view_name": "StyleView",
            "description_width": ""
          }
        },
        "7f09bd0649464c9ea790ba102d68caa0": {
          "model_module": "@jupyter-widgets/base",
          "model_name": "LayoutModel",
          "model_module_version": "1.2.0",
          "state": {
            "_model_module": "@jupyter-widgets/base",
            "_model_module_version": "1.2.0",
            "_model_name": "LayoutModel",
            "_view_count": null,
            "_view_module": "@jupyter-widgets/base",
            "_view_module_version": "1.2.0",
            "_view_name": "LayoutView",
            "align_content": null,
            "align_items": null,
            "align_self": null,
            "border": null,
            "bottom": null,
            "display": null,
            "flex": null,
            "flex_flow": null,
            "grid_area": null,
            "grid_auto_columns": null,
            "grid_auto_flow": null,
            "grid_auto_rows": null,
            "grid_column": null,
            "grid_gap": null,
            "grid_row": null,
            "grid_template_areas": null,
            "grid_template_columns": null,
            "grid_template_rows": null,
            "height": null,
            "justify_content": null,
            "justify_items": null,
            "left": null,
            "margin": null,
            "max_height": null,
            "max_width": null,
            "min_height": null,
            "min_width": null,
            "object_fit": null,
            "object_position": null,
            "order": null,
            "overflow": null,
            "overflow_x": null,
            "overflow_y": null,
            "padding": null,
            "right": null,
            "top": null,
            "visibility": null,
            "width": null
          }
        },
        "d84ad0a3849c4c6095287d3ae7b2cf6b": {
          "model_module": "@jupyter-widgets/controls",
          "model_name": "ProgressStyleModel",
          "model_module_version": "1.5.0",
          "state": {
            "_model_module": "@jupyter-widgets/controls",
            "_model_module_version": "1.5.0",
            "_model_name": "ProgressStyleModel",
            "_view_count": null,
            "_view_module": "@jupyter-widgets/base",
            "_view_module_version": "1.2.0",
            "_view_name": "StyleView",
            "bar_color": null,
            "description_width": ""
          }
        },
        "2797ac5f8abb412e9501bd930427f5d8": {
          "model_module": "@jupyter-widgets/base",
          "model_name": "LayoutModel",
          "model_module_version": "1.2.0",
          "state": {
            "_model_module": "@jupyter-widgets/base",
            "_model_module_version": "1.2.0",
            "_model_name": "LayoutModel",
            "_view_count": null,
            "_view_module": "@jupyter-widgets/base",
            "_view_module_version": "1.2.0",
            "_view_name": "LayoutView",
            "align_content": null,
            "align_items": null,
            "align_self": null,
            "border": null,
            "bottom": null,
            "display": null,
            "flex": null,
            "flex_flow": null,
            "grid_area": null,
            "grid_auto_columns": null,
            "grid_auto_flow": null,
            "grid_auto_rows": null,
            "grid_column": null,
            "grid_gap": null,
            "grid_row": null,
            "grid_template_areas": null,
            "grid_template_columns": null,
            "grid_template_rows": null,
            "height": null,
            "justify_content": null,
            "justify_items": null,
            "left": null,
            "margin": null,
            "max_height": null,
            "max_width": null,
            "min_height": null,
            "min_width": null,
            "object_fit": null,
            "object_position": null,
            "order": null,
            "overflow": null,
            "overflow_x": null,
            "overflow_y": null,
            "padding": null,
            "right": null,
            "top": null,
            "visibility": null,
            "width": null
          }
        },
        "4b7ff72ad7a049228ea2085c9b361011": {
          "model_module": "@jupyter-widgets/controls",
          "model_name": "DescriptionStyleModel",
          "model_module_version": "1.5.0",
          "state": {
            "_model_module": "@jupyter-widgets/controls",
            "_model_module_version": "1.5.0",
            "_model_name": "DescriptionStyleModel",
            "_view_count": null,
            "_view_module": "@jupyter-widgets/base",
            "_view_module_version": "1.2.0",
            "_view_name": "StyleView",
            "description_width": ""
          }
        }
      }
    },
    "accelerator": "GPU"
  },
  "cells": [
    {
      "cell_type": "code",
      "execution_count": 1,
      "metadata": {
        "id": "8nRAB_ePUKGg"
      },
      "outputs": [],
      "source": [
        "import os\n",
        "import glob\n",
        "import json\n",
        "import timeit\n",
        "import random\n",
        "import requests\n",
        "from tqdm import tqdm\n",
        "\n",
        "import torch\n",
        "from sklearn.model_selection import train_test_split\n",
        "from sklearn.metrics import f1_score\n",
        "\n",
        "from IPython.display import display, HTML"
      ]
    },
    {
      "cell_type": "markdown",
      "source": [
        "## Download the data"
      ],
      "metadata": {
        "id": "2Fe6xjpzWFmz"
      }
    },
    {
      "cell_type": "code",
      "source": [
        "# os.makedirs('./data/', exist_ok=True)"
      ],
      "metadata": {
        "id": "aVO71o1JWEoE"
      },
      "execution_count": 2,
      "outputs": []
    },
    {
      "cell_type": "code",
      "source": [
        "# URL = 'https://raw.githubusercontent.com/Popescu-PfeifferMarc/ir-bioasq/refs/heads/master/dataset/training12b_new.json?token=GHSAT0AAAAAAC2O7C4GR5LW5AMT3KY4M6M4Z2CJTGQ'\n",
        "# DATA_PATH = './data/training12B.json'"
      ],
      "metadata": {
        "id": "zN60glJ6YNGw"
      },
      "execution_count": 3,
      "outputs": []
    },
    {
      "cell_type": "code",
      "source": [
        "# res = requests.get(URL)\n",
        "# try:\n",
        "#   data_dict = res.json()\n",
        "# except json.JSONDecodeError as e:\n",
        "#   print(\"Error parsing JSON: \", e)\n",
        "#   raise\n",
        "\n",
        "# with open(DATA_PATH, 'wb') as f:\n",
        "#   f.write(res.content)\n",
        "\n",
        "# with open(DATA_PATH, 'rb') as f:\n",
        "#   data_dict = json.load(f)"
      ],
      "metadata": {
        "id": "gkSXY8XCW5Ad"
      },
      "execution_count": 4,
      "outputs": []
    },
    {
      "cell_type": "markdown",
      "source": [
        "## Reading the data"
      ],
      "metadata": {
        "id": "Mozgo1vbXs8G"
      }
    },
    {
      "cell_type": "code",
      "source": [
        "# data_dict.keys()"
      ],
      "metadata": {
        "id": "ddhJ8LK8YkBH"
      },
      "execution_count": 5,
      "outputs": []
    },
    {
      "cell_type": "code",
      "source": [
        "# questions = []\n",
        "# answers = []\n",
        "# context = []\n",
        "\n",
        "# for question in data_dict['questions']:\n",
        "#     questions.append(question['body'])\n",
        "\n",
        "#     if question['snippets']:\n",
        "#         longest_entry = max(question['snippets'], key=lambda x: len(x[\"text\"]))\n",
        "#         context.append(longest_entry['text'])\n",
        "\n",
        "#         answers.append(dict(\n",
        "#             text=question.get('ideal_answer', [None])[0],\n",
        "#             start_idx=longest_entry['offsetInBeginSection'],\n",
        "#             end_idx=longest_entry['offsetInEndSection']))"
      ],
      "metadata": {
        "id": "kXLzqngmXzig"
      },
      "execution_count": 6,
      "outputs": []
    },
    {
      "cell_type": "code",
      "source": [
        "# questions = []\n",
        "# answers = []\n",
        "# context = []\n",
        "\n",
        "# for q in data_dict['questions']:\n",
        "#   questions.append(q['body'])\n",
        "#   context.append(q['snippets'][0]['text'])\n",
        "\n",
        "#   answers.append(dict(text=q['ideal_answer'][0],\n",
        "#                       start_idx=q['snippets'][0]['offsetInBeginSection'],\n",
        "#                       end_idx= q['snippets'][0]['offsetInEndSection']))"
      ],
      "metadata": {
        "id": "jg0-fFHvYlwu"
      },
      "execution_count": 7,
      "outputs": []
    },
    {
      "cell_type": "code",
      "source": [
        "# len(questions), len(answers), len(context)"
      ],
      "metadata": {
        "id": "18Aowx44rylC"
      },
      "execution_count": 8,
      "outputs": []
    },
    {
      "cell_type": "code",
      "source": [
        "# train_questions, val_questions, train_answers, val_answers, train_context, val_context = train_test_split(questions,\n",
        "#                                                                                                           answers,\n",
        "#                                                                                                           context,\n",
        "#                                                                                                           test_size=0.2,\n",
        "#                                                                                                           random_state=42)"
      ],
      "metadata": {
        "id": "wUsdlMXKtflQ"
      },
      "execution_count": 9,
      "outputs": []
    },
    {
      "cell_type": "code",
      "source": [
        "# test_questions, val_questions, test_answers, val_answers, test_context, val_context = train_test_split(val_questions,\n",
        "#                                                                                                        val_answers,\n",
        "#                                                                                                        val_context,\n",
        "#                                                                                                        test_size=0.5,\n",
        "#                                                                                                        random_state=42)"
      ],
      "metadata": {
        "id": "Tjkfd2edt3ig"
      },
      "execution_count": 10,
      "outputs": []
    },
    {
      "cell_type": "code",
      "source": [
        "# len(train_questions), len(val_questions), len(test_questions)"
      ],
      "metadata": {
        "id": "-CC3wp0ftu5a"
      },
      "execution_count": 11,
      "outputs": []
    },
    {
      "cell_type": "code",
      "source": [
        "# len(train_answers), len(val_answers), len(test_answers)"
      ],
      "metadata": {
        "id": "6T5y8MVOuIGA"
      },
      "execution_count": 12,
      "outputs": []
    },
    {
      "cell_type": "code",
      "source": [
        "# len(train_context), len(val_context), len(test_context)"
      ],
      "metadata": {
        "id": "4NL8SzxruKuG"
      },
      "execution_count": 13,
      "outputs": []
    },
    {
      "cell_type": "markdown",
      "source": [
        "## Download"
      ],
      "metadata": {
        "id": "n1D7RdrFeSD8"
      }
    },
    {
      "cell_type": "markdown",
      "source": [
        "### Dataset reference: https://github.com/dmis-lab/biobert"
      ],
      "metadata": {
        "id": "C-CRi999Mzfw"
      }
    },
    {
      "cell_type": "code",
      "source": [
        "!wget http://nlp.dmis.korea.edu/projects/biobert-2020-checkpoints/datasets.tar.gz"
      ],
      "metadata": {
        "colab": {
          "base_uri": "https://localhost:8080/"
        },
        "id": "DrV6PQwDeSAp",
        "outputId": "33896565-beea-4563-cf1f-7541efeaef4b"
      },
      "execution_count": 14,
      "outputs": [
        {
          "output_type": "stream",
          "name": "stdout",
          "text": [
            "--2024-11-24 16:48:31--  http://nlp.dmis.korea.edu/projects/biobert-2020-checkpoints/datasets.tar.gz\n",
            "Resolving nlp.dmis.korea.edu (nlp.dmis.korea.edu)... 163.152.163.168\n",
            "Connecting to nlp.dmis.korea.edu (nlp.dmis.korea.edu)|163.152.163.168|:80... connected.\n",
            "HTTP request sent, awaiting response... 200 OK\n",
            "Length: 29610233 (28M) [application/x-gzip]\n",
            "Saving to: ‘datasets.tar.gz’\n",
            "\n",
            "datasets.tar.gz     100%[===================>]  28.24M   938KB/s    in 56s     \n",
            "\n",
            "2024-11-24 16:49:28 (520 KB/s) - ‘datasets.tar.gz’ saved [29610233/29610233]\n",
            "\n"
          ]
        }
      ]
    },
    {
      "cell_type": "code",
      "source": [
        "!tar -xzvf datasets.tar.gz"
      ],
      "metadata": {
        "colab": {
          "base_uri": "https://localhost:8080/"
        },
        "collapsed": true,
        "id": "GJJT1oB8eR9X",
        "outputId": "fdf2adac-bd03-44be-f652-805a2ba3cb0c"
      },
      "execution_count": 15,
      "outputs": [
        {
          "output_type": "stream",
          "name": "stdout",
          "text": [
            "datasets/\n",
            "datasets/RE/\n",
            "datasets/RE/GAD/\n",
            "datasets/RE/GAD/6/\n",
            "datasets/RE/GAD/6/test.tsv\n",
            "datasets/RE/GAD/6/dev.tsv\n",
            "datasets/RE/GAD/6/train.tsv\n",
            "datasets/RE/GAD/7/\n",
            "datasets/RE/GAD/7/test.tsv\n",
            "datasets/RE/GAD/7/dev.tsv\n",
            "datasets/RE/GAD/7/train.tsv\n",
            "datasets/RE/GAD/5/\n",
            "datasets/RE/GAD/5/test.tsv\n",
            "datasets/RE/GAD/5/dev.tsv\n",
            "datasets/RE/GAD/5/train.tsv\n",
            "datasets/RE/GAD/8/\n",
            "datasets/RE/GAD/8/test.tsv\n",
            "datasets/RE/GAD/8/dev.tsv\n",
            "datasets/RE/GAD/8/train.tsv\n",
            "datasets/RE/GAD/4/\n",
            "datasets/RE/GAD/4/test.tsv\n",
            "datasets/RE/GAD/4/dev.tsv\n",
            "datasets/RE/GAD/4/train.tsv\n",
            "datasets/RE/GAD/1/\n",
            "datasets/RE/GAD/1/test.tsv\n",
            "datasets/RE/GAD/1/dev.tsv\n",
            "datasets/RE/GAD/1/train.tsv\n",
            "datasets/RE/GAD/2/\n",
            "datasets/RE/GAD/2/test.tsv\n",
            "datasets/RE/GAD/2/dev.tsv\n",
            "datasets/RE/GAD/2/train.tsv\n",
            "datasets/RE/GAD/3/\n",
            "datasets/RE/GAD/3/test.tsv\n",
            "datasets/RE/GAD/3/dev.tsv\n",
            "datasets/RE/GAD/3/train.tsv\n",
            "datasets/RE/GAD/9/\n",
            "datasets/RE/GAD/9/test.tsv\n",
            "datasets/RE/GAD/9/dev.tsv\n",
            "datasets/RE/GAD/9/train.tsv\n",
            "datasets/RE/GAD/10/\n",
            "datasets/RE/GAD/10/test.tsv\n",
            "datasets/RE/GAD/10/dev.tsv\n",
            "datasets/RE/GAD/10/train.tsv\n",
            "datasets/RE/euadr/\n",
            "datasets/RE/euadr/6/\n",
            "datasets/RE/euadr/6/test.tsv\n",
            "datasets/RE/euadr/6/dev.tsv\n",
            "datasets/RE/euadr/6/train.tsv\n",
            "datasets/RE/euadr/7/\n",
            "datasets/RE/euadr/7/test.tsv\n",
            "datasets/RE/euadr/7/dev.tsv\n",
            "datasets/RE/euadr/7/train.tsv\n",
            "datasets/RE/euadr/5/\n",
            "datasets/RE/euadr/5/test.tsv\n",
            "datasets/RE/euadr/5/dev.tsv\n",
            "datasets/RE/euadr/5/train.tsv\n",
            "datasets/RE/euadr/8/\n",
            "datasets/RE/euadr/8/test.tsv\n",
            "datasets/RE/euadr/8/dev.tsv\n",
            "datasets/RE/euadr/8/train.tsv\n",
            "datasets/RE/euadr/4/\n",
            "datasets/RE/euadr/4/test.tsv\n",
            "datasets/RE/euadr/4/dev.tsv\n",
            "datasets/RE/euadr/4/train.tsv\n",
            "datasets/RE/euadr/1/\n",
            "datasets/RE/euadr/1/test.tsv\n",
            "datasets/RE/euadr/1/dev.tsv\n",
            "datasets/RE/euadr/1/train.tsv\n",
            "datasets/RE/euadr/2/\n",
            "datasets/RE/euadr/2/test.tsv\n",
            "datasets/RE/euadr/2/dev.tsv\n",
            "datasets/RE/euadr/2/train.tsv\n",
            "datasets/RE/euadr/3/\n",
            "datasets/RE/euadr/3/test.tsv\n",
            "datasets/RE/euadr/3/dev.tsv\n",
            "datasets/RE/euadr/3/train.tsv\n",
            "datasets/RE/euadr/9/\n",
            "datasets/RE/euadr/9/test.tsv\n",
            "datasets/RE/euadr/9/dev.tsv\n",
            "datasets/RE/euadr/9/train.tsv\n",
            "datasets/RE/euadr/10/\n",
            "datasets/RE/euadr/10/test.tsv\n",
            "datasets/RE/euadr/10/dev.tsv\n",
            "datasets/RE/euadr/10/train.tsv\n",
            "datasets/QA/\n",
            "datasets/QA/BioASQ/\n",
            "datasets/QA/BioASQ/6B1_golden.json\n",
            "datasets/QA/BioASQ/BioASQ-test-factoid-7b.json\n",
            "datasets/QA/BioASQ/BioASQ-test-factoid-5b-4.json\n",
            "datasets/QA/BioASQ/5B3_golden.json\n",
            "datasets/QA/BioASQ/BioASQ-test-factoid-4b-2.json\n",
            "datasets/QA/BioASQ/4B1_golden.json\n",
            "datasets/QA/BioASQ/BioASQ-train-yesno-7b.json\n",
            "datasets/QA/BioASQ/BioASQ-test-factoid-5b-5.json\n",
            "datasets/QA/BioASQ/BioASQ-test-factoid-5b-2.json\n",
            "datasets/QA/BioASQ/BioASQ-test-factoid-6b-2.json\n",
            "datasets/QA/BioASQ/4B4_golden.json\n",
            "datasets/QA/BioASQ/BioASQ-test-factoid-6b-3.json\n",
            "datasets/QA/BioASQ/6B3_golden.json\n",
            "datasets/QA/BioASQ/BioASQ-test-factoid-5b-3.json\n",
            "datasets/QA/BioASQ/BioASQ-test-factoid-6b-5.json\n",
            "datasets/QA/BioASQ/BioASQ-test-yesno-7b.json\n",
            "datasets/QA/BioASQ/BioASQ-train-factoid-4b.json\n",
            "datasets/QA/BioASQ/BioASQ-test-factoid-4b-1.json\n",
            "datasets/QA/BioASQ/6B5_golden.json\n",
            "datasets/QA/BioASQ/5B1_golden.json\n",
            "datasets/QA/BioASQ/4B5_golden.json\n",
            "datasets/QA/BioASQ/BioASQ-test-factoid-4b-3.json\n",
            "datasets/QA/BioASQ/7B_golden.json\n",
            "datasets/QA/BioASQ/5B4_golden.json\n",
            "datasets/QA/BioASQ/BioASQ-train-factoid-6b.json\n",
            "datasets/QA/BioASQ/BioASQ-train-factoid-7b.json\n",
            "datasets/QA/BioASQ/SHA1.txt\n",
            "datasets/QA/BioASQ/BioASQ-test-factoid-6b-1.json\n",
            "datasets/QA/BioASQ/BioASQ-train-factoid-5b.json\n",
            "datasets/QA/BioASQ/5B2_golden.json\n",
            "datasets/QA/BioASQ/BioASQ-test-factoid-6b-4.json\n",
            "datasets/QA/BioASQ/BioASQ-test-factoid-5b-1.json\n",
            "datasets/QA/BioASQ/4B3_golden.json\n",
            "datasets/QA/BioASQ/6B2_golden.json\n",
            "datasets/QA/BioASQ/4B2_golden.json\n",
            "datasets/QA/BioASQ/6B4_golden.json\n",
            "datasets/QA/BioASQ/BioASQ-test-factoid-4b-5.json\n",
            "datasets/QA/BioASQ/5B5_golden.json\n",
            "datasets/QA/BioASQ/BioASQ-test-factoid-4b-4.json\n",
            "datasets/NER/\n",
            "datasets/NER/linnaeus/\n",
            "datasets/NER/linnaeus/devel.tsv\n",
            "datasets/NER/linnaeus/test.tsv\n",
            "datasets/NER/linnaeus/train_dev.tsv\n",
            "datasets/NER/linnaeus/train.tsv\n",
            "datasets/NER/BC2GM/\n",
            "datasets/NER/BC2GM/devel.tsv\n",
            "datasets/NER/BC2GM/test.tsv\n",
            "datasets/NER/BC2GM/train_dev.tsv\n",
            "datasets/NER/BC2GM/train.tsv\n",
            "datasets/NER/BC5CDR-disease/\n",
            "datasets/NER/BC5CDR-disease/devel.tsv\n",
            "datasets/NER/BC5CDR-disease/test.tsv\n",
            "datasets/NER/BC5CDR-disease/train_dev.tsv\n",
            "datasets/NER/BC5CDR-disease/train.tsv\n",
            "datasets/NER/NCBI-disease/\n",
            "datasets/NER/NCBI-disease/devel.tsv\n",
            "datasets/NER/NCBI-disease/test.tsv\n",
            "datasets/NER/NCBI-disease/train_dev.tsv\n",
            "datasets/NER/NCBI-disease/train.tsv\n",
            "datasets/NER/s800/\n",
            "datasets/NER/s800/devel.tsv\n",
            "datasets/NER/s800/test.tsv\n",
            "datasets/NER/s800/train_dev.tsv\n",
            "datasets/NER/s800/train.tsv\n",
            "datasets/NER/BC5CDR-chem/\n",
            "datasets/NER/BC5CDR-chem/devel.tsv\n",
            "datasets/NER/BC5CDR-chem/test.tsv\n",
            "datasets/NER/BC5CDR-chem/train_dev.tsv\n",
            "datasets/NER/BC5CDR-chem/train.tsv\n",
            "datasets/NER/JNLPBA/\n",
            "datasets/NER/JNLPBA/devel.tsv\n",
            "datasets/NER/JNLPBA/test.tsv\n",
            "datasets/NER/JNLPBA/train_dev.tsv\n",
            "datasets/NER/JNLPBA/train.tsv\n",
            "datasets/NER/BC4CHEMD/\n",
            "datasets/NER/BC4CHEMD/devel.tsv\n",
            "datasets/NER/BC4CHEMD/test.tsv\n",
            "datasets/NER/BC4CHEMD/train_dev.tsv\n",
            "datasets/NER/BC4CHEMD/train.tsv\n"
          ]
        }
      ]
    },
    {
      "cell_type": "code",
      "source": [
        "!rm -rf datasets.tar.gz"
      ],
      "metadata": {
        "id": "idyRRv0vfoWQ"
      },
      "execution_count": 16,
      "outputs": []
    },
    {
      "cell_type": "code",
      "source": [
        "# with open('/content/datasets/QA/BioASQ/BioASQ-train-factoid-4b.json') as f:\n",
        "#   data = json.load(f)"
      ],
      "metadata": {
        "id": "DaslGxU7eR3Y"
      },
      "execution_count": 17,
      "outputs": []
    },
    {
      "cell_type": "code",
      "source": [
        "# data.keys()"
      ],
      "metadata": {
        "id": "hOwjVcW8eR0H"
      },
      "execution_count": 18,
      "outputs": []
    },
    {
      "cell_type": "code",
      "source": [
        "# data['data'][0].keys()"
      ],
      "metadata": {
        "id": "PNh5F3nIgX2S"
      },
      "execution_count": 19,
      "outputs": []
    },
    {
      "cell_type": "code",
      "source": [
        "# data['data'][0]['paragraphs'][0]"
      ],
      "metadata": {
        "id": "NRSfc3tCgcSa"
      },
      "execution_count": 20,
      "outputs": []
    },
    {
      "cell_type": "code",
      "source": [
        "def extract_data(file_path):\n",
        "\n",
        "  questions_list = []\n",
        "  context_list = []\n",
        "  answers_list = []\n",
        "\n",
        "  with open(file_path) as f:\n",
        "    data = json.load(f)\n",
        "\n",
        "  questions = data['data'][0]['paragraphs']\n",
        "\n",
        "  for question in questions:\n",
        "    context = question['context']\n",
        "    for qna in question['qas']:\n",
        "      question = qna['question']\n",
        "      answers = qna['answers']\n",
        "      for ans in answers:\n",
        "        answer = ans['text']\n",
        "        start_idx = ans['answer_start']\n",
        "        end_idx = start_idx + len(answer)\n",
        "        questions_list.append(question)\n",
        "        context_list.append(context)\n",
        "        answers_list.append(dict(text=answer, start_idx=start_idx, end_idx=end_idx))\n",
        "\n",
        "  return questions_list, context_list, answers_list"
      ],
      "metadata": {
        "id": "LQzKY3POhdc8"
      },
      "execution_count": 24,
      "outputs": []
    },
    {
      "cell_type": "code",
      "source": [
        "for path in glob.glob('/content/datasets/QA/BioASQ/BioASQ-train-factoid*'):\n",
        "  print(path)"
      ],
      "metadata": {
        "colab": {
          "base_uri": "https://localhost:8080/"
        },
        "id": "0oDU0vi5m5Ny",
        "outputId": "ec004a11-d320-4ff5-a338-8296fb278044"
      },
      "execution_count": 25,
      "outputs": [
        {
          "output_type": "stream",
          "name": "stdout",
          "text": [
            "/content/datasets/QA/BioASQ/BioASQ-train-factoid-4b.json\n",
            "/content/datasets/QA/BioASQ/BioASQ-train-factoid-7b.json\n",
            "/content/datasets/QA/BioASQ/BioASQ-train-factoid-6b.json\n",
            "/content/datasets/QA/BioASQ/BioASQ-train-factoid-5b.json\n"
          ]
        }
      ]
    },
    {
      "cell_type": "code",
      "source": [
        "questions = []\n",
        "context = []\n",
        "answers = []\n",
        "\n",
        "for path in glob.glob('/content/datasets/QA/BioASQ/BioASQ-train-factoid-*'):\n",
        "  questions, context, answers = extract_data(path)\n",
        "  questions.extend(questions)\n",
        "  context.extend(context)\n",
        "  answers.extend(answers)"
      ],
      "metadata": {
        "id": "q3Zt6cR6hdZy"
      },
      "execution_count": 26,
      "outputs": []
    },
    {
      "cell_type": "code",
      "source": [
        "len(questions), len(context), len(answers)"
      ],
      "metadata": {
        "colab": {
          "base_uri": "https://localhost:8080/"
        },
        "id": "6_hEVcpUhdT0",
        "outputId": "90f762f3-4844-4307-c91a-56679158264b"
      },
      "execution_count": 27,
      "outputs": [
        {
          "output_type": "execute_result",
          "data": {
            "text/plain": [
              "(9900, 9900, 9900)"
            ]
          },
          "metadata": {},
          "execution_count": 27
        }
      ]
    },
    {
      "cell_type": "code",
      "source": [
        "questions[0], context[0], answers[0]"
      ],
      "metadata": {
        "colab": {
          "base_uri": "https://localhost:8080/"
        },
        "id": "4vnvAgoJF20Y",
        "outputId": "f1a47836-9d87-46d2-e075-ab96f80d3f09"
      },
      "execution_count": 28,
      "outputs": [
        {
          "output_type": "execute_result",
          "data": {
            "text/plain": [
              "('Name synonym of Acrokeratosis paraneoplastica.',\n",
              " 'Acrokeratosis paraneoplastica (Bazex syndrome): report of a case associated with small cell lung carcinoma and review of the literature. Acrokeratosis paraneoplastic (Bazex syndrome) is a rare, but distinctive paraneoplastic dermatosis characterized by erythematosquamous lesions located at the acral sites and is most commonly associated with carcinomas of the upper aerodigestive tract. We report a 58-year-old female with a history of a pigmented rash on her extremities, thick keratotic plaques on her hands, and brittle nails. Chest imaging revealed a right upper lobe mass that was proven to be small cell lung carcinoma. While Bazex syndrome has been described in the dermatology literature, it is also important for the radiologist to be aware of this entity and its common presentations.',\n",
              " {'text': 'Bazex syndrome', 'start_idx': 31, 'end_idx': 45})"
            ]
          },
          "metadata": {},
          "execution_count": 28
        }
      ]
    },
    {
      "cell_type": "code",
      "source": [
        "train_questions, val_questions, train_answers, val_answers, train_context, val_context = train_test_split(questions,\n",
        "                                                                                                          answers,\n",
        "                                                                                                          context,\n",
        "                                                                                                          test_size=0.1,\n",
        "                                                                                                          random_state=42)"
      ],
      "metadata": {
        "id": "m_x8EuHkp8Bb"
      },
      "execution_count": 29,
      "outputs": []
    },
    {
      "cell_type": "code",
      "source": [
        "len(train_questions), len(val_questions), len(train_answers), len(val_answers), len(train_context), len(val_context)"
      ],
      "metadata": {
        "colab": {
          "base_uri": "https://localhost:8080/"
        },
        "id": "gS3-K1bCqzlZ",
        "outputId": "7817996d-a15f-4d77-da21-639d4f13aab8"
      },
      "execution_count": 30,
      "outputs": [
        {
          "output_type": "execute_result",
          "data": {
            "text/plain": [
              "(8910, 990, 8910, 990, 8910, 990)"
            ]
          },
          "metadata": {},
          "execution_count": 30
        }
      ]
    },
    {
      "cell_type": "code",
      "source": [
        "# test_questions, val_questions, test_answers, val_answers, test_context, val_context = train_test_split(val_questions,\n",
        "#                                                                                                        val_answers,\n",
        "#                                                                                                        val_context,\n",
        "#                                                                                                        test_size=0.5,\n",
        "#                                                                                                        random_state=42)"
      ],
      "metadata": {
        "id": "nrwhtimPrDf3"
      },
      "execution_count": 31,
      "outputs": []
    },
    {
      "cell_type": "code",
      "source": [
        "# len(train_questions), len(test_questions), len(val_questions)"
      ],
      "metadata": {
        "id": "QHMTFhylq_is"
      },
      "execution_count": 32,
      "outputs": []
    },
    {
      "cell_type": "code",
      "source": [
        "# test_questions = []\n",
        "# test_context = []\n",
        "# test_answers = []\n",
        "\n",
        "# for path in glob.glob('/content/datasets/QA/BioASQ/BioASQ-test-factoid-*'):\n",
        "#   questions, context, answers = extract_data(path)\n",
        "#   test_questions.extend(questions)\n",
        "#   test_context.extend(context)\n",
        "#   test_answers.extend(answers)"
      ],
      "metadata": {
        "id": "myHY0U4_oUfD"
      },
      "execution_count": 33,
      "outputs": []
    },
    {
      "cell_type": "code",
      "source": [
        "import transformers\n",
        "from transformers import AutoTokenizer, AutoModelForQuestionAnswering, pipeline\n",
        "\n",
        "MODEL_NAME = \"deepset/roberta-base-squad2\"\n",
        "tokenizer = AutoTokenizer.from_pretrained(MODEL_NAME)"
      ],
      "metadata": {
        "colab": {
          "base_uri": "https://localhost:8080/",
          "height": 304,
          "referenced_widgets": [
            "4d48c5433aa34319a7f41a2a55c0b2a2",
            "12d69970a3f24d5fa80a55ae97a81d6f",
            "f146030283554096b1732fe5c03bfbb1",
            "f9f647379a51463cb4b8eb233a21474a",
            "ba37e2409f9a4b24bb7432da2291c4d0",
            "8174c7dca3b049eaad993ca330926c89",
            "fc2992cfdd904661b26d7195d91741c2",
            "f69ea314ba4b4dd78bc4f3e51984c1c2",
            "30f132fb445845c4b526ddb79e29ed59",
            "9af6a7539f9d435bb076cf8d1ac246b2",
            "4ab34667d7b444c6b9b5d563db7adacc",
            "8455fc2744714cfaac24294fc9f0fa5c",
            "c2217e5fb6e54494abbe40e55d077bc8",
            "09b18a099e05448084690a5b2675f12e",
            "cdcf99e67b0e47b28e22912c1d102df4",
            "513c7e50bfc542faa1fa78ac58103e49",
            "889a054dc4564c71a3449ac4ebb6056e",
            "5bc762359eb74c4390cb72866c60821b",
            "95f84d83d88844b4abab3b18283df83b",
            "180ff53d6c3f42e48f4e78ad5bdced9e",
            "c36b96dbd4f34ce0a4cf0749a4f5df1a",
            "c64df170e6a842d288b939828713005e",
            "2b9062e48e0645ddbe793f82cf849c5b",
            "1ce9be2996de4787a89b86043b4c681f",
            "265a916ec0a34207a1bfdf80541ee6f0",
            "44221e8390474751bdc346c217cc1118",
            "6a4bdde45c124064b43b0f5df8892586",
            "d388c3cbbb0c4902a10039f6b4c0b7dd",
            "4f275ffc07f542c890ca683198be002f",
            "243f98f005a4474db1bf55849fd36dbe",
            "d4eabdb4ea264ded8e30447d4ffedd33",
            "df04faa75dc94a53b5fea58e7ac904fd",
            "5b40bcbfd2f44b6088523b7a112d625b",
            "eb14999126034e1785ef4ce3cdcf4bd6",
            "5886a7ceeff846c9bd708de74eaac5ce",
            "1041988b26f243f2805326c728608b9d",
            "18136b696a4544cfbfe81bd879d4123c",
            "223841d2e94345648279dee909b2e2c5",
            "3e689f211e734a3d8dcbb7d04561157e",
            "0bfa1e1f166c475fb0ac7a86a723cf85",
            "e2c3404eb29e4a29a4173deecba41d22",
            "7712c18b776c4aecb2638a068d496ce9",
            "c91a3499bf81479f916f788bc885d1d9",
            "10cef7113858420bb9c836e61dd103e5",
            "06ccae922a5f4d19ac25e6a9c9e9526e",
            "4f8cc144a5c04d73bf4fb09cb1a5d208",
            "2c97518cb6054f5ca7df431c54cfbaf8",
            "ace98f13fca54e9b941894aef5568cf4",
            "54394e8ad8494d2db872518b220f82db",
            "645443c824e047b0a839d088a537aae7",
            "2321aa1c1e804188bc70969109fd305c",
            "aa16e9495dd447afb53bbbada3af68ab",
            "027075901d604b47a81ee83e4ba9a52c",
            "37a5114af60c4373bcb1f9672ec8f90c",
            "b137eea91aae410ba6c869a3f4b96a55"
          ]
        },
        "id": "JnVEwD3lu815",
        "outputId": "1542812c-79db-43a2-8978-9f23e33edd49"
      },
      "execution_count": 34,
      "outputs": [
        {
          "output_type": "stream",
          "name": "stderr",
          "text": [
            "/usr/local/lib/python3.10/dist-packages/huggingface_hub/utils/_auth.py:94: UserWarning: \n",
            "The secret `HF_TOKEN` does not exist in your Colab secrets.\n",
            "To authenticate with the Hugging Face Hub, create a token in your settings tab (https://huggingface.co/settings/tokens), set it as secret in your Google Colab and restart your session.\n",
            "You will be able to reuse this secret in all of your notebooks.\n",
            "Please note that authentication is recommended but still optional to access public models or datasets.\n",
            "  warnings.warn(\n"
          ]
        },
        {
          "output_type": "display_data",
          "data": {
            "text/plain": [
              "tokenizer_config.json:   0%|          | 0.00/79.0 [00:00<?, ?B/s]"
            ],
            "application/vnd.jupyter.widget-view+json": {
              "version_major": 2,
              "version_minor": 0,
              "model_id": "4d48c5433aa34319a7f41a2a55c0b2a2"
            }
          },
          "metadata": {}
        },
        {
          "output_type": "display_data",
          "data": {
            "text/plain": [
              "config.json:   0%|          | 0.00/571 [00:00<?, ?B/s]"
            ],
            "application/vnd.jupyter.widget-view+json": {
              "version_major": 2,
              "version_minor": 0,
              "model_id": "8455fc2744714cfaac24294fc9f0fa5c"
            }
          },
          "metadata": {}
        },
        {
          "output_type": "display_data",
          "data": {
            "text/plain": [
              "vocab.json:   0%|          | 0.00/899k [00:00<?, ?B/s]"
            ],
            "application/vnd.jupyter.widget-view+json": {
              "version_major": 2,
              "version_minor": 0,
              "model_id": "2b9062e48e0645ddbe793f82cf849c5b"
            }
          },
          "metadata": {}
        },
        {
          "output_type": "display_data",
          "data": {
            "text/plain": [
              "merges.txt:   0%|          | 0.00/456k [00:00<?, ?B/s]"
            ],
            "application/vnd.jupyter.widget-view+json": {
              "version_major": 2,
              "version_minor": 0,
              "model_id": "eb14999126034e1785ef4ce3cdcf4bd6"
            }
          },
          "metadata": {}
        },
        {
          "output_type": "display_data",
          "data": {
            "text/plain": [
              "special_tokens_map.json:   0%|          | 0.00/772 [00:00<?, ?B/s]"
            ],
            "application/vnd.jupyter.widget-view+json": {
              "version_major": 2,
              "version_minor": 0,
              "model_id": "06ccae922a5f4d19ac25e6a9c9e9526e"
            }
          },
          "metadata": {}
        }
      ]
    },
    {
      "cell_type": "code",
      "source": [
        "train_encodings = tokenizer(train_context, train_questions, truncation=True, padding=True)\n",
        "val_encodings = tokenizer(val_context, val_questions, truncation=True, padding=True)\n",
        "# test_encodings = tokenizer(test_context, test_questions, truncation=True, padding=True)"
      ],
      "metadata": {
        "id": "RkkNx_cxwafL"
      },
      "execution_count": 35,
      "outputs": []
    },
    {
      "source": [
        "def add_token_positions(encodings, answers):\n",
        "  # initialize lists to contain the token indices of answer start/end\n",
        "  start_positions = []\n",
        "  end_positions = []\n",
        "  for i in range(len(answers)):\n",
        "    # append start/end token position using char_to_token method\n",
        "    # Check if start_idx is non-negative before calling char_to_token\n",
        "    start_idx = answers[i]['start_idx']\n",
        "    if start_idx >= 0:\n",
        "      start_positions.append(encodings.char_to_token(i, start_idx))\n",
        "    else:\n",
        "      # Handle negative start_idx, e.g., set to 0 or skip\n",
        "      start_positions.append(0)  # or None, depending on your logic\n",
        "\n",
        "    # Check if end_idx is non-negative before calling char_to_token\n",
        "    end_idx = answers[i]['end_idx']\n",
        "    if end_idx >= 0:\n",
        "      end_positions.append(encodings.char_to_token(i, end_idx))\n",
        "    else:\n",
        "      # Handle negative end_idx, e.g., set to 0 or skip\n",
        "      end_positions.append(0)  # or None, depending on your logic\n",
        "\n",
        "    # if start position is None, the answer passage has been truncated\n",
        "    if start_positions[-1] is None:\n",
        "      start_positions[-1] = tokenizer.model_max_length\n",
        "    # end position cannot be found, char_to_token found space, so shift one token forward\n",
        "    go_back = 1\n",
        "    while end_positions[-1] is None:\n",
        "      end_pos_idx = answers[i]['end_idx'] - go_back\n",
        "      # Check if end_pos_idx is non-negative before calling char_to_token\n",
        "      if end_pos_idx >= 0:\n",
        "        end_positions[-1] = encodings.char_to_token(i, end_pos_idx)\n",
        "      else:\n",
        "        # Handle negative end_pos_idx, e.g., set to 0 or break\n",
        "        end_positions[-1] = 0  # or break the loop\n",
        "        break\n",
        "      go_back += 1\n",
        "  # update our encodings object with the new token-based start/end positions\n",
        "  encodings.update({'start_positions': start_positions, 'end_positions': end_positions})"
      ],
      "cell_type": "code",
      "metadata": {
        "id": "WR6YM5yvxpUo"
      },
      "execution_count": 36,
      "outputs": []
    },
    {
      "cell_type": "code",
      "source": [
        "add_token_positions(train_encodings, train_answers)\n",
        "add_token_positions(val_encodings, val_answers)\n",
        "# add_token_positions(test_encodings, test_answers)"
      ],
      "metadata": {
        "id": "YKenZ96YxGAA"
      },
      "execution_count": 37,
      "outputs": []
    },
    {
      "cell_type": "code",
      "source": [
        "class BioASQDataset(torch.utils.data.Dataset):\n",
        "    def __init__(self, encodings):\n",
        "        self.encodings = encodings\n",
        "\n",
        "    def __getitem__(self, idx):\n",
        "        return {key: torch.tensor(val[idx]) for key, val in self.encodings.items()}\n",
        "\n",
        "    def __len__(self):\n",
        "        return len(self.encodings.input_ids)\n",
        "\n",
        "train_dataset = BioASQDataset(train_encodings)\n",
        "val_dataset = BioASQDataset(val_encodings)\n",
        "# test_dataset = BioASQDataset(test_encodings)"
      ],
      "metadata": {
        "id": "xBxeBO0wxJNz"
      },
      "execution_count": 38,
      "outputs": []
    },
    {
      "cell_type": "code",
      "source": [
        "from google.colab import drive\n",
        "drive.mount('/content/drive')"
      ],
      "metadata": {
        "colab": {
          "base_uri": "https://localhost:8080/"
        },
        "id": "GSR-OYmDHWDR",
        "outputId": "774a50dc-2e5a-4b79-8936-ad86b758374a"
      },
      "execution_count": 39,
      "outputs": [
        {
          "output_type": "stream",
          "name": "stdout",
          "text": [
            "Drive already mounted at /content/drive; to attempt to forcibly remount, call drive.mount(\"/content/drive\", force_remount=True).\n"
          ]
        }
      ]
    },
    {
      "cell_type": "code",
      "source": [
        "# !rm -rf /content/drive/MyDrive/models/deepset"
      ],
      "metadata": {
        "id": "AJWnTTBmZLad"
      },
      "execution_count": 40,
      "outputs": []
    },
    {
      "cell_type": "code",
      "source": [
        "VERSION = 3\n",
        "LEARNING_RATE = 5e-5\n",
        "BATCH_SIZE = 16\n",
        "EPOCHS = 3\n",
        "MODEL_SAVE_PATH = f\"/content/drive/MyDrive/models/{MODEL_NAME}-lr{LEARNING_RATE}-epoch{EPOCHS}-v{VERSION}/\""
      ],
      "metadata": {
        "id": "UMZEh7CWyoJ3"
      },
      "execution_count": 41,
      "outputs": []
    },
    {
      "cell_type": "code",
      "source": [
        "transformers.utils.logging.set_verbosity_error()\n",
        "device = torch.device(\"cuda\") if torch.cuda.is_available() else torch.device(\"cpu\")"
      ],
      "metadata": {
        "id": "oYaHTErwoMlb"
      },
      "execution_count": 42,
      "outputs": []
    },
    {
      "cell_type": "code",
      "source": [
        "model = AutoModelForQuestionAnswering.from_pretrained(MODEL_NAME).to(device)\n",
        "print(model.num_parameters())"
      ],
      "metadata": {
        "colab": {
          "base_uri": "https://localhost:8080/",
          "height": 67,
          "referenced_widgets": [
            "a12f27f4132a491d915dc1044f2149d5",
            "9aa0e0906e924b538264ce58a419a353",
            "1c0db4627d5e4ddc919f03b26d2f97c9",
            "8d387ad458ca4dd996aa75c64827420a",
            "f66f091383e14b01a6e6a3584bf64c9a",
            "a9571d5182e543afac8b9d5220803bcb",
            "dd7d7d96e7a8469399982d1f1254474f",
            "7f09bd0649464c9ea790ba102d68caa0",
            "d84ad0a3849c4c6095287d3ae7b2cf6b",
            "2797ac5f8abb412e9501bd930427f5d8",
            "4b7ff72ad7a049228ea2085c9b361011"
          ]
        },
        "id": "vYwMp6z22MI2",
        "outputId": "3bd86153-3326-4ac7-f5fa-8f975af147f1"
      },
      "execution_count": 43,
      "outputs": [
        {
          "output_type": "display_data",
          "data": {
            "text/plain": [
              "model.safetensors:   0%|          | 0.00/496M [00:00<?, ?B/s]"
            ],
            "application/vnd.jupyter.widget-view+json": {
              "version_major": 2,
              "version_minor": 0,
              "model_id": "a12f27f4132a491d915dc1044f2149d5"
            }
          },
          "metadata": {}
        },
        {
          "output_type": "stream",
          "name": "stdout",
          "text": [
            "124056578\n"
          ]
        }
      ]
    },
    {
      "cell_type": "code",
      "source": [
        "train_dataloader = torch.utils.data.DataLoader(dataset=train_dataset,\n",
        "                                               batch_size=BATCH_SIZE,\n",
        "                                               shuffle=True)\n",
        "\n",
        "val_dataloader = torch.utils.data.DataLoader(dataset=val_dataset,\n",
        "                                             batch_size=BATCH_SIZE,\n",
        "                                             shuffle=False)\n",
        "\n",
        "# test_dataloader = torch.utils.data.DataLoader(dataset=test_dataset,\n",
        "#                                               batch_size=BATCH_SIZE,\n",
        "#                                               shuffle=False)"
      ],
      "metadata": {
        "id": "siBhRD0221e5"
      },
      "execution_count": 44,
      "outputs": []
    },
    {
      "cell_type": "code",
      "source": [
        "optimizer = torch.optim.AdamW(model.parameters(), lr=LEARNING_RATE)\n",
        "\n",
        "start = timeit.default_timer()\n",
        "for epoch in range(EPOCHS):\n",
        "  model.train()\n",
        "  train_running_loss = 0\n",
        "  for idx, sample in enumerate(tqdm(train_dataloader, leave=True)):\n",
        "    input_ids = sample['input_ids'].to(device)\n",
        "    attention_mask = sample['attention_mask'].to(device)\n",
        "    start_positions = sample['start_positions'].to(device)\n",
        "    end_positions = sample['end_positions'].to(device)\n",
        "    outputs = model(input_ids=input_ids,\n",
        "                    attention_mask=attention_mask,\n",
        "                    start_positions=start_positions,\n",
        "                    end_positions=end_positions)\n",
        "\n",
        "    loss = outputs.loss\n",
        "\n",
        "    optimizer.zero_grad()\n",
        "    loss.backward()\n",
        "    optimizer.step()\n",
        "    train_running_loss += loss.item()\n",
        "\n",
        "  train_loss = train_running_loss / (idx + 1)\n",
        "\n",
        "  model.eval()\n",
        "  val_running_loss = 0\n",
        "  with torch.inference_mode():\n",
        "    for idx, sample in enumerate(tqdm(val_dataloader)):\n",
        "      input_ids = sample['input_ids'].to(device)\n",
        "      attention_mask = sample['attention_mask'].to(device)\n",
        "      start_positions = sample['start_positions'].to(device)\n",
        "      end_positions = sample['end_positions'].to(device)\n",
        "      outputs = model(input_ids=input_ids,\n",
        "                      attention_mask=attention_mask,\n",
        "                      start_positions=start_positions,\n",
        "                      end_positions=end_positions)\n",
        "\n",
        "      val_running_loss += outputs.loss.item()\n",
        "    val_loss = val_running_loss / (idx + 1)\n",
        "\n",
        "  print(\"-\"*30)\n",
        "  print(f\"EPOCH: {epoch+1:02d} | Train Loss: {train_loss:.4f}\")\n",
        "  print(f\"EPOCH: {epoch+1:02d} | Valid Loss: {val_loss:.4f}\")\n",
        "  print(\"-\"*30)\n",
        "  stop = timeit.default_timer()\n",
        "  print(f\"Training Time: {stop-start:.2f}s\")\n",
        "\n",
        "  model.save_pretrained(MODEL_SAVE_PATH)\n",
        "  tokenizer.save_pretrained(MODEL_SAVE_PATH)\n",
        "\n",
        "  torch.cuda.empty_cache()"
      ],
      "metadata": {
        "id": "LyWWCarg3i3R",
        "colab": {
          "base_uri": "https://localhost:8080/"
        },
        "outputId": "19fc2ff5-4f61-4989-bcb7-e521af9543f3"
      },
      "execution_count": null,
      "outputs": [
        {
          "output_type": "stream",
          "name": "stderr",
          "text": [
            "100%|██████████| 557/557 [14:22<00:00,  1.55s/it]\n",
            "100%|██████████| 62/62 [00:28<00:00,  2.15it/s]\n"
          ]
        },
        {
          "output_type": "stream",
          "name": "stdout",
          "text": [
            "------------------------------\n",
            "EPOCH: 01 | Train Loss: 0.8564\n",
            "EPOCH: 01 | Valid Loss: 0.8830\n",
            "------------------------------\n",
            "Training Time: 891.62s\n"
          ]
        },
        {
          "output_type": "stream",
          "name": "stderr",
          "text": [
            "100%|██████████| 557/557 [14:22<00:00,  1.55s/it]\n",
            "100%|██████████| 62/62 [00:28<00:00,  2.15it/s]\n"
          ]
        },
        {
          "output_type": "stream",
          "name": "stdout",
          "text": [
            "------------------------------\n",
            "EPOCH: 02 | Train Loss: 0.8083\n",
            "EPOCH: 02 | Valid Loss: 0.8104\n",
            "------------------------------\n",
            "Training Time: 1785.62s\n"
          ]
        },
        {
          "output_type": "stream",
          "name": "stderr",
          "text": [
            "  9%|▉         | 49/557 [01:15<13:01,  1.54s/it]"
          ]
        }
      ]
    },
    {
      "cell_type": "code",
      "source": [
        "preds = []\n",
        "true = []\n",
        "running_accuracy = []\n",
        "\n",
        "model.eval()\n",
        "with torch.inference_mode():\n",
        "  for idx, sample in enumerate(tqdm(val_dataloader, leave=True)):\n",
        "    input_ids = sample['input_ids'].to(device)\n",
        "    attention_mask = sample['attention_mask'].to(device)\n",
        "    start_positions = sample['start_positions']\n",
        "    end_positions = sample['end_positions']\n",
        "\n",
        "    outputs = model(input_ids=input_ids, attention_mask=attention_mask)\n",
        "\n",
        "    start_pred = torch.argmax(outputs['start_logits'], dim=1).cpu().detach()\n",
        "    end_pred = torch.argmax(outputs['end_logits'], dim=1).cpu().detach()\n",
        "\n",
        "    preds.extend([[int(i), int(j)] for i, j in zip(start_pred, end_pred)])\n",
        "    true.extend([[int(i), int(j)] for i, j in zip(start_positions, end_positions)])\n",
        "\n",
        "    running_accuracy.append(((start_pred == start_positions).sum()/len(start_positions)).item())\n",
        "    running_accuracy.append(((end_pred == end_positions).sum()/len(end_positions)).item())\n",
        "\n",
        "preds = [item for sublist in preds for item in sublist]\n",
        "true = [item for sublist in true for item in sublist]\n",
        "\n",
        "accuracy = sum(running_accuracy)/len(running_accuracy) # average accuracy\n",
        "f1_value = f1_score(true, preds, average=\"macro\")\n",
        "print(f\"\\nAccuracy: {accuracy*100:.2f}% | F1 Score: {f1_value*100:.2f}%\")"
      ],
      "metadata": {
        "colab": {
          "base_uri": "https://localhost:8080/"
        },
        "id": "A5k3i6sI4m8A",
        "outputId": "2d1eb293-2540-4803-f686-0b8a02110434"
      },
      "execution_count": 42,
      "outputs": [
        {
          "output_type": "stream",
          "name": "stderr",
          "text": [
            "100%|██████████| 62/62 [00:28<00:00,  2.14it/s]"
          ]
        },
        {
          "output_type": "stream",
          "name": "stdout",
          "text": [
            "\n",
            "Accuracy: 62.28% | F1 Score: 43.94%\n"
          ]
        },
        {
          "output_type": "stream",
          "name": "stderr",
          "text": [
            "\n"
          ]
        }
      ]
    },
    {
      "cell_type": "code",
      "source": [
        "test_questions = []\n",
        "test_context = []\n",
        "\n",
        "for path in glob.glob('/content/datasets/QA/BioASQ/BioASQ-test-factoid-*'):\n",
        "  with open(path) as f:\n",
        "    test_data = json.load(f)\n",
        "    for q in test_data['data'][0]['paragraphs']:\n",
        "      test_questions.append(q['qas'][0]['question'])\n",
        "      test_context.append(q['context'])"
      ],
      "metadata": {
        "id": "Tg5aHfPQFBHv"
      },
      "execution_count": 45,
      "outputs": []
    },
    {
      "cell_type": "code",
      "source": [
        "len(test_questions), len(test_context)"
      ],
      "metadata": {
        "colab": {
          "base_uri": "https://localhost:8080/"
        },
        "id": "hB99E980FO45",
        "outputId": "57f7c913-3aa1-4cfa-8092-38425912b3fb"
      },
      "execution_count": 47,
      "outputs": [
        {
          "output_type": "execute_result",
          "data": {
            "text/plain": [
              "(2184, 2184)"
            ]
          },
          "metadata": {},
          "execution_count": 47
        }
      ]
    },
    {
      "cell_type": "code",
      "source": [
        "test_questions[0], test_context[0]"
      ],
      "metadata": {
        "colab": {
          "base_uri": "https://localhost:8080/"
        },
        "id": "lEVBBT5_GrFE",
        "outputId": "ae413776-2d6c-4249-cd9c-93e476df4075"
      },
      "execution_count": 50,
      "outputs": [
        {
          "output_type": "execute_result",
          "data": {
            "text/plain": [
              "('Which type of genes are modulated by SATB1?',\n",
              " \"Repression of the genome organizer SATB1 in regulatory T cells is required for suppressive function and inhibition of effector differentiation. Regulatory T cells (T(reg) cells) are essential for self-tolerance and immune homeostasis. Lack of effector T cell (T(eff) cell) function and gain of suppressive activity by T(reg) cells are dependent on the transcriptional program induced by Foxp3. Here we report that repression of SATB1, a genome organizer that regulates chromatin structure and gene expression, was crucial for the phenotype and function of T(reg) cells. Foxp3, acting as a transcriptional repressor, directly suppressed the SATB1 locus and indirectly suppressed it through the induction of microRNAs that bound the SATB1 3' untranslated region. Release of SATB1 from the control of Foxp3 in T(reg) cells caused loss of suppressive function, establishment of transcriptional T(eff) cell programs and induction of T(eff) cell cytokines. Our data support the proposal that inhibition of SATB1-mediated modulation of global chromatin remodeling is pivotal for maintaining T(reg) cell functionality.\")"
            ]
          },
          "metadata": {},
          "execution_count": 50
        }
      ]
    },
    {
      "cell_type": "code",
      "source": [
        "def model_inference(question, context, model_path=MODEL_SAVE_PATH):\n",
        "  model = AutoModelForQuestionAnswering.from_pretrained(model_path)\n",
        "  tokenizer = AutoTokenizer.from_pretrained(model_path)\n",
        "  start = timeit.default_timer()\n",
        "  qa_model = pipeline(task=\"question-answering\", model=model, tokenizer=tokenizer)\n",
        "  stop = timeit.default_timer()\n",
        "  print(f\"Inference Time: {stop-start:.2f}s\")\n",
        "  return qa_model(question=question, context=context)"
      ],
      "metadata": {
        "id": "rDKEP4aQ7pb-"
      },
      "execution_count": 48,
      "outputs": []
    },
    {
      "cell_type": "code",
      "source": [
        "def display_result(context, result):\n",
        "  before_text = context[:result['start']]\n",
        "  colored_text = context[result['start']:result['end']+1]\n",
        "  after_text = context[result['end']+1:]\n",
        "  # print(f\"Answer: {result['answer']}\")\n",
        "  display(HTML(f\"\"\"<p style='font-size: 16px; width: 50%;'>{before_text}\n",
        "    <span style='background-color: #33447f; color: white; width: {len(result[\"answer\"])}em;'>{colored_text}</span>\n",
        "    {after_text}</p>\"\"\"))"
      ],
      "metadata": {
        "id": "pd7lU7e-gVMy"
      },
      "execution_count": 49,
      "outputs": []
    },
    {
      "cell_type": "code",
      "source": [
        "random_idx = random.randint(0, len(test_questions)-1)\n",
        "question = test_questions[random_idx]\n",
        "context = test_context[random_idx]\n",
        "print(question)\n",
        "result = model_inference(question, context)\n",
        "result"
      ],
      "metadata": {
        "colab": {
          "base_uri": "https://localhost:8080/"
        },
        "id": "RN9JEcVHQsoF",
        "outputId": "d0ba6638-2ead-4acc-8bc1-a02993dc51f9"
      },
      "execution_count": 67,
      "outputs": [
        {
          "output_type": "stream",
          "name": "stdout",
          "text": [
            "Which disease is treated with Fexinidazole?\n",
            "Inference Time: 0.00s\n"
          ]
        },
        {
          "output_type": "execute_result",
          "data": {
            "text/plain": [
              "{'score': 0.23135346174240112,\n",
              " 'start': 113,\n",
              " 'end': 129,\n",
              " 'answer': 'trypanosomiasis.'}"
            ]
          },
          "metadata": {},
          "execution_count": 67
        }
      ]
    },
    {
      "cell_type": "code",
      "source": [
        "display_result(context, result)"
      ],
      "metadata": {
        "colab": {
          "base_uri": "https://localhost:8080/",
          "height": 267
        },
        "id": "I2fL_676PbnW",
        "outputId": "84404302-b40f-4ff1-b053-049468c6d544"
      },
      "execution_count": 68,
      "outputs": [
        {
          "output_type": "display_data",
          "data": {
            "text/plain": [
              "<IPython.core.display.HTML object>"
            ],
            "text/html": [
              "<p style='font-size: 16px; width: 50%;'>Dose-dependent effect and pharmacokinetics of fexinidazole and its metabolites in a mouse model of human African \n",
              "    <span style='background-color: #33447f; color: white; width: 16em;'>trypanosomiasis. </span>\n",
              "    Human African trypanosomiasis (HAT) is a neglected tropical disease, with a population of 70 million at risk. Current treatment options are limited. In the search for new therapeutics, the repurposing of the broad-spectrum antiprotozoal drug fexinidazole has completed Phase III trials with the anticipation that it will be the first oral treatment for HAT. This study used the recently validated bioluminescence imaging model to assess the dose and rate of kill effect of fexinidazole in infected mice, and the dose-dependent effect of fexinidazole on trypanosome infection. Pharmacokinetics of fexinidazole in plasma and central nervous system (CNS) compartments were similar in both infected and uninfected mice. Drug distribution within the CNS was further examined by microdialysis, showing similar levels in the cortex and hippocampus. However, high variability in drug distribution and exposure was found between mice.</p>"
            ]
          },
          "metadata": {}
        }
      ]
    },
    {
      "cell_type": "code",
      "source": [],
      "metadata": {
        "id": "O_BMtXTWqnVR"
      },
      "execution_count": null,
      "outputs": []
    }
  ]
}
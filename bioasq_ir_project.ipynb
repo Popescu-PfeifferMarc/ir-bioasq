{
  "nbformat": 4,
  "nbformat_minor": 0,
  "metadata": {
    "colab": {
      "provenance": [],
      "gpuType": "T4"
    },
    "kernelspec": {
      "name": "python3",
      "display_name": "Python 3"
    },
    "language_info": {
      "name": "python"
    },
    "widgets": {
      "application/vnd.jupyter.widget-state+json": {
        "c329075c1f6e45e0a438106c25bee95e": {
          "model_module": "@jupyter-widgets/controls",
          "model_name": "HBoxModel",
          "model_module_version": "1.5.0",
          "state": {
            "_dom_classes": [],
            "_model_module": "@jupyter-widgets/controls",
            "_model_module_version": "1.5.0",
            "_model_name": "HBoxModel",
            "_view_count": null,
            "_view_module": "@jupyter-widgets/controls",
            "_view_module_version": "1.5.0",
            "_view_name": "HBoxView",
            "box_style": "",
            "children": [
              "IPY_MODEL_29f06b3f10cd4e4a94beea864c692251",
              "IPY_MODEL_4500b275f68d42a587998fb40e393be8",
              "IPY_MODEL_550f42ac43184202a9514cf0fb301ff0"
            ],
            "layout": "IPY_MODEL_51bd09e19d554483b6e942ba0895f764"
          }
        },
        "29f06b3f10cd4e4a94beea864c692251": {
          "model_module": "@jupyter-widgets/controls",
          "model_name": "HTMLModel",
          "model_module_version": "1.5.0",
          "state": {
            "_dom_classes": [],
            "_model_module": "@jupyter-widgets/controls",
            "_model_module_version": "1.5.0",
            "_model_name": "HTMLModel",
            "_view_count": null,
            "_view_module": "@jupyter-widgets/controls",
            "_view_module_version": "1.5.0",
            "_view_name": "HTMLView",
            "description": "",
            "description_tooltip": null,
            "layout": "IPY_MODEL_d0d4aea3f17844ed98cbf961724ca3d9",
            "placeholder": "​",
            "style": "IPY_MODEL_9ceff8052d144f94b51b880a8bd2856e",
            "value": "tokenizer_config.json: 100%"
          }
        },
        "4500b275f68d42a587998fb40e393be8": {
          "model_module": "@jupyter-widgets/controls",
          "model_name": "FloatProgressModel",
          "model_module_version": "1.5.0",
          "state": {
            "_dom_classes": [],
            "_model_module": "@jupyter-widgets/controls",
            "_model_module_version": "1.5.0",
            "_model_name": "FloatProgressModel",
            "_view_count": null,
            "_view_module": "@jupyter-widgets/controls",
            "_view_module_version": "1.5.0",
            "_view_name": "ProgressView",
            "bar_style": "success",
            "description": "",
            "description_tooltip": null,
            "layout": "IPY_MODEL_9e742a364de74a0e876aa28a9e324c76",
            "max": 79,
            "min": 0,
            "orientation": "horizontal",
            "style": "IPY_MODEL_bfb2d44372734821a31cb7ce77c037e1",
            "value": 79
          }
        },
        "550f42ac43184202a9514cf0fb301ff0": {
          "model_module": "@jupyter-widgets/controls",
          "model_name": "HTMLModel",
          "model_module_version": "1.5.0",
          "state": {
            "_dom_classes": [],
            "_model_module": "@jupyter-widgets/controls",
            "_model_module_version": "1.5.0",
            "_model_name": "HTMLModel",
            "_view_count": null,
            "_view_module": "@jupyter-widgets/controls",
            "_view_module_version": "1.5.0",
            "_view_name": "HTMLView",
            "description": "",
            "description_tooltip": null,
            "layout": "IPY_MODEL_ef6d17591b6448d49527aa551f9e8cae",
            "placeholder": "​",
            "style": "IPY_MODEL_ec011e7ff04d4b62b39cc7c5cc58b3f0",
            "value": " 79.0/79.0 [00:00&lt;00:00, 2.83kB/s]"
          }
        },
        "51bd09e19d554483b6e942ba0895f764": {
          "model_module": "@jupyter-widgets/base",
          "model_name": "LayoutModel",
          "model_module_version": "1.2.0",
          "state": {
            "_model_module": "@jupyter-widgets/base",
            "_model_module_version": "1.2.0",
            "_model_name": "LayoutModel",
            "_view_count": null,
            "_view_module": "@jupyter-widgets/base",
            "_view_module_version": "1.2.0",
            "_view_name": "LayoutView",
            "align_content": null,
            "align_items": null,
            "align_self": null,
            "border": null,
            "bottom": null,
            "display": null,
            "flex": null,
            "flex_flow": null,
            "grid_area": null,
            "grid_auto_columns": null,
            "grid_auto_flow": null,
            "grid_auto_rows": null,
            "grid_column": null,
            "grid_gap": null,
            "grid_row": null,
            "grid_template_areas": null,
            "grid_template_columns": null,
            "grid_template_rows": null,
            "height": null,
            "justify_content": null,
            "justify_items": null,
            "left": null,
            "margin": null,
            "max_height": null,
            "max_width": null,
            "min_height": null,
            "min_width": null,
            "object_fit": null,
            "object_position": null,
            "order": null,
            "overflow": null,
            "overflow_x": null,
            "overflow_y": null,
            "padding": null,
            "right": null,
            "top": null,
            "visibility": null,
            "width": null
          }
        },
        "d0d4aea3f17844ed98cbf961724ca3d9": {
          "model_module": "@jupyter-widgets/base",
          "model_name": "LayoutModel",
          "model_module_version": "1.2.0",
          "state": {
            "_model_module": "@jupyter-widgets/base",
            "_model_module_version": "1.2.0",
            "_model_name": "LayoutModel",
            "_view_count": null,
            "_view_module": "@jupyter-widgets/base",
            "_view_module_version": "1.2.0",
            "_view_name": "LayoutView",
            "align_content": null,
            "align_items": null,
            "align_self": null,
            "border": null,
            "bottom": null,
            "display": null,
            "flex": null,
            "flex_flow": null,
            "grid_area": null,
            "grid_auto_columns": null,
            "grid_auto_flow": null,
            "grid_auto_rows": null,
            "grid_column": null,
            "grid_gap": null,
            "grid_row": null,
            "grid_template_areas": null,
            "grid_template_columns": null,
            "grid_template_rows": null,
            "height": null,
            "justify_content": null,
            "justify_items": null,
            "left": null,
            "margin": null,
            "max_height": null,
            "max_width": null,
            "min_height": null,
            "min_width": null,
            "object_fit": null,
            "object_position": null,
            "order": null,
            "overflow": null,
            "overflow_x": null,
            "overflow_y": null,
            "padding": null,
            "right": null,
            "top": null,
            "visibility": null,
            "width": null
          }
        },
        "9ceff8052d144f94b51b880a8bd2856e": {
          "model_module": "@jupyter-widgets/controls",
          "model_name": "DescriptionStyleModel",
          "model_module_version": "1.5.0",
          "state": {
            "_model_module": "@jupyter-widgets/controls",
            "_model_module_version": "1.5.0",
            "_model_name": "DescriptionStyleModel",
            "_view_count": null,
            "_view_module": "@jupyter-widgets/base",
            "_view_module_version": "1.2.0",
            "_view_name": "StyleView",
            "description_width": ""
          }
        },
        "9e742a364de74a0e876aa28a9e324c76": {
          "model_module": "@jupyter-widgets/base",
          "model_name": "LayoutModel",
          "model_module_version": "1.2.0",
          "state": {
            "_model_module": "@jupyter-widgets/base",
            "_model_module_version": "1.2.0",
            "_model_name": "LayoutModel",
            "_view_count": null,
            "_view_module": "@jupyter-widgets/base",
            "_view_module_version": "1.2.0",
            "_view_name": "LayoutView",
            "align_content": null,
            "align_items": null,
            "align_self": null,
            "border": null,
            "bottom": null,
            "display": null,
            "flex": null,
            "flex_flow": null,
            "grid_area": null,
            "grid_auto_columns": null,
            "grid_auto_flow": null,
            "grid_auto_rows": null,
            "grid_column": null,
            "grid_gap": null,
            "grid_row": null,
            "grid_template_areas": null,
            "grid_template_columns": null,
            "grid_template_rows": null,
            "height": null,
            "justify_content": null,
            "justify_items": null,
            "left": null,
            "margin": null,
            "max_height": null,
            "max_width": null,
            "min_height": null,
            "min_width": null,
            "object_fit": null,
            "object_position": null,
            "order": null,
            "overflow": null,
            "overflow_x": null,
            "overflow_y": null,
            "padding": null,
            "right": null,
            "top": null,
            "visibility": null,
            "width": null
          }
        },
        "bfb2d44372734821a31cb7ce77c037e1": {
          "model_module": "@jupyter-widgets/controls",
          "model_name": "ProgressStyleModel",
          "model_module_version": "1.5.0",
          "state": {
            "_model_module": "@jupyter-widgets/controls",
            "_model_module_version": "1.5.0",
            "_model_name": "ProgressStyleModel",
            "_view_count": null,
            "_view_module": "@jupyter-widgets/base",
            "_view_module_version": "1.2.0",
            "_view_name": "StyleView",
            "bar_color": null,
            "description_width": ""
          }
        },
        "ef6d17591b6448d49527aa551f9e8cae": {
          "model_module": "@jupyter-widgets/base",
          "model_name": "LayoutModel",
          "model_module_version": "1.2.0",
          "state": {
            "_model_module": "@jupyter-widgets/base",
            "_model_module_version": "1.2.0",
            "_model_name": "LayoutModel",
            "_view_count": null,
            "_view_module": "@jupyter-widgets/base",
            "_view_module_version": "1.2.0",
            "_view_name": "LayoutView",
            "align_content": null,
            "align_items": null,
            "align_self": null,
            "border": null,
            "bottom": null,
            "display": null,
            "flex": null,
            "flex_flow": null,
            "grid_area": null,
            "grid_auto_columns": null,
            "grid_auto_flow": null,
            "grid_auto_rows": null,
            "grid_column": null,
            "grid_gap": null,
            "grid_row": null,
            "grid_template_areas": null,
            "grid_template_columns": null,
            "grid_template_rows": null,
            "height": null,
            "justify_content": null,
            "justify_items": null,
            "left": null,
            "margin": null,
            "max_height": null,
            "max_width": null,
            "min_height": null,
            "min_width": null,
            "object_fit": null,
            "object_position": null,
            "order": null,
            "overflow": null,
            "overflow_x": null,
            "overflow_y": null,
            "padding": null,
            "right": null,
            "top": null,
            "visibility": null,
            "width": null
          }
        },
        "ec011e7ff04d4b62b39cc7c5cc58b3f0": {
          "model_module": "@jupyter-widgets/controls",
          "model_name": "DescriptionStyleModel",
          "model_module_version": "1.5.0",
          "state": {
            "_model_module": "@jupyter-widgets/controls",
            "_model_module_version": "1.5.0",
            "_model_name": "DescriptionStyleModel",
            "_view_count": null,
            "_view_module": "@jupyter-widgets/base",
            "_view_module_version": "1.2.0",
            "_view_name": "StyleView",
            "description_width": ""
          }
        },
        "4c4cbc3c904245e7930e35269a48d199": {
          "model_module": "@jupyter-widgets/controls",
          "model_name": "HBoxModel",
          "model_module_version": "1.5.0",
          "state": {
            "_dom_classes": [],
            "_model_module": "@jupyter-widgets/controls",
            "_model_module_version": "1.5.0",
            "_model_name": "HBoxModel",
            "_view_count": null,
            "_view_module": "@jupyter-widgets/controls",
            "_view_module_version": "1.5.0",
            "_view_name": "HBoxView",
            "box_style": "",
            "children": [
              "IPY_MODEL_1197e7ea51c5410f90223aa8fd75717c",
              "IPY_MODEL_610aa118b0f5447cb8ccd905449b9917",
              "IPY_MODEL_b98c1d7bce674670aa912b8bd03b325d"
            ],
            "layout": "IPY_MODEL_e9c9e284022f4a90a13ac55a58bc669c"
          }
        },
        "1197e7ea51c5410f90223aa8fd75717c": {
          "model_module": "@jupyter-widgets/controls",
          "model_name": "HTMLModel",
          "model_module_version": "1.5.0",
          "state": {
            "_dom_classes": [],
            "_model_module": "@jupyter-widgets/controls",
            "_model_module_version": "1.5.0",
            "_model_name": "HTMLModel",
            "_view_count": null,
            "_view_module": "@jupyter-widgets/controls",
            "_view_module_version": "1.5.0",
            "_view_name": "HTMLView",
            "description": "",
            "description_tooltip": null,
            "layout": "IPY_MODEL_f7ca0fa866d24a1ca2c14d60c59de3f1",
            "placeholder": "​",
            "style": "IPY_MODEL_d7d5011e12e1423486551e99f27f22ac",
            "value": "config.json: 100%"
          }
        },
        "610aa118b0f5447cb8ccd905449b9917": {
          "model_module": "@jupyter-widgets/controls",
          "model_name": "FloatProgressModel",
          "model_module_version": "1.5.0",
          "state": {
            "_dom_classes": [],
            "_model_module": "@jupyter-widgets/controls",
            "_model_module_version": "1.5.0",
            "_model_name": "FloatProgressModel",
            "_view_count": null,
            "_view_module": "@jupyter-widgets/controls",
            "_view_module_version": "1.5.0",
            "_view_name": "ProgressView",
            "bar_style": "success",
            "description": "",
            "description_tooltip": null,
            "layout": "IPY_MODEL_20c5ccbf6f854075b96e1ba20891ade0",
            "max": 571,
            "min": 0,
            "orientation": "horizontal",
            "style": "IPY_MODEL_9ec17b29b7234c9b8bc9adb459e9a867",
            "value": 571
          }
        },
        "b98c1d7bce674670aa912b8bd03b325d": {
          "model_module": "@jupyter-widgets/controls",
          "model_name": "HTMLModel",
          "model_module_version": "1.5.0",
          "state": {
            "_dom_classes": [],
            "_model_module": "@jupyter-widgets/controls",
            "_model_module_version": "1.5.0",
            "_model_name": "HTMLModel",
            "_view_count": null,
            "_view_module": "@jupyter-widgets/controls",
            "_view_module_version": "1.5.0",
            "_view_name": "HTMLView",
            "description": "",
            "description_tooltip": null,
            "layout": "IPY_MODEL_2d7a4c4c27674df6915f7e9de52856f4",
            "placeholder": "​",
            "style": "IPY_MODEL_18d96771e97445b29c957a8bbc4d09cf",
            "value": " 571/571 [00:00&lt;00:00, 23.0kB/s]"
          }
        },
        "e9c9e284022f4a90a13ac55a58bc669c": {
          "model_module": "@jupyter-widgets/base",
          "model_name": "LayoutModel",
          "model_module_version": "1.2.0",
          "state": {
            "_model_module": "@jupyter-widgets/base",
            "_model_module_version": "1.2.0",
            "_model_name": "LayoutModel",
            "_view_count": null,
            "_view_module": "@jupyter-widgets/base",
            "_view_module_version": "1.2.0",
            "_view_name": "LayoutView",
            "align_content": null,
            "align_items": null,
            "align_self": null,
            "border": null,
            "bottom": null,
            "display": null,
            "flex": null,
            "flex_flow": null,
            "grid_area": null,
            "grid_auto_columns": null,
            "grid_auto_flow": null,
            "grid_auto_rows": null,
            "grid_column": null,
            "grid_gap": null,
            "grid_row": null,
            "grid_template_areas": null,
            "grid_template_columns": null,
            "grid_template_rows": null,
            "height": null,
            "justify_content": null,
            "justify_items": null,
            "left": null,
            "margin": null,
            "max_height": null,
            "max_width": null,
            "min_height": null,
            "min_width": null,
            "object_fit": null,
            "object_position": null,
            "order": null,
            "overflow": null,
            "overflow_x": null,
            "overflow_y": null,
            "padding": null,
            "right": null,
            "top": null,
            "visibility": null,
            "width": null
          }
        },
        "f7ca0fa866d24a1ca2c14d60c59de3f1": {
          "model_module": "@jupyter-widgets/base",
          "model_name": "LayoutModel",
          "model_module_version": "1.2.0",
          "state": {
            "_model_module": "@jupyter-widgets/base",
            "_model_module_version": "1.2.0",
            "_model_name": "LayoutModel",
            "_view_count": null,
            "_view_module": "@jupyter-widgets/base",
            "_view_module_version": "1.2.0",
            "_view_name": "LayoutView",
            "align_content": null,
            "align_items": null,
            "align_self": null,
            "border": null,
            "bottom": null,
            "display": null,
            "flex": null,
            "flex_flow": null,
            "grid_area": null,
            "grid_auto_columns": null,
            "grid_auto_flow": null,
            "grid_auto_rows": null,
            "grid_column": null,
            "grid_gap": null,
            "grid_row": null,
            "grid_template_areas": null,
            "grid_template_columns": null,
            "grid_template_rows": null,
            "height": null,
            "justify_content": null,
            "justify_items": null,
            "left": null,
            "margin": null,
            "max_height": null,
            "max_width": null,
            "min_height": null,
            "min_width": null,
            "object_fit": null,
            "object_position": null,
            "order": null,
            "overflow": null,
            "overflow_x": null,
            "overflow_y": null,
            "padding": null,
            "right": null,
            "top": null,
            "visibility": null,
            "width": null
          }
        },
        "d7d5011e12e1423486551e99f27f22ac": {
          "model_module": "@jupyter-widgets/controls",
          "model_name": "DescriptionStyleModel",
          "model_module_version": "1.5.0",
          "state": {
            "_model_module": "@jupyter-widgets/controls",
            "_model_module_version": "1.5.0",
            "_model_name": "DescriptionStyleModel",
            "_view_count": null,
            "_view_module": "@jupyter-widgets/base",
            "_view_module_version": "1.2.0",
            "_view_name": "StyleView",
            "description_width": ""
          }
        },
        "20c5ccbf6f854075b96e1ba20891ade0": {
          "model_module": "@jupyter-widgets/base",
          "model_name": "LayoutModel",
          "model_module_version": "1.2.0",
          "state": {
            "_model_module": "@jupyter-widgets/base",
            "_model_module_version": "1.2.0",
            "_model_name": "LayoutModel",
            "_view_count": null,
            "_view_module": "@jupyter-widgets/base",
            "_view_module_version": "1.2.0",
            "_view_name": "LayoutView",
            "align_content": null,
            "align_items": null,
            "align_self": null,
            "border": null,
            "bottom": null,
            "display": null,
            "flex": null,
            "flex_flow": null,
            "grid_area": null,
            "grid_auto_columns": null,
            "grid_auto_flow": null,
            "grid_auto_rows": null,
            "grid_column": null,
            "grid_gap": null,
            "grid_row": null,
            "grid_template_areas": null,
            "grid_template_columns": null,
            "grid_template_rows": null,
            "height": null,
            "justify_content": null,
            "justify_items": null,
            "left": null,
            "margin": null,
            "max_height": null,
            "max_width": null,
            "min_height": null,
            "min_width": null,
            "object_fit": null,
            "object_position": null,
            "order": null,
            "overflow": null,
            "overflow_x": null,
            "overflow_y": null,
            "padding": null,
            "right": null,
            "top": null,
            "visibility": null,
            "width": null
          }
        },
        "9ec17b29b7234c9b8bc9adb459e9a867": {
          "model_module": "@jupyter-widgets/controls",
          "model_name": "ProgressStyleModel",
          "model_module_version": "1.5.0",
          "state": {
            "_model_module": "@jupyter-widgets/controls",
            "_model_module_version": "1.5.0",
            "_model_name": "ProgressStyleModel",
            "_view_count": null,
            "_view_module": "@jupyter-widgets/base",
            "_view_module_version": "1.2.0",
            "_view_name": "StyleView",
            "bar_color": null,
            "description_width": ""
          }
        },
        "2d7a4c4c27674df6915f7e9de52856f4": {
          "model_module": "@jupyter-widgets/base",
          "model_name": "LayoutModel",
          "model_module_version": "1.2.0",
          "state": {
            "_model_module": "@jupyter-widgets/base",
            "_model_module_version": "1.2.0",
            "_model_name": "LayoutModel",
            "_view_count": null,
            "_view_module": "@jupyter-widgets/base",
            "_view_module_version": "1.2.0",
            "_view_name": "LayoutView",
            "align_content": null,
            "align_items": null,
            "align_self": null,
            "border": null,
            "bottom": null,
            "display": null,
            "flex": null,
            "flex_flow": null,
            "grid_area": null,
            "grid_auto_columns": null,
            "grid_auto_flow": null,
            "grid_auto_rows": null,
            "grid_column": null,
            "grid_gap": null,
            "grid_row": null,
            "grid_template_areas": null,
            "grid_template_columns": null,
            "grid_template_rows": null,
            "height": null,
            "justify_content": null,
            "justify_items": null,
            "left": null,
            "margin": null,
            "max_height": null,
            "max_width": null,
            "min_height": null,
            "min_width": null,
            "object_fit": null,
            "object_position": null,
            "order": null,
            "overflow": null,
            "overflow_x": null,
            "overflow_y": null,
            "padding": null,
            "right": null,
            "top": null,
            "visibility": null,
            "width": null
          }
        },
        "18d96771e97445b29c957a8bbc4d09cf": {
          "model_module": "@jupyter-widgets/controls",
          "model_name": "DescriptionStyleModel",
          "model_module_version": "1.5.0",
          "state": {
            "_model_module": "@jupyter-widgets/controls",
            "_model_module_version": "1.5.0",
            "_model_name": "DescriptionStyleModel",
            "_view_count": null,
            "_view_module": "@jupyter-widgets/base",
            "_view_module_version": "1.2.0",
            "_view_name": "StyleView",
            "description_width": ""
          }
        },
        "52ca1b68d19a485bb04899d87d0c6677": {
          "model_module": "@jupyter-widgets/controls",
          "model_name": "HBoxModel",
          "model_module_version": "1.5.0",
          "state": {
            "_dom_classes": [],
            "_model_module": "@jupyter-widgets/controls",
            "_model_module_version": "1.5.0",
            "_model_name": "HBoxModel",
            "_view_count": null,
            "_view_module": "@jupyter-widgets/controls",
            "_view_module_version": "1.5.0",
            "_view_name": "HBoxView",
            "box_style": "",
            "children": [
              "IPY_MODEL_f36efaf7b12648bbb7c66ff8c17a3647",
              "IPY_MODEL_937bba9fb10244f4816873653b54ad0b",
              "IPY_MODEL_1daf001170704300bc64a23f28ee3b39"
            ],
            "layout": "IPY_MODEL_5dc1f17d9e22432e9b47bc3d5769b4a4"
          }
        },
        "f36efaf7b12648bbb7c66ff8c17a3647": {
          "model_module": "@jupyter-widgets/controls",
          "model_name": "HTMLModel",
          "model_module_version": "1.5.0",
          "state": {
            "_dom_classes": [],
            "_model_module": "@jupyter-widgets/controls",
            "_model_module_version": "1.5.0",
            "_model_name": "HTMLModel",
            "_view_count": null,
            "_view_module": "@jupyter-widgets/controls",
            "_view_module_version": "1.5.0",
            "_view_name": "HTMLView",
            "description": "",
            "description_tooltip": null,
            "layout": "IPY_MODEL_cef69db7030c4fecbf521cb5dafb1a44",
            "placeholder": "​",
            "style": "IPY_MODEL_ec69cc01e7dc4fa7abb43791fb6fdc96",
            "value": "vocab.json: 100%"
          }
        },
        "937bba9fb10244f4816873653b54ad0b": {
          "model_module": "@jupyter-widgets/controls",
          "model_name": "FloatProgressModel",
          "model_module_version": "1.5.0",
          "state": {
            "_dom_classes": [],
            "_model_module": "@jupyter-widgets/controls",
            "_model_module_version": "1.5.0",
            "_model_name": "FloatProgressModel",
            "_view_count": null,
            "_view_module": "@jupyter-widgets/controls",
            "_view_module_version": "1.5.0",
            "_view_name": "ProgressView",
            "bar_style": "success",
            "description": "",
            "description_tooltip": null,
            "layout": "IPY_MODEL_5aec9c7be90d4e109eaa71c33eed6e35",
            "max": 898822,
            "min": 0,
            "orientation": "horizontal",
            "style": "IPY_MODEL_bb1cef33219a459c97ce84562452d8cb",
            "value": 898822
          }
        },
        "1daf001170704300bc64a23f28ee3b39": {
          "model_module": "@jupyter-widgets/controls",
          "model_name": "HTMLModel",
          "model_module_version": "1.5.0",
          "state": {
            "_dom_classes": [],
            "_model_module": "@jupyter-widgets/controls",
            "_model_module_version": "1.5.0",
            "_model_name": "HTMLModel",
            "_view_count": null,
            "_view_module": "@jupyter-widgets/controls",
            "_view_module_version": "1.5.0",
            "_view_name": "HTMLView",
            "description": "",
            "description_tooltip": null,
            "layout": "IPY_MODEL_44d08b273ccb40c0815d0186ef5a8dfb",
            "placeholder": "​",
            "style": "IPY_MODEL_3efdb193071c48c39822603a2764651d",
            "value": " 899k/899k [00:00&lt;00:00, 5.36MB/s]"
          }
        },
        "5dc1f17d9e22432e9b47bc3d5769b4a4": {
          "model_module": "@jupyter-widgets/base",
          "model_name": "LayoutModel",
          "model_module_version": "1.2.0",
          "state": {
            "_model_module": "@jupyter-widgets/base",
            "_model_module_version": "1.2.0",
            "_model_name": "LayoutModel",
            "_view_count": null,
            "_view_module": "@jupyter-widgets/base",
            "_view_module_version": "1.2.0",
            "_view_name": "LayoutView",
            "align_content": null,
            "align_items": null,
            "align_self": null,
            "border": null,
            "bottom": null,
            "display": null,
            "flex": null,
            "flex_flow": null,
            "grid_area": null,
            "grid_auto_columns": null,
            "grid_auto_flow": null,
            "grid_auto_rows": null,
            "grid_column": null,
            "grid_gap": null,
            "grid_row": null,
            "grid_template_areas": null,
            "grid_template_columns": null,
            "grid_template_rows": null,
            "height": null,
            "justify_content": null,
            "justify_items": null,
            "left": null,
            "margin": null,
            "max_height": null,
            "max_width": null,
            "min_height": null,
            "min_width": null,
            "object_fit": null,
            "object_position": null,
            "order": null,
            "overflow": null,
            "overflow_x": null,
            "overflow_y": null,
            "padding": null,
            "right": null,
            "top": null,
            "visibility": null,
            "width": null
          }
        },
        "cef69db7030c4fecbf521cb5dafb1a44": {
          "model_module": "@jupyter-widgets/base",
          "model_name": "LayoutModel",
          "model_module_version": "1.2.0",
          "state": {
            "_model_module": "@jupyter-widgets/base",
            "_model_module_version": "1.2.0",
            "_model_name": "LayoutModel",
            "_view_count": null,
            "_view_module": "@jupyter-widgets/base",
            "_view_module_version": "1.2.0",
            "_view_name": "LayoutView",
            "align_content": null,
            "align_items": null,
            "align_self": null,
            "border": null,
            "bottom": null,
            "display": null,
            "flex": null,
            "flex_flow": null,
            "grid_area": null,
            "grid_auto_columns": null,
            "grid_auto_flow": null,
            "grid_auto_rows": null,
            "grid_column": null,
            "grid_gap": null,
            "grid_row": null,
            "grid_template_areas": null,
            "grid_template_columns": null,
            "grid_template_rows": null,
            "height": null,
            "justify_content": null,
            "justify_items": null,
            "left": null,
            "margin": null,
            "max_height": null,
            "max_width": null,
            "min_height": null,
            "min_width": null,
            "object_fit": null,
            "object_position": null,
            "order": null,
            "overflow": null,
            "overflow_x": null,
            "overflow_y": null,
            "padding": null,
            "right": null,
            "top": null,
            "visibility": null,
            "width": null
          }
        },
        "ec69cc01e7dc4fa7abb43791fb6fdc96": {
          "model_module": "@jupyter-widgets/controls",
          "model_name": "DescriptionStyleModel",
          "model_module_version": "1.5.0",
          "state": {
            "_model_module": "@jupyter-widgets/controls",
            "_model_module_version": "1.5.0",
            "_model_name": "DescriptionStyleModel",
            "_view_count": null,
            "_view_module": "@jupyter-widgets/base",
            "_view_module_version": "1.2.0",
            "_view_name": "StyleView",
            "description_width": ""
          }
        },
        "5aec9c7be90d4e109eaa71c33eed6e35": {
          "model_module": "@jupyter-widgets/base",
          "model_name": "LayoutModel",
          "model_module_version": "1.2.0",
          "state": {
            "_model_module": "@jupyter-widgets/base",
            "_model_module_version": "1.2.0",
            "_model_name": "LayoutModel",
            "_view_count": null,
            "_view_module": "@jupyter-widgets/base",
            "_view_module_version": "1.2.0",
            "_view_name": "LayoutView",
            "align_content": null,
            "align_items": null,
            "align_self": null,
            "border": null,
            "bottom": null,
            "display": null,
            "flex": null,
            "flex_flow": null,
            "grid_area": null,
            "grid_auto_columns": null,
            "grid_auto_flow": null,
            "grid_auto_rows": null,
            "grid_column": null,
            "grid_gap": null,
            "grid_row": null,
            "grid_template_areas": null,
            "grid_template_columns": null,
            "grid_template_rows": null,
            "height": null,
            "justify_content": null,
            "justify_items": null,
            "left": null,
            "margin": null,
            "max_height": null,
            "max_width": null,
            "min_height": null,
            "min_width": null,
            "object_fit": null,
            "object_position": null,
            "order": null,
            "overflow": null,
            "overflow_x": null,
            "overflow_y": null,
            "padding": null,
            "right": null,
            "top": null,
            "visibility": null,
            "width": null
          }
        },
        "bb1cef33219a459c97ce84562452d8cb": {
          "model_module": "@jupyter-widgets/controls",
          "model_name": "ProgressStyleModel",
          "model_module_version": "1.5.0",
          "state": {
            "_model_module": "@jupyter-widgets/controls",
            "_model_module_version": "1.5.0",
            "_model_name": "ProgressStyleModel",
            "_view_count": null,
            "_view_module": "@jupyter-widgets/base",
            "_view_module_version": "1.2.0",
            "_view_name": "StyleView",
            "bar_color": null,
            "description_width": ""
          }
        },
        "44d08b273ccb40c0815d0186ef5a8dfb": {
          "model_module": "@jupyter-widgets/base",
          "model_name": "LayoutModel",
          "model_module_version": "1.2.0",
          "state": {
            "_model_module": "@jupyter-widgets/base",
            "_model_module_version": "1.2.0",
            "_model_name": "LayoutModel",
            "_view_count": null,
            "_view_module": "@jupyter-widgets/base",
            "_view_module_version": "1.2.0",
            "_view_name": "LayoutView",
            "align_content": null,
            "align_items": null,
            "align_self": null,
            "border": null,
            "bottom": null,
            "display": null,
            "flex": null,
            "flex_flow": null,
            "grid_area": null,
            "grid_auto_columns": null,
            "grid_auto_flow": null,
            "grid_auto_rows": null,
            "grid_column": null,
            "grid_gap": null,
            "grid_row": null,
            "grid_template_areas": null,
            "grid_template_columns": null,
            "grid_template_rows": null,
            "height": null,
            "justify_content": null,
            "justify_items": null,
            "left": null,
            "margin": null,
            "max_height": null,
            "max_width": null,
            "min_height": null,
            "min_width": null,
            "object_fit": null,
            "object_position": null,
            "order": null,
            "overflow": null,
            "overflow_x": null,
            "overflow_y": null,
            "padding": null,
            "right": null,
            "top": null,
            "visibility": null,
            "width": null
          }
        },
        "3efdb193071c48c39822603a2764651d": {
          "model_module": "@jupyter-widgets/controls",
          "model_name": "DescriptionStyleModel",
          "model_module_version": "1.5.0",
          "state": {
            "_model_module": "@jupyter-widgets/controls",
            "_model_module_version": "1.5.0",
            "_model_name": "DescriptionStyleModel",
            "_view_count": null,
            "_view_module": "@jupyter-widgets/base",
            "_view_module_version": "1.2.0",
            "_view_name": "StyleView",
            "description_width": ""
          }
        },
        "ac94ef43a85646a5be37e566f54a17b7": {
          "model_module": "@jupyter-widgets/controls",
          "model_name": "HBoxModel",
          "model_module_version": "1.5.0",
          "state": {
            "_dom_classes": [],
            "_model_module": "@jupyter-widgets/controls",
            "_model_module_version": "1.5.0",
            "_model_name": "HBoxModel",
            "_view_count": null,
            "_view_module": "@jupyter-widgets/controls",
            "_view_module_version": "1.5.0",
            "_view_name": "HBoxView",
            "box_style": "",
            "children": [
              "IPY_MODEL_e83d5e57ef6d4e56a1cb4c03ae1b60a3",
              "IPY_MODEL_269bac0b76e746489da04bc735f6c6cd",
              "IPY_MODEL_92788c354ed64928a0c13976eb8b307b"
            ],
            "layout": "IPY_MODEL_37eef7adce07426e967384e6873a02b9"
          }
        },
        "e83d5e57ef6d4e56a1cb4c03ae1b60a3": {
          "model_module": "@jupyter-widgets/controls",
          "model_name": "HTMLModel",
          "model_module_version": "1.5.0",
          "state": {
            "_dom_classes": [],
            "_model_module": "@jupyter-widgets/controls",
            "_model_module_version": "1.5.0",
            "_model_name": "HTMLModel",
            "_view_count": null,
            "_view_module": "@jupyter-widgets/controls",
            "_view_module_version": "1.5.0",
            "_view_name": "HTMLView",
            "description": "",
            "description_tooltip": null,
            "layout": "IPY_MODEL_8823fd0495bb4528a5c0ac9f4d28614f",
            "placeholder": "​",
            "style": "IPY_MODEL_f5bb31d7bdf6496faab9d03d277d83fa",
            "value": "merges.txt: 100%"
          }
        },
        "269bac0b76e746489da04bc735f6c6cd": {
          "model_module": "@jupyter-widgets/controls",
          "model_name": "FloatProgressModel",
          "model_module_version": "1.5.0",
          "state": {
            "_dom_classes": [],
            "_model_module": "@jupyter-widgets/controls",
            "_model_module_version": "1.5.0",
            "_model_name": "FloatProgressModel",
            "_view_count": null,
            "_view_module": "@jupyter-widgets/controls",
            "_view_module_version": "1.5.0",
            "_view_name": "ProgressView",
            "bar_style": "success",
            "description": "",
            "description_tooltip": null,
            "layout": "IPY_MODEL_328c5c992d42468e91b43d888d8779c7",
            "max": 456318,
            "min": 0,
            "orientation": "horizontal",
            "style": "IPY_MODEL_49ab30cec70447218b06f4e6488f37a0",
            "value": 456318
          }
        },
        "92788c354ed64928a0c13976eb8b307b": {
          "model_module": "@jupyter-widgets/controls",
          "model_name": "HTMLModel",
          "model_module_version": "1.5.0",
          "state": {
            "_dom_classes": [],
            "_model_module": "@jupyter-widgets/controls",
            "_model_module_version": "1.5.0",
            "_model_name": "HTMLModel",
            "_view_count": null,
            "_view_module": "@jupyter-widgets/controls",
            "_view_module_version": "1.5.0",
            "_view_name": "HTMLView",
            "description": "",
            "description_tooltip": null,
            "layout": "IPY_MODEL_7b8dded40d8f4f91b257054a97dba8c5",
            "placeholder": "​",
            "style": "IPY_MODEL_85210d22a4a2470db3ad492b78692d7a",
            "value": " 456k/456k [00:00&lt;00:00, 7.27MB/s]"
          }
        },
        "37eef7adce07426e967384e6873a02b9": {
          "model_module": "@jupyter-widgets/base",
          "model_name": "LayoutModel",
          "model_module_version": "1.2.0",
          "state": {
            "_model_module": "@jupyter-widgets/base",
            "_model_module_version": "1.2.0",
            "_model_name": "LayoutModel",
            "_view_count": null,
            "_view_module": "@jupyter-widgets/base",
            "_view_module_version": "1.2.0",
            "_view_name": "LayoutView",
            "align_content": null,
            "align_items": null,
            "align_self": null,
            "border": null,
            "bottom": null,
            "display": null,
            "flex": null,
            "flex_flow": null,
            "grid_area": null,
            "grid_auto_columns": null,
            "grid_auto_flow": null,
            "grid_auto_rows": null,
            "grid_column": null,
            "grid_gap": null,
            "grid_row": null,
            "grid_template_areas": null,
            "grid_template_columns": null,
            "grid_template_rows": null,
            "height": null,
            "justify_content": null,
            "justify_items": null,
            "left": null,
            "margin": null,
            "max_height": null,
            "max_width": null,
            "min_height": null,
            "min_width": null,
            "object_fit": null,
            "object_position": null,
            "order": null,
            "overflow": null,
            "overflow_x": null,
            "overflow_y": null,
            "padding": null,
            "right": null,
            "top": null,
            "visibility": null,
            "width": null
          }
        },
        "8823fd0495bb4528a5c0ac9f4d28614f": {
          "model_module": "@jupyter-widgets/base",
          "model_name": "LayoutModel",
          "model_module_version": "1.2.0",
          "state": {
            "_model_module": "@jupyter-widgets/base",
            "_model_module_version": "1.2.0",
            "_model_name": "LayoutModel",
            "_view_count": null,
            "_view_module": "@jupyter-widgets/base",
            "_view_module_version": "1.2.0",
            "_view_name": "LayoutView",
            "align_content": null,
            "align_items": null,
            "align_self": null,
            "border": null,
            "bottom": null,
            "display": null,
            "flex": null,
            "flex_flow": null,
            "grid_area": null,
            "grid_auto_columns": null,
            "grid_auto_flow": null,
            "grid_auto_rows": null,
            "grid_column": null,
            "grid_gap": null,
            "grid_row": null,
            "grid_template_areas": null,
            "grid_template_columns": null,
            "grid_template_rows": null,
            "height": null,
            "justify_content": null,
            "justify_items": null,
            "left": null,
            "margin": null,
            "max_height": null,
            "max_width": null,
            "min_height": null,
            "min_width": null,
            "object_fit": null,
            "object_position": null,
            "order": null,
            "overflow": null,
            "overflow_x": null,
            "overflow_y": null,
            "padding": null,
            "right": null,
            "top": null,
            "visibility": null,
            "width": null
          }
        },
        "f5bb31d7bdf6496faab9d03d277d83fa": {
          "model_module": "@jupyter-widgets/controls",
          "model_name": "DescriptionStyleModel",
          "model_module_version": "1.5.0",
          "state": {
            "_model_module": "@jupyter-widgets/controls",
            "_model_module_version": "1.5.0",
            "_model_name": "DescriptionStyleModel",
            "_view_count": null,
            "_view_module": "@jupyter-widgets/base",
            "_view_module_version": "1.2.0",
            "_view_name": "StyleView",
            "description_width": ""
          }
        },
        "328c5c992d42468e91b43d888d8779c7": {
          "model_module": "@jupyter-widgets/base",
          "model_name": "LayoutModel",
          "model_module_version": "1.2.0",
          "state": {
            "_model_module": "@jupyter-widgets/base",
            "_model_module_version": "1.2.0",
            "_model_name": "LayoutModel",
            "_view_count": null,
            "_view_module": "@jupyter-widgets/base",
            "_view_module_version": "1.2.0",
            "_view_name": "LayoutView",
            "align_content": null,
            "align_items": null,
            "align_self": null,
            "border": null,
            "bottom": null,
            "display": null,
            "flex": null,
            "flex_flow": null,
            "grid_area": null,
            "grid_auto_columns": null,
            "grid_auto_flow": null,
            "grid_auto_rows": null,
            "grid_column": null,
            "grid_gap": null,
            "grid_row": null,
            "grid_template_areas": null,
            "grid_template_columns": null,
            "grid_template_rows": null,
            "height": null,
            "justify_content": null,
            "justify_items": null,
            "left": null,
            "margin": null,
            "max_height": null,
            "max_width": null,
            "min_height": null,
            "min_width": null,
            "object_fit": null,
            "object_position": null,
            "order": null,
            "overflow": null,
            "overflow_x": null,
            "overflow_y": null,
            "padding": null,
            "right": null,
            "top": null,
            "visibility": null,
            "width": null
          }
        },
        "49ab30cec70447218b06f4e6488f37a0": {
          "model_module": "@jupyter-widgets/controls",
          "model_name": "ProgressStyleModel",
          "model_module_version": "1.5.0",
          "state": {
            "_model_module": "@jupyter-widgets/controls",
            "_model_module_version": "1.5.0",
            "_model_name": "ProgressStyleModel",
            "_view_count": null,
            "_view_module": "@jupyter-widgets/base",
            "_view_module_version": "1.2.0",
            "_view_name": "StyleView",
            "bar_color": null,
            "description_width": ""
          }
        },
        "7b8dded40d8f4f91b257054a97dba8c5": {
          "model_module": "@jupyter-widgets/base",
          "model_name": "LayoutModel",
          "model_module_version": "1.2.0",
          "state": {
            "_model_module": "@jupyter-widgets/base",
            "_model_module_version": "1.2.0",
            "_model_name": "LayoutModel",
            "_view_count": null,
            "_view_module": "@jupyter-widgets/base",
            "_view_module_version": "1.2.0",
            "_view_name": "LayoutView",
            "align_content": null,
            "align_items": null,
            "align_self": null,
            "border": null,
            "bottom": null,
            "display": null,
            "flex": null,
            "flex_flow": null,
            "grid_area": null,
            "grid_auto_columns": null,
            "grid_auto_flow": null,
            "grid_auto_rows": null,
            "grid_column": null,
            "grid_gap": null,
            "grid_row": null,
            "grid_template_areas": null,
            "grid_template_columns": null,
            "grid_template_rows": null,
            "height": null,
            "justify_content": null,
            "justify_items": null,
            "left": null,
            "margin": null,
            "max_height": null,
            "max_width": null,
            "min_height": null,
            "min_width": null,
            "object_fit": null,
            "object_position": null,
            "order": null,
            "overflow": null,
            "overflow_x": null,
            "overflow_y": null,
            "padding": null,
            "right": null,
            "top": null,
            "visibility": null,
            "width": null
          }
        },
        "85210d22a4a2470db3ad492b78692d7a": {
          "model_module": "@jupyter-widgets/controls",
          "model_name": "DescriptionStyleModel",
          "model_module_version": "1.5.0",
          "state": {
            "_model_module": "@jupyter-widgets/controls",
            "_model_module_version": "1.5.0",
            "_model_name": "DescriptionStyleModel",
            "_view_count": null,
            "_view_module": "@jupyter-widgets/base",
            "_view_module_version": "1.2.0",
            "_view_name": "StyleView",
            "description_width": ""
          }
        },
        "311b8d80ef26476aaec26e417372967d": {
          "model_module": "@jupyter-widgets/controls",
          "model_name": "HBoxModel",
          "model_module_version": "1.5.0",
          "state": {
            "_dom_classes": [],
            "_model_module": "@jupyter-widgets/controls",
            "_model_module_version": "1.5.0",
            "_model_name": "HBoxModel",
            "_view_count": null,
            "_view_module": "@jupyter-widgets/controls",
            "_view_module_version": "1.5.0",
            "_view_name": "HBoxView",
            "box_style": "",
            "children": [
              "IPY_MODEL_a82bf3175471487998778d35dc4356f9",
              "IPY_MODEL_ce63791718014de8b0f40e4f54469bb6",
              "IPY_MODEL_8b0e5f7de0a846bb8d02fb9be8f6b08d"
            ],
            "layout": "IPY_MODEL_92f80e317d7b460ea99a5ff012748dc8"
          }
        },
        "a82bf3175471487998778d35dc4356f9": {
          "model_module": "@jupyter-widgets/controls",
          "model_name": "HTMLModel",
          "model_module_version": "1.5.0",
          "state": {
            "_dom_classes": [],
            "_model_module": "@jupyter-widgets/controls",
            "_model_module_version": "1.5.0",
            "_model_name": "HTMLModel",
            "_view_count": null,
            "_view_module": "@jupyter-widgets/controls",
            "_view_module_version": "1.5.0",
            "_view_name": "HTMLView",
            "description": "",
            "description_tooltip": null,
            "layout": "IPY_MODEL_ffcdf2edb47142f99bed766b0fd88f1e",
            "placeholder": "​",
            "style": "IPY_MODEL_4ef7f709f8c44abead509e362096ea51",
            "value": "special_tokens_map.json: 100%"
          }
        },
        "ce63791718014de8b0f40e4f54469bb6": {
          "model_module": "@jupyter-widgets/controls",
          "model_name": "FloatProgressModel",
          "model_module_version": "1.5.0",
          "state": {
            "_dom_classes": [],
            "_model_module": "@jupyter-widgets/controls",
            "_model_module_version": "1.5.0",
            "_model_name": "FloatProgressModel",
            "_view_count": null,
            "_view_module": "@jupyter-widgets/controls",
            "_view_module_version": "1.5.0",
            "_view_name": "ProgressView",
            "bar_style": "success",
            "description": "",
            "description_tooltip": null,
            "layout": "IPY_MODEL_46819c12a5bd4ac5a38d2b43db27a8cd",
            "max": 772,
            "min": 0,
            "orientation": "horizontal",
            "style": "IPY_MODEL_9d0e2b68b98d419da7b47776ac215324",
            "value": 772
          }
        },
        "8b0e5f7de0a846bb8d02fb9be8f6b08d": {
          "model_module": "@jupyter-widgets/controls",
          "model_name": "HTMLModel",
          "model_module_version": "1.5.0",
          "state": {
            "_dom_classes": [],
            "_model_module": "@jupyter-widgets/controls",
            "_model_module_version": "1.5.0",
            "_model_name": "HTMLModel",
            "_view_count": null,
            "_view_module": "@jupyter-widgets/controls",
            "_view_module_version": "1.5.0",
            "_view_name": "HTMLView",
            "description": "",
            "description_tooltip": null,
            "layout": "IPY_MODEL_f1c2a421648f47968d69fcb5b3cb0317",
            "placeholder": "​",
            "style": "IPY_MODEL_5e7b45e6b9534042862cb2e4bbb93da7",
            "value": " 772/772 [00:00&lt;00:00, 32.2kB/s]"
          }
        },
        "92f80e317d7b460ea99a5ff012748dc8": {
          "model_module": "@jupyter-widgets/base",
          "model_name": "LayoutModel",
          "model_module_version": "1.2.0",
          "state": {
            "_model_module": "@jupyter-widgets/base",
            "_model_module_version": "1.2.0",
            "_model_name": "LayoutModel",
            "_view_count": null,
            "_view_module": "@jupyter-widgets/base",
            "_view_module_version": "1.2.0",
            "_view_name": "LayoutView",
            "align_content": null,
            "align_items": null,
            "align_self": null,
            "border": null,
            "bottom": null,
            "display": null,
            "flex": null,
            "flex_flow": null,
            "grid_area": null,
            "grid_auto_columns": null,
            "grid_auto_flow": null,
            "grid_auto_rows": null,
            "grid_column": null,
            "grid_gap": null,
            "grid_row": null,
            "grid_template_areas": null,
            "grid_template_columns": null,
            "grid_template_rows": null,
            "height": null,
            "justify_content": null,
            "justify_items": null,
            "left": null,
            "margin": null,
            "max_height": null,
            "max_width": null,
            "min_height": null,
            "min_width": null,
            "object_fit": null,
            "object_position": null,
            "order": null,
            "overflow": null,
            "overflow_x": null,
            "overflow_y": null,
            "padding": null,
            "right": null,
            "top": null,
            "visibility": null,
            "width": null
          }
        },
        "ffcdf2edb47142f99bed766b0fd88f1e": {
          "model_module": "@jupyter-widgets/base",
          "model_name": "LayoutModel",
          "model_module_version": "1.2.0",
          "state": {
            "_model_module": "@jupyter-widgets/base",
            "_model_module_version": "1.2.0",
            "_model_name": "LayoutModel",
            "_view_count": null,
            "_view_module": "@jupyter-widgets/base",
            "_view_module_version": "1.2.0",
            "_view_name": "LayoutView",
            "align_content": null,
            "align_items": null,
            "align_self": null,
            "border": null,
            "bottom": null,
            "display": null,
            "flex": null,
            "flex_flow": null,
            "grid_area": null,
            "grid_auto_columns": null,
            "grid_auto_flow": null,
            "grid_auto_rows": null,
            "grid_column": null,
            "grid_gap": null,
            "grid_row": null,
            "grid_template_areas": null,
            "grid_template_columns": null,
            "grid_template_rows": null,
            "height": null,
            "justify_content": null,
            "justify_items": null,
            "left": null,
            "margin": null,
            "max_height": null,
            "max_width": null,
            "min_height": null,
            "min_width": null,
            "object_fit": null,
            "object_position": null,
            "order": null,
            "overflow": null,
            "overflow_x": null,
            "overflow_y": null,
            "padding": null,
            "right": null,
            "top": null,
            "visibility": null,
            "width": null
          }
        },
        "4ef7f709f8c44abead509e362096ea51": {
          "model_module": "@jupyter-widgets/controls",
          "model_name": "DescriptionStyleModel",
          "model_module_version": "1.5.0",
          "state": {
            "_model_module": "@jupyter-widgets/controls",
            "_model_module_version": "1.5.0",
            "_model_name": "DescriptionStyleModel",
            "_view_count": null,
            "_view_module": "@jupyter-widgets/base",
            "_view_module_version": "1.2.0",
            "_view_name": "StyleView",
            "description_width": ""
          }
        },
        "46819c12a5bd4ac5a38d2b43db27a8cd": {
          "model_module": "@jupyter-widgets/base",
          "model_name": "LayoutModel",
          "model_module_version": "1.2.0",
          "state": {
            "_model_module": "@jupyter-widgets/base",
            "_model_module_version": "1.2.0",
            "_model_name": "LayoutModel",
            "_view_count": null,
            "_view_module": "@jupyter-widgets/base",
            "_view_module_version": "1.2.0",
            "_view_name": "LayoutView",
            "align_content": null,
            "align_items": null,
            "align_self": null,
            "border": null,
            "bottom": null,
            "display": null,
            "flex": null,
            "flex_flow": null,
            "grid_area": null,
            "grid_auto_columns": null,
            "grid_auto_flow": null,
            "grid_auto_rows": null,
            "grid_column": null,
            "grid_gap": null,
            "grid_row": null,
            "grid_template_areas": null,
            "grid_template_columns": null,
            "grid_template_rows": null,
            "height": null,
            "justify_content": null,
            "justify_items": null,
            "left": null,
            "margin": null,
            "max_height": null,
            "max_width": null,
            "min_height": null,
            "min_width": null,
            "object_fit": null,
            "object_position": null,
            "order": null,
            "overflow": null,
            "overflow_x": null,
            "overflow_y": null,
            "padding": null,
            "right": null,
            "top": null,
            "visibility": null,
            "width": null
          }
        },
        "9d0e2b68b98d419da7b47776ac215324": {
          "model_module": "@jupyter-widgets/controls",
          "model_name": "ProgressStyleModel",
          "model_module_version": "1.5.0",
          "state": {
            "_model_module": "@jupyter-widgets/controls",
            "_model_module_version": "1.5.0",
            "_model_name": "ProgressStyleModel",
            "_view_count": null,
            "_view_module": "@jupyter-widgets/base",
            "_view_module_version": "1.2.0",
            "_view_name": "StyleView",
            "bar_color": null,
            "description_width": ""
          }
        },
        "f1c2a421648f47968d69fcb5b3cb0317": {
          "model_module": "@jupyter-widgets/base",
          "model_name": "LayoutModel",
          "model_module_version": "1.2.0",
          "state": {
            "_model_module": "@jupyter-widgets/base",
            "_model_module_version": "1.2.0",
            "_model_name": "LayoutModel",
            "_view_count": null,
            "_view_module": "@jupyter-widgets/base",
            "_view_module_version": "1.2.0",
            "_view_name": "LayoutView",
            "align_content": null,
            "align_items": null,
            "align_self": null,
            "border": null,
            "bottom": null,
            "display": null,
            "flex": null,
            "flex_flow": null,
            "grid_area": null,
            "grid_auto_columns": null,
            "grid_auto_flow": null,
            "grid_auto_rows": null,
            "grid_column": null,
            "grid_gap": null,
            "grid_row": null,
            "grid_template_areas": null,
            "grid_template_columns": null,
            "grid_template_rows": null,
            "height": null,
            "justify_content": null,
            "justify_items": null,
            "left": null,
            "margin": null,
            "max_height": null,
            "max_width": null,
            "min_height": null,
            "min_width": null,
            "object_fit": null,
            "object_position": null,
            "order": null,
            "overflow": null,
            "overflow_x": null,
            "overflow_y": null,
            "padding": null,
            "right": null,
            "top": null,
            "visibility": null,
            "width": null
          }
        },
        "5e7b45e6b9534042862cb2e4bbb93da7": {
          "model_module": "@jupyter-widgets/controls",
          "model_name": "DescriptionStyleModel",
          "model_module_version": "1.5.0",
          "state": {
            "_model_module": "@jupyter-widgets/controls",
            "_model_module_version": "1.5.0",
            "_model_name": "DescriptionStyleModel",
            "_view_count": null,
            "_view_module": "@jupyter-widgets/base",
            "_view_module_version": "1.2.0",
            "_view_name": "StyleView",
            "description_width": ""
          }
        },
        "c7fe4993d690439a87269a1833cba31b": {
          "model_module": "@jupyter-widgets/controls",
          "model_name": "HBoxModel",
          "model_module_version": "1.5.0",
          "state": {
            "_dom_classes": [],
            "_model_module": "@jupyter-widgets/controls",
            "_model_module_version": "1.5.0",
            "_model_name": "HBoxModel",
            "_view_count": null,
            "_view_module": "@jupyter-widgets/controls",
            "_view_module_version": "1.5.0",
            "_view_name": "HBoxView",
            "box_style": "",
            "children": [
              "IPY_MODEL_64f10e74a95d49f1bca6da2cee98673c",
              "IPY_MODEL_1d0d2edd20bf499d8e9c03ce04c38e44",
              "IPY_MODEL_83212aa0eb724bcdbabebb61bc99bade"
            ],
            "layout": "IPY_MODEL_73747ff152c842ab9effebee06b14cfa"
          }
        },
        "64f10e74a95d49f1bca6da2cee98673c": {
          "model_module": "@jupyter-widgets/controls",
          "model_name": "HTMLModel",
          "model_module_version": "1.5.0",
          "state": {
            "_dom_classes": [],
            "_model_module": "@jupyter-widgets/controls",
            "_model_module_version": "1.5.0",
            "_model_name": "HTMLModel",
            "_view_count": null,
            "_view_module": "@jupyter-widgets/controls",
            "_view_module_version": "1.5.0",
            "_view_name": "HTMLView",
            "description": "",
            "description_tooltip": null,
            "layout": "IPY_MODEL_9d27cc1f46964f74a27bbc99ee9f53ac",
            "placeholder": "​",
            "style": "IPY_MODEL_11c47cd9c2f54c9d862e0ffb2a6ba8df",
            "value": "model.safetensors: 100%"
          }
        },
        "1d0d2edd20bf499d8e9c03ce04c38e44": {
          "model_module": "@jupyter-widgets/controls",
          "model_name": "FloatProgressModel",
          "model_module_version": "1.5.0",
          "state": {
            "_dom_classes": [],
            "_model_module": "@jupyter-widgets/controls",
            "_model_module_version": "1.5.0",
            "_model_name": "FloatProgressModel",
            "_view_count": null,
            "_view_module": "@jupyter-widgets/controls",
            "_view_module_version": "1.5.0",
            "_view_name": "ProgressView",
            "bar_style": "success",
            "description": "",
            "description_tooltip": null,
            "layout": "IPY_MODEL_6fc9171b24b44186b5e00746f89929f4",
            "max": 496254442,
            "min": 0,
            "orientation": "horizontal",
            "style": "IPY_MODEL_af680d1c2af3402d8594bd4ec0588876",
            "value": 496254442
          }
        },
        "83212aa0eb724bcdbabebb61bc99bade": {
          "model_module": "@jupyter-widgets/controls",
          "model_name": "HTMLModel",
          "model_module_version": "1.5.0",
          "state": {
            "_dom_classes": [],
            "_model_module": "@jupyter-widgets/controls",
            "_model_module_version": "1.5.0",
            "_model_name": "HTMLModel",
            "_view_count": null,
            "_view_module": "@jupyter-widgets/controls",
            "_view_module_version": "1.5.0",
            "_view_name": "HTMLView",
            "description": "",
            "description_tooltip": null,
            "layout": "IPY_MODEL_0d6da906a1224a36b73347fd9debc47b",
            "placeholder": "​",
            "style": "IPY_MODEL_6296c9acf3e5460a9f0b598ba11a9104",
            "value": " 496M/496M [00:05&lt;00:00, 44.6MB/s]"
          }
        },
        "73747ff152c842ab9effebee06b14cfa": {
          "model_module": "@jupyter-widgets/base",
          "model_name": "LayoutModel",
          "model_module_version": "1.2.0",
          "state": {
            "_model_module": "@jupyter-widgets/base",
            "_model_module_version": "1.2.0",
            "_model_name": "LayoutModel",
            "_view_count": null,
            "_view_module": "@jupyter-widgets/base",
            "_view_module_version": "1.2.0",
            "_view_name": "LayoutView",
            "align_content": null,
            "align_items": null,
            "align_self": null,
            "border": null,
            "bottom": null,
            "display": null,
            "flex": null,
            "flex_flow": null,
            "grid_area": null,
            "grid_auto_columns": null,
            "grid_auto_flow": null,
            "grid_auto_rows": null,
            "grid_column": null,
            "grid_gap": null,
            "grid_row": null,
            "grid_template_areas": null,
            "grid_template_columns": null,
            "grid_template_rows": null,
            "height": null,
            "justify_content": null,
            "justify_items": null,
            "left": null,
            "margin": null,
            "max_height": null,
            "max_width": null,
            "min_height": null,
            "min_width": null,
            "object_fit": null,
            "object_position": null,
            "order": null,
            "overflow": null,
            "overflow_x": null,
            "overflow_y": null,
            "padding": null,
            "right": null,
            "top": null,
            "visibility": null,
            "width": null
          }
        },
        "9d27cc1f46964f74a27bbc99ee9f53ac": {
          "model_module": "@jupyter-widgets/base",
          "model_name": "LayoutModel",
          "model_module_version": "1.2.0",
          "state": {
            "_model_module": "@jupyter-widgets/base",
            "_model_module_version": "1.2.0",
            "_model_name": "LayoutModel",
            "_view_count": null,
            "_view_module": "@jupyter-widgets/base",
            "_view_module_version": "1.2.0",
            "_view_name": "LayoutView",
            "align_content": null,
            "align_items": null,
            "align_self": null,
            "border": null,
            "bottom": null,
            "display": null,
            "flex": null,
            "flex_flow": null,
            "grid_area": null,
            "grid_auto_columns": null,
            "grid_auto_flow": null,
            "grid_auto_rows": null,
            "grid_column": null,
            "grid_gap": null,
            "grid_row": null,
            "grid_template_areas": null,
            "grid_template_columns": null,
            "grid_template_rows": null,
            "height": null,
            "justify_content": null,
            "justify_items": null,
            "left": null,
            "margin": null,
            "max_height": null,
            "max_width": null,
            "min_height": null,
            "min_width": null,
            "object_fit": null,
            "object_position": null,
            "order": null,
            "overflow": null,
            "overflow_x": null,
            "overflow_y": null,
            "padding": null,
            "right": null,
            "top": null,
            "visibility": null,
            "width": null
          }
        },
        "11c47cd9c2f54c9d862e0ffb2a6ba8df": {
          "model_module": "@jupyter-widgets/controls",
          "model_name": "DescriptionStyleModel",
          "model_module_version": "1.5.0",
          "state": {
            "_model_module": "@jupyter-widgets/controls",
            "_model_module_version": "1.5.0",
            "_model_name": "DescriptionStyleModel",
            "_view_count": null,
            "_view_module": "@jupyter-widgets/base",
            "_view_module_version": "1.2.0",
            "_view_name": "StyleView",
            "description_width": ""
          }
        },
        "6fc9171b24b44186b5e00746f89929f4": {
          "model_module": "@jupyter-widgets/base",
          "model_name": "LayoutModel",
          "model_module_version": "1.2.0",
          "state": {
            "_model_module": "@jupyter-widgets/base",
            "_model_module_version": "1.2.0",
            "_model_name": "LayoutModel",
            "_view_count": null,
            "_view_module": "@jupyter-widgets/base",
            "_view_module_version": "1.2.0",
            "_view_name": "LayoutView",
            "align_content": null,
            "align_items": null,
            "align_self": null,
            "border": null,
            "bottom": null,
            "display": null,
            "flex": null,
            "flex_flow": null,
            "grid_area": null,
            "grid_auto_columns": null,
            "grid_auto_flow": null,
            "grid_auto_rows": null,
            "grid_column": null,
            "grid_gap": null,
            "grid_row": null,
            "grid_template_areas": null,
            "grid_template_columns": null,
            "grid_template_rows": null,
            "height": null,
            "justify_content": null,
            "justify_items": null,
            "left": null,
            "margin": null,
            "max_height": null,
            "max_width": null,
            "min_height": null,
            "min_width": null,
            "object_fit": null,
            "object_position": null,
            "order": null,
            "overflow": null,
            "overflow_x": null,
            "overflow_y": null,
            "padding": null,
            "right": null,
            "top": null,
            "visibility": null,
            "width": null
          }
        },
        "af680d1c2af3402d8594bd4ec0588876": {
          "model_module": "@jupyter-widgets/controls",
          "model_name": "ProgressStyleModel",
          "model_module_version": "1.5.0",
          "state": {
            "_model_module": "@jupyter-widgets/controls",
            "_model_module_version": "1.5.0",
            "_model_name": "ProgressStyleModel",
            "_view_count": null,
            "_view_module": "@jupyter-widgets/base",
            "_view_module_version": "1.2.0",
            "_view_name": "StyleView",
            "bar_color": null,
            "description_width": ""
          }
        },
        "0d6da906a1224a36b73347fd9debc47b": {
          "model_module": "@jupyter-widgets/base",
          "model_name": "LayoutModel",
          "model_module_version": "1.2.0",
          "state": {
            "_model_module": "@jupyter-widgets/base",
            "_model_module_version": "1.2.0",
            "_model_name": "LayoutModel",
            "_view_count": null,
            "_view_module": "@jupyter-widgets/base",
            "_view_module_version": "1.2.0",
            "_view_name": "LayoutView",
            "align_content": null,
            "align_items": null,
            "align_self": null,
            "border": null,
            "bottom": null,
            "display": null,
            "flex": null,
            "flex_flow": null,
            "grid_area": null,
            "grid_auto_columns": null,
            "grid_auto_flow": null,
            "grid_auto_rows": null,
            "grid_column": null,
            "grid_gap": null,
            "grid_row": null,
            "grid_template_areas": null,
            "grid_template_columns": null,
            "grid_template_rows": null,
            "height": null,
            "justify_content": null,
            "justify_items": null,
            "left": null,
            "margin": null,
            "max_height": null,
            "max_width": null,
            "min_height": null,
            "min_width": null,
            "object_fit": null,
            "object_position": null,
            "order": null,
            "overflow": null,
            "overflow_x": null,
            "overflow_y": null,
            "padding": null,
            "right": null,
            "top": null,
            "visibility": null,
            "width": null
          }
        },
        "6296c9acf3e5460a9f0b598ba11a9104": {
          "model_module": "@jupyter-widgets/controls",
          "model_name": "DescriptionStyleModel",
          "model_module_version": "1.5.0",
          "state": {
            "_model_module": "@jupyter-widgets/controls",
            "_model_module_version": "1.5.0",
            "_model_name": "DescriptionStyleModel",
            "_view_count": null,
            "_view_module": "@jupyter-widgets/base",
            "_view_module_version": "1.2.0",
            "_view_name": "StyleView",
            "description_width": ""
          }
        }
      }
    },
    "accelerator": "GPU"
  },
  "cells": [
    {
      "cell_type": "code",
      "execution_count": 3,
      "metadata": {
        "id": "8nRAB_ePUKGg"
      },
      "outputs": [],
      "source": [
        "import os\n",
        "import glob\n",
        "import json\n",
        "import timeit\n",
        "import random\n",
        "import requests\n",
        "import string, re\n",
        "from tqdm import tqdm\n",
        "\n",
        "import torch\n",
        "from sklearn.model_selection import train_test_split\n",
        "from sklearn.metrics import f1_score\n",
        "\n",
        "from IPython.display import display, HTML"
      ]
    },
    {
      "cell_type": "markdown",
      "source": [
        "## Download dataset"
      ],
      "metadata": {
        "id": "2Fe6xjpzWFmz"
      }
    },
    {
      "cell_type": "markdown",
      "source": [
        "### Dataset reference: https://github.com/dmis-lab/biobert"
      ],
      "metadata": {
        "id": "C-CRi999Mzfw"
      }
    },
    {
      "cell_type": "code",
      "source": [
        "!wget http://nlp.dmis.korea.edu/projects/biobert-2020-checkpoints/datasets.tar.gz"
      ],
      "metadata": {
        "colab": {
          "base_uri": "https://localhost:8080/"
        },
        "id": "DrV6PQwDeSAp",
        "outputId": "7f134fd9-c5d4-459e-d17f-d13eae0218b1"
      },
      "execution_count": 16,
      "outputs": [
        {
          "output_type": "stream",
          "name": "stdout",
          "text": [
            "--2024-11-25 21:21:06--  http://nlp.dmis.korea.edu/projects/biobert-2020-checkpoints/datasets.tar.gz\n",
            "Resolving nlp.dmis.korea.edu (nlp.dmis.korea.edu)... 163.152.163.168\n",
            "Connecting to nlp.dmis.korea.edu (nlp.dmis.korea.edu)|163.152.163.168|:80... connected.\n",
            "HTTP request sent, awaiting response... 200 OK\n",
            "Length: 29610233 (28M) [application/x-gzip]\n",
            "Saving to: ‘datasets.tar.gz’\n",
            "\n",
            "datasets.tar.gz     100%[===================>]  28.24M  1.15MB/s    in 40s     \n",
            "\n",
            "2024-11-25 21:21:48 (724 KB/s) - ‘datasets.tar.gz’ saved [29610233/29610233]\n",
            "\n"
          ]
        }
      ]
    },
    {
      "cell_type": "code",
      "source": [
        "!tar -xzvf datasets.tar.gz"
      ],
      "metadata": {
        "colab": {
          "base_uri": "https://localhost:8080/"
        },
        "collapsed": true,
        "id": "GJJT1oB8eR9X",
        "outputId": "3f082e67-5d9d-4cf7-bfd7-02bdde45f085"
      },
      "execution_count": 17,
      "outputs": [
        {
          "output_type": "stream",
          "name": "stdout",
          "text": [
            "datasets/\n",
            "datasets/RE/\n",
            "datasets/RE/GAD/\n",
            "datasets/RE/GAD/6/\n",
            "datasets/RE/GAD/6/test.tsv\n",
            "datasets/RE/GAD/6/dev.tsv\n",
            "datasets/RE/GAD/6/train.tsv\n",
            "datasets/RE/GAD/7/\n",
            "datasets/RE/GAD/7/test.tsv\n",
            "datasets/RE/GAD/7/dev.tsv\n",
            "datasets/RE/GAD/7/train.tsv\n",
            "datasets/RE/GAD/5/\n",
            "datasets/RE/GAD/5/test.tsv\n",
            "datasets/RE/GAD/5/dev.tsv\n",
            "datasets/RE/GAD/5/train.tsv\n",
            "datasets/RE/GAD/8/\n",
            "datasets/RE/GAD/8/test.tsv\n",
            "datasets/RE/GAD/8/dev.tsv\n",
            "datasets/RE/GAD/8/train.tsv\n",
            "datasets/RE/GAD/4/\n",
            "datasets/RE/GAD/4/test.tsv\n",
            "datasets/RE/GAD/4/dev.tsv\n",
            "datasets/RE/GAD/4/train.tsv\n",
            "datasets/RE/GAD/1/\n",
            "datasets/RE/GAD/1/test.tsv\n",
            "datasets/RE/GAD/1/dev.tsv\n",
            "datasets/RE/GAD/1/train.tsv\n",
            "datasets/RE/GAD/2/\n",
            "datasets/RE/GAD/2/test.tsv\n",
            "datasets/RE/GAD/2/dev.tsv\n",
            "datasets/RE/GAD/2/train.tsv\n",
            "datasets/RE/GAD/3/\n",
            "datasets/RE/GAD/3/test.tsv\n",
            "datasets/RE/GAD/3/dev.tsv\n",
            "datasets/RE/GAD/3/train.tsv\n",
            "datasets/RE/GAD/9/\n",
            "datasets/RE/GAD/9/test.tsv\n",
            "datasets/RE/GAD/9/dev.tsv\n",
            "datasets/RE/GAD/9/train.tsv\n",
            "datasets/RE/GAD/10/\n",
            "datasets/RE/GAD/10/test.tsv\n",
            "datasets/RE/GAD/10/dev.tsv\n",
            "datasets/RE/GAD/10/train.tsv\n",
            "datasets/RE/euadr/\n",
            "datasets/RE/euadr/6/\n",
            "datasets/RE/euadr/6/test.tsv\n",
            "datasets/RE/euadr/6/dev.tsv\n",
            "datasets/RE/euadr/6/train.tsv\n",
            "datasets/RE/euadr/7/\n",
            "datasets/RE/euadr/7/test.tsv\n",
            "datasets/RE/euadr/7/dev.tsv\n",
            "datasets/RE/euadr/7/train.tsv\n",
            "datasets/RE/euadr/5/\n",
            "datasets/RE/euadr/5/test.tsv\n",
            "datasets/RE/euadr/5/dev.tsv\n",
            "datasets/RE/euadr/5/train.tsv\n",
            "datasets/RE/euadr/8/\n",
            "datasets/RE/euadr/8/test.tsv\n",
            "datasets/RE/euadr/8/dev.tsv\n",
            "datasets/RE/euadr/8/train.tsv\n",
            "datasets/RE/euadr/4/\n",
            "datasets/RE/euadr/4/test.tsv\n",
            "datasets/RE/euadr/4/dev.tsv\n",
            "datasets/RE/euadr/4/train.tsv\n",
            "datasets/RE/euadr/1/\n",
            "datasets/RE/euadr/1/test.tsv\n",
            "datasets/RE/euadr/1/dev.tsv\n",
            "datasets/RE/euadr/1/train.tsv\n",
            "datasets/RE/euadr/2/\n",
            "datasets/RE/euadr/2/test.tsv\n",
            "datasets/RE/euadr/2/dev.tsv\n",
            "datasets/RE/euadr/2/train.tsv\n",
            "datasets/RE/euadr/3/\n",
            "datasets/RE/euadr/3/test.tsv\n",
            "datasets/RE/euadr/3/dev.tsv\n",
            "datasets/RE/euadr/3/train.tsv\n",
            "datasets/RE/euadr/9/\n",
            "datasets/RE/euadr/9/test.tsv\n",
            "datasets/RE/euadr/9/dev.tsv\n",
            "datasets/RE/euadr/9/train.tsv\n",
            "datasets/RE/euadr/10/\n",
            "datasets/RE/euadr/10/test.tsv\n",
            "datasets/RE/euadr/10/dev.tsv\n",
            "datasets/RE/euadr/10/train.tsv\n",
            "datasets/QA/\n",
            "datasets/QA/BioASQ/\n",
            "datasets/QA/BioASQ/6B1_golden.json\n",
            "datasets/QA/BioASQ/BioASQ-test-factoid-7b.json\n",
            "datasets/QA/BioASQ/BioASQ-test-factoid-5b-4.json\n",
            "datasets/QA/BioASQ/5B3_golden.json\n",
            "datasets/QA/BioASQ/BioASQ-test-factoid-4b-2.json\n",
            "datasets/QA/BioASQ/4B1_golden.json\n",
            "datasets/QA/BioASQ/BioASQ-train-yesno-7b.json\n",
            "datasets/QA/BioASQ/BioASQ-test-factoid-5b-5.json\n",
            "datasets/QA/BioASQ/BioASQ-test-factoid-5b-2.json\n",
            "datasets/QA/BioASQ/BioASQ-test-factoid-6b-2.json\n",
            "datasets/QA/BioASQ/4B4_golden.json\n",
            "datasets/QA/BioASQ/BioASQ-test-factoid-6b-3.json\n",
            "datasets/QA/BioASQ/6B3_golden.json\n",
            "datasets/QA/BioASQ/BioASQ-test-factoid-5b-3.json\n",
            "datasets/QA/BioASQ/BioASQ-test-factoid-6b-5.json\n",
            "datasets/QA/BioASQ/BioASQ-test-yesno-7b.json\n",
            "datasets/QA/BioASQ/BioASQ-train-factoid-4b.json\n",
            "datasets/QA/BioASQ/BioASQ-test-factoid-4b-1.json\n",
            "datasets/QA/BioASQ/6B5_golden.json\n",
            "datasets/QA/BioASQ/5B1_golden.json\n",
            "datasets/QA/BioASQ/4B5_golden.json\n",
            "datasets/QA/BioASQ/BioASQ-test-factoid-4b-3.json\n",
            "datasets/QA/BioASQ/7B_golden.json\n",
            "datasets/QA/BioASQ/5B4_golden.json\n",
            "datasets/QA/BioASQ/BioASQ-train-factoid-6b.json\n",
            "datasets/QA/BioASQ/BioASQ-train-factoid-7b.json\n",
            "datasets/QA/BioASQ/SHA1.txt\n",
            "datasets/QA/BioASQ/BioASQ-test-factoid-6b-1.json\n",
            "datasets/QA/BioASQ/BioASQ-train-factoid-5b.json\n",
            "datasets/QA/BioASQ/5B2_golden.json\n",
            "datasets/QA/BioASQ/BioASQ-test-factoid-6b-4.json\n",
            "datasets/QA/BioASQ/BioASQ-test-factoid-5b-1.json\n",
            "datasets/QA/BioASQ/4B3_golden.json\n",
            "datasets/QA/BioASQ/6B2_golden.json\n",
            "datasets/QA/BioASQ/4B2_golden.json\n",
            "datasets/QA/BioASQ/6B4_golden.json\n",
            "datasets/QA/BioASQ/BioASQ-test-factoid-4b-5.json\n",
            "datasets/QA/BioASQ/5B5_golden.json\n",
            "datasets/QA/BioASQ/BioASQ-test-factoid-4b-4.json\n",
            "datasets/NER/\n",
            "datasets/NER/linnaeus/\n",
            "datasets/NER/linnaeus/devel.tsv\n",
            "datasets/NER/linnaeus/test.tsv\n",
            "datasets/NER/linnaeus/train_dev.tsv\n",
            "datasets/NER/linnaeus/train.tsv\n",
            "datasets/NER/BC2GM/\n",
            "datasets/NER/BC2GM/devel.tsv\n",
            "datasets/NER/BC2GM/test.tsv\n",
            "datasets/NER/BC2GM/train_dev.tsv\n",
            "datasets/NER/BC2GM/train.tsv\n",
            "datasets/NER/BC5CDR-disease/\n",
            "datasets/NER/BC5CDR-disease/devel.tsv\n",
            "datasets/NER/BC5CDR-disease/test.tsv\n",
            "datasets/NER/BC5CDR-disease/train_dev.tsv\n",
            "datasets/NER/BC5CDR-disease/train.tsv\n",
            "datasets/NER/NCBI-disease/\n",
            "datasets/NER/NCBI-disease/devel.tsv\n",
            "datasets/NER/NCBI-disease/test.tsv\n",
            "datasets/NER/NCBI-disease/train_dev.tsv\n",
            "datasets/NER/NCBI-disease/train.tsv\n",
            "datasets/NER/s800/\n",
            "datasets/NER/s800/devel.tsv\n",
            "datasets/NER/s800/test.tsv\n",
            "datasets/NER/s800/train_dev.tsv\n",
            "datasets/NER/s800/train.tsv\n",
            "datasets/NER/BC5CDR-chem/\n",
            "datasets/NER/BC5CDR-chem/devel.tsv\n",
            "datasets/NER/BC5CDR-chem/test.tsv\n",
            "datasets/NER/BC5CDR-chem/train_dev.tsv\n",
            "datasets/NER/BC5CDR-chem/train.tsv\n",
            "datasets/NER/JNLPBA/\n",
            "datasets/NER/JNLPBA/devel.tsv\n",
            "datasets/NER/JNLPBA/test.tsv\n",
            "datasets/NER/JNLPBA/train_dev.tsv\n",
            "datasets/NER/JNLPBA/train.tsv\n",
            "datasets/NER/BC4CHEMD/\n",
            "datasets/NER/BC4CHEMD/devel.tsv\n",
            "datasets/NER/BC4CHEMD/test.tsv\n",
            "datasets/NER/BC4CHEMD/train_dev.tsv\n",
            "datasets/NER/BC4CHEMD/train.tsv\n"
          ]
        }
      ]
    },
    {
      "cell_type": "code",
      "source": [
        "!rm -rf datasets.tar.gz"
      ],
      "metadata": {
        "id": "idyRRv0vfoWQ"
      },
      "execution_count": 18,
      "outputs": []
    },
    {
      "cell_type": "code",
      "source": [
        "# with open('/content/datasets/QA/BioASQ/BioASQ-train-factoid-4b.json') as f:\n",
        "#   data = json.load(f)"
      ],
      "metadata": {
        "id": "DaslGxU7eR3Y"
      },
      "execution_count": 19,
      "outputs": []
    },
    {
      "cell_type": "code",
      "source": [
        "# data.keys()"
      ],
      "metadata": {
        "id": "hOwjVcW8eR0H"
      },
      "execution_count": 20,
      "outputs": []
    },
    {
      "cell_type": "code",
      "source": [
        "# data['data'][0].keys()"
      ],
      "metadata": {
        "id": "PNh5F3nIgX2S"
      },
      "execution_count": 21,
      "outputs": []
    },
    {
      "cell_type": "code",
      "source": [
        "# data['data'][0]['paragraphs'][0]"
      ],
      "metadata": {
        "id": "NRSfc3tCgcSa"
      },
      "execution_count": 22,
      "outputs": []
    },
    {
      "cell_type": "code",
      "source": [
        "def extract_data(file_path):\n",
        "\n",
        "  questions_list = []\n",
        "  context_list = []\n",
        "  answers_list = []\n",
        "\n",
        "  with open(file_path) as f:\n",
        "    data = json.load(f)\n",
        "\n",
        "  questions = data['data'][0]['paragraphs']\n",
        "\n",
        "  for question in questions:\n",
        "    context = question['context']\n",
        "    for qna in question['qas']:\n",
        "      question = qna['question']\n",
        "      answers = qna['answers']\n",
        "      for ans in answers:\n",
        "        answer = ans['text']\n",
        "        start_idx = ans['answer_start']\n",
        "        end_idx = start_idx + len(answer)\n",
        "        questions_list.append(question)\n",
        "        context_list.append(context)\n",
        "        answers_list.append(dict(text=answer, start_idx=start_idx, end_idx=end_idx))\n",
        "\n",
        "  return questions_list, context_list, answers_list"
      ],
      "metadata": {
        "id": "LQzKY3POhdc8"
      },
      "execution_count": 23,
      "outputs": []
    },
    {
      "cell_type": "code",
      "source": [
        "for path in glob.glob('/content/datasets/QA/BioASQ/BioASQ-train-factoid-*'):\n",
        "  print(path)"
      ],
      "metadata": {
        "colab": {
          "base_uri": "https://localhost:8080/"
        },
        "id": "0oDU0vi5m5Ny",
        "outputId": "066e9ed7-da12-41ee-9e35-53f2457531e7"
      },
      "execution_count": 24,
      "outputs": [
        {
          "output_type": "stream",
          "name": "stdout",
          "text": [
            "/content/datasets/QA/BioASQ/BioASQ-train-factoid-6b.json\n",
            "/content/datasets/QA/BioASQ/BioASQ-train-factoid-4b.json\n",
            "/content/datasets/QA/BioASQ/BioASQ-train-factoid-5b.json\n",
            "/content/datasets/QA/BioASQ/BioASQ-train-factoid-7b.json\n"
          ]
        }
      ]
    },
    {
      "cell_type": "code",
      "source": [
        "questions = []\n",
        "context = []\n",
        "answers = []\n",
        "\n",
        "for path in glob.glob('/content/datasets/QA/BioASQ/BioASQ-train-factoid-*'):\n",
        "  questions, context, answers = extract_data(path)\n",
        "  questions.extend(questions)\n",
        "  context.extend(context)\n",
        "  answers.extend(answers)"
      ],
      "metadata": {
        "id": "q3Zt6cR6hdZy"
      },
      "execution_count": 25,
      "outputs": []
    },
    {
      "cell_type": "code",
      "source": [
        "len(questions), len(context), len(answers)"
      ],
      "metadata": {
        "colab": {
          "base_uri": "https://localhost:8080/"
        },
        "id": "6_hEVcpUhdT0",
        "outputId": "3bf417e6-e60b-4843-e5a9-5e032adab425"
      },
      "execution_count": 26,
      "outputs": [
        {
          "output_type": "execute_result",
          "data": {
            "text/plain": [
              "(8462, 8462, 8462)"
            ]
          },
          "metadata": {},
          "execution_count": 26
        }
      ]
    },
    {
      "cell_type": "code",
      "source": [
        "questions[0], context[0], answers[0]"
      ],
      "metadata": {
        "colab": {
          "base_uri": "https://localhost:8080/"
        },
        "id": "4vnvAgoJF20Y",
        "outputId": "495fdb51-7239-4776-b685-9094a9215fc6"
      },
      "execution_count": 27,
      "outputs": [
        {
          "output_type": "execute_result",
          "data": {
            "text/plain": [
              "('Name synonym of Acrokeratosis paraneoplastica.',\n",
              " 'Acrokeratosis paraneoplastica (Bazex syndrome): report of a case associated with small cell lung carcinoma and review of the literature.',\n",
              " {'text': 'Bazex syndrome', 'start_idx': 31, 'end_idx': 45})"
            ]
          },
          "metadata": {},
          "execution_count": 27
        }
      ]
    },
    {
      "cell_type": "code",
      "source": [
        "train_questions, val_questions, train_answers, val_answers, train_context, val_context = train_test_split(questions,\n",
        "                                                                                                          answers,\n",
        "                                                                                                          context,\n",
        "                                                                                                          test_size=0.1,\n",
        "                                                                                                          random_state=42)"
      ],
      "metadata": {
        "id": "m_x8EuHkp8Bb"
      },
      "execution_count": 28,
      "outputs": []
    },
    {
      "cell_type": "code",
      "source": [
        "len(train_questions), len(val_questions), len(train_answers), len(val_answers), len(train_context), len(val_context)"
      ],
      "metadata": {
        "colab": {
          "base_uri": "https://localhost:8080/"
        },
        "id": "gS3-K1bCqzlZ",
        "outputId": "3ad6409f-94af-4560-c4ee-0e65ad2292ef"
      },
      "execution_count": 29,
      "outputs": [
        {
          "output_type": "execute_result",
          "data": {
            "text/plain": [
              "(7615, 847, 7615, 847, 7615, 847)"
            ]
          },
          "metadata": {},
          "execution_count": 29
        }
      ]
    },
    {
      "cell_type": "code",
      "source": [
        "import transformers\n",
        "from transformers import AutoTokenizer, AutoModelForQuestionAnswering, pipeline\n",
        "\n",
        "MODEL_NAME = \"deepset/roberta-base-squad2\"\n",
        "tokenizer = AutoTokenizer.from_pretrained(MODEL_NAME)"
      ],
      "metadata": {
        "colab": {
          "base_uri": "https://localhost:8080/",
          "height": 304,
          "referenced_widgets": [
            "c329075c1f6e45e0a438106c25bee95e",
            "29f06b3f10cd4e4a94beea864c692251",
            "4500b275f68d42a587998fb40e393be8",
            "550f42ac43184202a9514cf0fb301ff0",
            "51bd09e19d554483b6e942ba0895f764",
            "d0d4aea3f17844ed98cbf961724ca3d9",
            "9ceff8052d144f94b51b880a8bd2856e",
            "9e742a364de74a0e876aa28a9e324c76",
            "bfb2d44372734821a31cb7ce77c037e1",
            "ef6d17591b6448d49527aa551f9e8cae",
            "ec011e7ff04d4b62b39cc7c5cc58b3f0",
            "4c4cbc3c904245e7930e35269a48d199",
            "1197e7ea51c5410f90223aa8fd75717c",
            "610aa118b0f5447cb8ccd905449b9917",
            "b98c1d7bce674670aa912b8bd03b325d",
            "e9c9e284022f4a90a13ac55a58bc669c",
            "f7ca0fa866d24a1ca2c14d60c59de3f1",
            "d7d5011e12e1423486551e99f27f22ac",
            "20c5ccbf6f854075b96e1ba20891ade0",
            "9ec17b29b7234c9b8bc9adb459e9a867",
            "2d7a4c4c27674df6915f7e9de52856f4",
            "18d96771e97445b29c957a8bbc4d09cf",
            "52ca1b68d19a485bb04899d87d0c6677",
            "f36efaf7b12648bbb7c66ff8c17a3647",
            "937bba9fb10244f4816873653b54ad0b",
            "1daf001170704300bc64a23f28ee3b39",
            "5dc1f17d9e22432e9b47bc3d5769b4a4",
            "cef69db7030c4fecbf521cb5dafb1a44",
            "ec69cc01e7dc4fa7abb43791fb6fdc96",
            "5aec9c7be90d4e109eaa71c33eed6e35",
            "bb1cef33219a459c97ce84562452d8cb",
            "44d08b273ccb40c0815d0186ef5a8dfb",
            "3efdb193071c48c39822603a2764651d",
            "ac94ef43a85646a5be37e566f54a17b7",
            "e83d5e57ef6d4e56a1cb4c03ae1b60a3",
            "269bac0b76e746489da04bc735f6c6cd",
            "92788c354ed64928a0c13976eb8b307b",
            "37eef7adce07426e967384e6873a02b9",
            "8823fd0495bb4528a5c0ac9f4d28614f",
            "f5bb31d7bdf6496faab9d03d277d83fa",
            "328c5c992d42468e91b43d888d8779c7",
            "49ab30cec70447218b06f4e6488f37a0",
            "7b8dded40d8f4f91b257054a97dba8c5",
            "85210d22a4a2470db3ad492b78692d7a",
            "311b8d80ef26476aaec26e417372967d",
            "a82bf3175471487998778d35dc4356f9",
            "ce63791718014de8b0f40e4f54469bb6",
            "8b0e5f7de0a846bb8d02fb9be8f6b08d",
            "92f80e317d7b460ea99a5ff012748dc8",
            "ffcdf2edb47142f99bed766b0fd88f1e",
            "4ef7f709f8c44abead509e362096ea51",
            "46819c12a5bd4ac5a38d2b43db27a8cd",
            "9d0e2b68b98d419da7b47776ac215324",
            "f1c2a421648f47968d69fcb5b3cb0317",
            "5e7b45e6b9534042862cb2e4bbb93da7"
          ]
        },
        "id": "JnVEwD3lu815",
        "outputId": "c4fb40c3-cca2-437e-dabe-dba183820ace"
      },
      "execution_count": 30,
      "outputs": [
        {
          "output_type": "stream",
          "name": "stderr",
          "text": [
            "/usr/local/lib/python3.10/dist-packages/huggingface_hub/utils/_auth.py:94: UserWarning: \n",
            "The secret `HF_TOKEN` does not exist in your Colab secrets.\n",
            "To authenticate with the Hugging Face Hub, create a token in your settings tab (https://huggingface.co/settings/tokens), set it as secret in your Google Colab and restart your session.\n",
            "You will be able to reuse this secret in all of your notebooks.\n",
            "Please note that authentication is recommended but still optional to access public models or datasets.\n",
            "  warnings.warn(\n"
          ]
        },
        {
          "output_type": "display_data",
          "data": {
            "text/plain": [
              "tokenizer_config.json:   0%|          | 0.00/79.0 [00:00<?, ?B/s]"
            ],
            "application/vnd.jupyter.widget-view+json": {
              "version_major": 2,
              "version_minor": 0,
              "model_id": "c329075c1f6e45e0a438106c25bee95e"
            }
          },
          "metadata": {}
        },
        {
          "output_type": "display_data",
          "data": {
            "text/plain": [
              "config.json:   0%|          | 0.00/571 [00:00<?, ?B/s]"
            ],
            "application/vnd.jupyter.widget-view+json": {
              "version_major": 2,
              "version_minor": 0,
              "model_id": "4c4cbc3c904245e7930e35269a48d199"
            }
          },
          "metadata": {}
        },
        {
          "output_type": "display_data",
          "data": {
            "text/plain": [
              "vocab.json:   0%|          | 0.00/899k [00:00<?, ?B/s]"
            ],
            "application/vnd.jupyter.widget-view+json": {
              "version_major": 2,
              "version_minor": 0,
              "model_id": "52ca1b68d19a485bb04899d87d0c6677"
            }
          },
          "metadata": {}
        },
        {
          "output_type": "display_data",
          "data": {
            "text/plain": [
              "merges.txt:   0%|          | 0.00/456k [00:00<?, ?B/s]"
            ],
            "application/vnd.jupyter.widget-view+json": {
              "version_major": 2,
              "version_minor": 0,
              "model_id": "ac94ef43a85646a5be37e566f54a17b7"
            }
          },
          "metadata": {}
        },
        {
          "output_type": "display_data",
          "data": {
            "text/plain": [
              "special_tokens_map.json:   0%|          | 0.00/772 [00:00<?, ?B/s]"
            ],
            "application/vnd.jupyter.widget-view+json": {
              "version_major": 2,
              "version_minor": 0,
              "model_id": "311b8d80ef26476aaec26e417372967d"
            }
          },
          "metadata": {}
        }
      ]
    },
    {
      "cell_type": "code",
      "source": [
        "train_encodings = tokenizer(train_context, train_questions, truncation=True, padding=True)\n",
        "val_encodings = tokenizer(val_context, val_questions, truncation=True, padding=True)\n",
        "# test_encodings = tokenizer(test_context, test_questions, truncation=True, padding=True)"
      ],
      "metadata": {
        "id": "RkkNx_cxwafL"
      },
      "execution_count": 32,
      "outputs": []
    },
    {
      "source": [
        "def add_token_positions(encodings, answers):\n",
        "  # initialize lists to contain the token indices of answer start/end\n",
        "  start_positions = []\n",
        "  end_positions = []\n",
        "  for i in range(len(answers)):\n",
        "    # append start/end token position using char_to_token method\n",
        "    # Check if start_idx is non-negative before calling char_to_token\n",
        "    start_idx = answers[i]['start_idx']\n",
        "    if start_idx >= 0:\n",
        "      start_positions.append(encodings.char_to_token(i, start_idx))\n",
        "    else:\n",
        "      # Handle negative start_idx, e.g., set to 0 or skip\n",
        "      start_positions.append(0)  # or None, depending on your logic\n",
        "\n",
        "    # Check if end_idx is non-negative before calling char_to_token\n",
        "    end_idx = answers[i]['end_idx']\n",
        "    if end_idx >= 0:\n",
        "      end_positions.append(encodings.char_to_token(i, end_idx))\n",
        "    else:\n",
        "      # Handle negative end_idx, e.g., set to 0 or skip\n",
        "      end_positions.append(0)  # or None, depending on your logic\n",
        "\n",
        "    # if start position is None, the answer passage has been truncated\n",
        "    if start_positions[-1] is None:\n",
        "      start_positions[-1] = tokenizer.model_max_length\n",
        "    # end position cannot be found, char_to_token found space, so shift one token forward\n",
        "    go_back = 1\n",
        "    while end_positions[-1] is None:\n",
        "      end_pos_idx = answers[i]['end_idx'] - go_back\n",
        "      # Check if end_pos_idx is non-negative before calling char_to_token\n",
        "      if end_pos_idx >= 0:\n",
        "        end_positions[-1] = encodings.char_to_token(i, end_pos_idx)\n",
        "      else:\n",
        "        # Handle negative end_pos_idx, e.g., set to 0 or break\n",
        "        end_positions[-1] = 0  # or break the loop\n",
        "        break\n",
        "      go_back += 1\n",
        "  # update our encodings object with the new token-based start/end positions\n",
        "  encodings.update({'start_positions': start_positions, 'end_positions': end_positions})"
      ],
      "cell_type": "code",
      "metadata": {
        "id": "WR6YM5yvxpUo"
      },
      "execution_count": 33,
      "outputs": []
    },
    {
      "cell_type": "code",
      "source": [
        "add_token_positions(train_encodings, train_answers)\n",
        "add_token_positions(val_encodings, val_answers)\n",
        "# add_token_positions(test_encodings, test_answers)"
      ],
      "metadata": {
        "id": "YKenZ96YxGAA"
      },
      "execution_count": 34,
      "outputs": []
    },
    {
      "cell_type": "code",
      "source": [
        "class BioASQDataset(torch.utils.data.Dataset):\n",
        "    def __init__(self, encodings):\n",
        "        self.encodings = encodings\n",
        "\n",
        "    def __getitem__(self, idx):\n",
        "        return {key: torch.tensor(val[idx]) for key, val in self.encodings.items()}\n",
        "\n",
        "    def __len__(self):\n",
        "        return len(self.encodings.input_ids)\n",
        "\n",
        "train_dataset = BioASQDataset(train_encodings)\n",
        "val_dataset = BioASQDataset(val_encodings)\n",
        "# test_dataset = BioASQDataset(test_encodings)"
      ],
      "metadata": {
        "id": "xBxeBO0wxJNz"
      },
      "execution_count": 35,
      "outputs": []
    },
    {
      "cell_type": "code",
      "source": [
        "from google.colab import drive\n",
        "drive.mount('/content/drive')"
      ],
      "metadata": {
        "colab": {
          "base_uri": "https://localhost:8080/"
        },
        "id": "GSR-OYmDHWDR",
        "outputId": "a75db66f-451a-437a-a5c3-d48a9b5e3483"
      },
      "execution_count": 31,
      "outputs": [
        {
          "output_type": "stream",
          "name": "stdout",
          "text": [
            "Drive already mounted at /content/drive; to attempt to forcibly remount, call drive.mount(\"/content/drive\", force_remount=True).\n"
          ]
        }
      ]
    },
    {
      "cell_type": "code",
      "source": [
        "# !rm -rf /content/drive/MyDrive/models/deepset"
      ],
      "metadata": {
        "id": "AJWnTTBmZLad"
      },
      "execution_count": 32,
      "outputs": []
    },
    {
      "cell_type": "code",
      "source": [
        "VERSION = 3\n",
        "LEARNING_RATE = 5e-5\n",
        "BATCH_SIZE = 16\n",
        "EPOCHS = 5\n",
        "MODEL_SAVE_PATH = f\"/content/drive/MyDrive/models/{MODEL_NAME}-lr{LEARNING_RATE}-epoch{EPOCHS}-v{VERSION}/\""
      ],
      "metadata": {
        "id": "UMZEh7CWyoJ3"
      },
      "execution_count": 33,
      "outputs": []
    },
    {
      "cell_type": "code",
      "source": [
        "transformers.utils.logging.set_verbosity_error()\n",
        "device = torch.device(\"cuda\") if torch.cuda.is_available() else torch.device(\"cpu\")"
      ],
      "metadata": {
        "id": "oYaHTErwoMlb"
      },
      "execution_count": 34,
      "outputs": []
    },
    {
      "cell_type": "code",
      "source": [
        "model = AutoModelForQuestionAnswering.from_pretrained(MODEL_NAME).to(device)\n",
        "print(model.num_parameters())"
      ],
      "metadata": {
        "colab": {
          "base_uri": "https://localhost:8080/",
          "height": 67,
          "referenced_widgets": [
            "c7fe4993d690439a87269a1833cba31b",
            "64f10e74a95d49f1bca6da2cee98673c",
            "1d0d2edd20bf499d8e9c03ce04c38e44",
            "83212aa0eb724bcdbabebb61bc99bade",
            "73747ff152c842ab9effebee06b14cfa",
            "9d27cc1f46964f74a27bbc99ee9f53ac",
            "11c47cd9c2f54c9d862e0ffb2a6ba8df",
            "6fc9171b24b44186b5e00746f89929f4",
            "af680d1c2af3402d8594bd4ec0588876",
            "0d6da906a1224a36b73347fd9debc47b",
            "6296c9acf3e5460a9f0b598ba11a9104"
          ]
        },
        "id": "vYwMp6z22MI2",
        "outputId": "bcf6d694-416f-44cf-f9f1-61cce6317b23"
      },
      "execution_count": 35,
      "outputs": [
        {
          "output_type": "display_data",
          "data": {
            "text/plain": [
              "model.safetensors:   0%|          | 0.00/496M [00:00<?, ?B/s]"
            ],
            "application/vnd.jupyter.widget-view+json": {
              "version_major": 2,
              "version_minor": 0,
              "model_id": "c7fe4993d690439a87269a1833cba31b"
            }
          },
          "metadata": {}
        },
        {
          "output_type": "stream",
          "name": "stdout",
          "text": [
            "124056578\n"
          ]
        }
      ]
    },
    {
      "cell_type": "code",
      "source": [
        "train_dataloader = torch.utils.data.DataLoader(dataset=train_dataset,\n",
        "                                               batch_size=BATCH_SIZE,\n",
        "                                               shuffle=True)\n",
        "\n",
        "val_dataloader = torch.utils.data.DataLoader(dataset=val_dataset,\n",
        "                                             batch_size=BATCH_SIZE,\n",
        "                                             shuffle=False)\n",
        "\n",
        "# test_dataloader = torch.utils.data.DataLoader(dataset=test_dataset,\n",
        "#                                               batch_size=BATCH_SIZE,\n",
        "#                                               shuffle=False)"
      ],
      "metadata": {
        "id": "siBhRD0221e5"
      },
      "execution_count": 41,
      "outputs": []
    },
    {
      "cell_type": "code",
      "source": [
        "device"
      ],
      "metadata": {
        "colab": {
          "base_uri": "https://localhost:8080/"
        },
        "id": "Z-S7HP912gmi",
        "outputId": "52546fd7-ff02-4719-870c-49b8a5b5cfbb"
      },
      "execution_count": 45,
      "outputs": [
        {
          "output_type": "execute_result",
          "data": {
            "text/plain": [
              "device(type='cuda')"
            ]
          },
          "metadata": {},
          "execution_count": 45
        }
      ]
    },
    {
      "cell_type": "code",
      "source": [
        "optimizer = torch.optim.AdamW(model.parameters(), lr=LEARNING_RATE)\n",
        "\n",
        "start = timeit.default_timer()\n",
        "for epoch in range(EPOCHS):\n",
        "  model.train()\n",
        "  train_running_loss = 0\n",
        "  for idx, sample in enumerate(tqdm(train_dataloader, leave=True)):\n",
        "    input_ids = sample['input_ids'].to(device)\n",
        "    attention_mask = sample['attention_mask'].to(device)\n",
        "    start_positions = sample['start_positions'].to(device)\n",
        "    end_positions = sample['end_positions'].to(device)\n",
        "    outputs = model(input_ids=input_ids,\n",
        "                    attention_mask=attention_mask,\n",
        "                    start_positions=start_positions,\n",
        "                    end_positions=end_positions)\n",
        "\n",
        "    loss = outputs.loss\n",
        "\n",
        "    optimizer.zero_grad()\n",
        "    loss.backward()\n",
        "    optimizer.step()\n",
        "    train_running_loss += loss.item()\n",
        "\n",
        "  train_loss = train_running_loss / (idx + 1)\n",
        "\n",
        "  model.eval()\n",
        "  val_running_loss = 0\n",
        "  with torch.inference_mode():\n",
        "    for idx, sample in enumerate(tqdm(val_dataloader)):\n",
        "      input_ids = sample['input_ids'].to(device)\n",
        "      attention_mask = sample['attention_mask'].to(device)\n",
        "      start_positions = sample['start_positions'].to(device)\n",
        "      end_positions = sample['end_positions'].to(device)\n",
        "      outputs = model(input_ids=input_ids,\n",
        "                      attention_mask=attention_mask,\n",
        "                      start_positions=start_positions,\n",
        "                      end_positions=end_positions)\n",
        "\n",
        "      val_running_loss += outputs.loss.item()\n",
        "    val_loss = val_running_loss / (idx + 1)\n",
        "\n",
        "  print(\"-\"*30)\n",
        "  print(f\"EPOCH: {epoch+1:02d} | Train Loss: {train_loss:.4f}\")\n",
        "  print(f\"EPOCH: {epoch+1:02d} | Valid Loss: {val_loss:.4f}\")\n",
        "  print(\"-\"*30)\n",
        "  stop = timeit.default_timer()\n",
        "  print(f\"Training Time: {stop-start:.2f}s\")\n",
        "\n",
        "  model.save_pretrained(MODEL_SAVE_PATH)\n",
        "  tokenizer.save_pretrained(MODEL_SAVE_PATH)\n",
        "\n",
        "  torch.cuda.empty_cache()"
      ],
      "metadata": {
        "id": "LyWWCarg3i3R",
        "colab": {
          "base_uri": "https://localhost:8080/"
        },
        "outputId": "eaf4cb24-70f7-495e-989f-3066125d2a1a"
      },
      "execution_count": 46,
      "outputs": [
        {
          "metadata": {
            "tags": null
          },
          "name": "stderr",
          "output_type": "stream",
          "text": [
            "100%|██████████| 537/537 [13:25<00:00,  1.50s/it]\n",
            "100%|██████████| 60/60 [00:27<00:00,  2.20it/s]\n"
          ]
        },
        {
          "metadata": {
            "tags": null
          },
          "name": "stdout",
          "output_type": "stream",
          "text": [
            "------------------------------\n",
            "EPOCH: 01 | Train Loss: 1.6552\n",
            "EPOCH: 01 | Valid Loss: 1.1573\n",
            "------------------------------\n",
            "Training Time: 832.87s\n"
          ]
        },
        {
          "metadata": {
            "tags": null
          },
          "name": "stderr",
          "output_type": "stream",
          "text": [
            "100%|██████████| 537/537 [13:36<00:00,  1.52s/it]\n",
            "100%|██████████| 60/60 [00:27<00:00,  2.21it/s]\n"
          ]
        },
        {
          "metadata": {
            "tags": null
          },
          "name": "stdout",
          "output_type": "stream",
          "text": [
            "------------------------------\n",
            "EPOCH: 02 | Train Loss: 1.0782\n",
            "EPOCH: 02 | Valid Loss: 1.0027\n",
            "------------------------------\n",
            "Training Time: 1680.22s\n"
          ]
        },
        {
          "metadata": {
            "tags": null
          },
          "name": "stderr",
          "output_type": "stream",
          "text": [
            "100%|██████████| 537/537 [13:36<00:00,  1.52s/it]\n",
            "100%|██████████| 60/60 [00:27<00:00,  2.20it/s]\n"
          ]
        },
        {
          "metadata": {
            "tags": null
          },
          "name": "stdout",
          "output_type": "stream",
          "text": [
            "------------------------------\n",
            "EPOCH: 03 | Train Loss: 0.9433\n",
            "EPOCH: 03 | Valid Loss: 0.8851\n",
            "------------------------------\n",
            "Training Time: 2526.01s\n"
          ]
        },
        {
          "output_type": "stream",
          "name": "stderr",
          "text": [
            "100%|██████████| 537/537 [13:35<00:00,  1.52s/it]\n",
            "100%|██████████| 60/60 [00:27<00:00,  2.21it/s]\n"
          ]
        },
        {
          "output_type": "stream",
          "name": "stdout",
          "text": [
            "------------------------------\n",
            "EPOCH: 04 | Train Loss: 0.8578\n",
            "EPOCH: 04 | Valid Loss: 0.8831\n",
            "------------------------------\n",
            "Training Time: 3372.41s\n"
          ]
        },
        {
          "output_type": "stream",
          "name": "stderr",
          "text": [
            "100%|██████████| 537/537 [13:36<00:00,  1.52s/it]\n",
            "100%|██████████| 60/60 [00:27<00:00,  2.21it/s]\n"
          ]
        },
        {
          "output_type": "stream",
          "name": "stdout",
          "text": [
            "------------------------------\n",
            "EPOCH: 05 | Train Loss: 0.8081\n",
            "EPOCH: 05 | Valid Loss: 0.9109\n",
            "------------------------------\n",
            "Training Time: 4220.35s\n"
          ]
        }
      ]
    },
    {
      "cell_type": "markdown",
      "source": [
        "## Evalation Exact Match and F1-score"
      ],
      "metadata": {
        "id": "Gal2fjwOIogf"
      }
    },
    {
      "cell_type": "code",
      "source": [
        "def get_answers(index):\n",
        "  question = val_questions[index]\n",
        "  context = val_context[index]\n",
        "  true_answer = val_answers[index]['text']\n",
        "\n",
        "  tokenizer = AutoTokenizer.from_pretrained(MODEL_SAVE_PATH)\n",
        "  inputs = tokenizer.encode_plus(question, context, return_tensors='pt')\n",
        "\n",
        "  model = AutoModelForQuestionAnswering.from_pretrained(MODEL_SAVE_PATH)\n",
        "  outputs = model(**inputs)\n",
        "  answer_start = torch.argmax(outputs[0])\n",
        "  answer_end = torch.argmax(outputs[1]) + 1\n",
        "\n",
        "  pred_answer = tokenizer.convert_tokens_to_string(tokenizer.convert_ids_to_tokens(inputs['input_ids'][0][answer_start:answer_end]))\n",
        "  return true_answer, pred_answer"
      ],
      "metadata": {
        "id": "8ncQNvOjIojD"
      },
      "execution_count": 53,
      "outputs": []
    },
    {
      "cell_type": "code",
      "source": [
        "def normalize_text(text):\n",
        "  regex = re.compile(r\"\\b(a|an|the)\\b\", re.UNICODE) # remove articles\n",
        "  text = \" \".join(re.sub(regex, \" \", text).split()) # fix white spase\n",
        "  text = \"\".join(ch for ch in text if ch not in set(string.punctuation)) # remove punctuations\n",
        "  return text.lower()"
      ],
      "metadata": {
        "id": "GjEZQvGTL-QV"
      },
      "execution_count": 54,
      "outputs": []
    },
    {
      "cell_type": "code",
      "source": [
        "def compute_exact_match(prediction, truth):\n",
        "  return int(normalize_text(prediction) == normalize_text(truth))"
      ],
      "metadata": {
        "id": "TFy8mB_rNp48"
      },
      "execution_count": 56,
      "outputs": []
    },
    {
      "cell_type": "code",
      "source": [
        "def compute_f1(prediction, truth):\n",
        "  pred_tokens = normalize_text(prediction).split()\n",
        "  truth_tokens = normalize_text(truth).split()\n",
        "\n",
        "  # if either the prediction or the truth is no-answer then f1 = 1 if they agree, 0 otherwise\n",
        "  if len(pred_tokens) == 0 or len(truth_tokens) == 0:\n",
        "    return int(pred_tokens == truth_tokens)\n",
        "\n",
        "  common_tokens = set(pred_tokens) & set(truth_tokens)\n",
        "\n",
        "  # if there are no common tokens then f1 = 0\n",
        "  if len(common_tokens) == 0:\n",
        "    return 0\n",
        "\n",
        "  prec = len(common_tokens) / len(pred_tokens)\n",
        "  rec = len(common_tokens) / len(truth_tokens)\n",
        "\n",
        "  return 2 * (prec * rec) / (prec + rec)"
      ],
      "metadata": {
        "id": "hHDGYd3qIobh"
      },
      "execution_count": 57,
      "outputs": []
    },
    {
      "cell_type": "code",
      "source": [
        "random_idx = random.randint(0, len(val_questions)-1)\n",
        "true_ans, pred_ans = get_answers(random_idx)\n",
        "exact_match = compute_exact_match(pred_ans, true_ans)\n",
        "f1 = compute_f1(pred_ans, true_ans)\n",
        "\n",
        "print(f\"Question: {val_questions[random_idx]}\")\n",
        "print(f\"True Answer: {true_ans}\")\n",
        "print(f\"Predicted Answer: {pred_ans}\")\n",
        "print(f\"Exact Match: {exact_match}\")\n",
        "print(f\"F1 Score: {f1}\")"
      ],
      "metadata": {
        "colab": {
          "base_uri": "https://localhost:8080/"
        },
        "id": "qmh3cxpFIoYI",
        "outputId": "a0c8b17d-e7b2-4402-c1a4-e571d36886a1"
      },
      "execution_count": 65,
      "outputs": [
        {
          "output_type": "stream",
          "name": "stdout",
          "text": [
            "Question: Which kinase is inhibited by Tripolin A?\n",
            "True Answer: Aurora A\n",
            "Predicted Answer:  Aurora A\n",
            "Exact Match: 1\n",
            "F1 Score: 1.0\n"
          ]
        }
      ]
    },
    {
      "cell_type": "code",
      "source": [
        "exact_match_list = []\n",
        "f1_list = []\n",
        "for i in range(len(val_questions)-1):\n",
        "  true_ans, pred_ans = get_answers(i)\n",
        "  exact_match = compute_exact_match(pred_ans, true_ans)\n",
        "  f1 = compute_f1(pred_ans, true_ans)\n",
        "  exact_match_list.append(exact_match)\n",
        "  f1_list.append(f1)"
      ],
      "metadata": {
        "id": "5xOt8TbfO3X2"
      },
      "execution_count": 59,
      "outputs": []
    },
    {
      "cell_type": "code",
      "source": [
        "avg_em = sum(exact_match_list) / len(exact_match_list)\n",
        "avg_f1 = sum(f1_list) / len(f1_list)\n",
        "\n",
        "print(f\"Average Exact Match: {avg_em}\")\n",
        "print(f\"Average F1 Score: {avg_f1}\")"
      ],
      "metadata": {
        "colab": {
          "base_uri": "https://localhost:8080/"
        },
        "id": "KsFJSupqQB2L",
        "outputId": "b497efa7-318a-44ff-c802-c5bc282d9a0b"
      },
      "execution_count": 60,
      "outputs": [
        {
          "output_type": "stream",
          "name": "stdout",
          "text": [
            "Average Exact Match: 0.8167848699763594\n",
            "Average F1 Score: 0.8560528322123386\n"
          ]
        }
      ]
    },
    {
      "cell_type": "markdown",
      "source": [
        "## Inference with test data"
      ],
      "metadata": {
        "id": "i-q1m8wHRp1A"
      }
    },
    {
      "cell_type": "code",
      "source": [
        "test_questions = []\n",
        "test_context = []\n",
        "\n",
        "for path in glob.glob('/content/datasets/QA/BioASQ/BioASQ-test-factoid-*'):\n",
        "  with open(path) as f:\n",
        "    test_data = json.load(f)\n",
        "    for q in test_data['data'][0]['paragraphs']:\n",
        "      test_questions.append(q['qas'][0]['question'])\n",
        "      test_context.append(q['context'])"
      ],
      "metadata": {
        "id": "Tg5aHfPQFBHv"
      },
      "execution_count": 66,
      "outputs": []
    },
    {
      "cell_type": "code",
      "source": [
        "len(test_questions), len(test_context)"
      ],
      "metadata": {
        "colab": {
          "base_uri": "https://localhost:8080/"
        },
        "id": "hB99E980FO45",
        "outputId": "e884c917-99ef-4aaf-f569-1621082b5c57"
      },
      "execution_count": 67,
      "outputs": [
        {
          "output_type": "execute_result",
          "data": {
            "text/plain": [
              "(2184, 2184)"
            ]
          },
          "metadata": {},
          "execution_count": 67
        }
      ]
    },
    {
      "cell_type": "code",
      "source": [
        "test_questions[0], test_context[0]"
      ],
      "metadata": {
        "colab": {
          "base_uri": "https://localhost:8080/"
        },
        "id": "lEVBBT5_GrFE",
        "outputId": "4d160514-7cd1-4b18-bf31-5c23228aa603"
      },
      "execution_count": 69,
      "outputs": [
        {
          "output_type": "execute_result",
          "data": {
            "text/plain": [
              "('What is the combined effect of Nfat and miR-25?',\n",
              " 'Nfat and miR-25 cooperate to reactivate the transcription factor Hand2 in heart failure.')"
            ]
          },
          "metadata": {},
          "execution_count": 69
        }
      ]
    },
    {
      "cell_type": "code",
      "source": [
        "def model_inference(question, context, model_path=MODEL_SAVE_PATH):\n",
        "  model = AutoModelForQuestionAnswering.from_pretrained(model_path)\n",
        "  tokenizer = AutoTokenizer.from_pretrained(model_path)\n",
        "  start = timeit.default_timer()\n",
        "  qa_model = pipeline(task=\"question-answering\", model=model, tokenizer=tokenizer)\n",
        "  stop = timeit.default_timer()\n",
        "  print(f\"Inference Time: {stop-start:.2f}s\")\n",
        "  return qa_model(question=question, context=context)"
      ],
      "metadata": {
        "id": "rDKEP4aQ7pb-"
      },
      "execution_count": 70,
      "outputs": []
    },
    {
      "cell_type": "code",
      "source": [
        "def display_result(context, result):\n",
        "  before_text = context[:result['start']]\n",
        "  colored_text = context[result['start']:result['end']+1]\n",
        "  after_text = context[result['end']+1:]\n",
        "  # print(f\"Answer: {result['answer']}\")\n",
        "  display(HTML(f\"\"\"<p style='font-size: 16px; width: 50%;'>{before_text}\n",
        "    <span style='background-color: #33447f; color: white; width: {len(result[\"answer\"])}em;'>{colored_text}</span>\n",
        "    {after_text}</p>\"\"\"))"
      ],
      "metadata": {
        "id": "pd7lU7e-gVMy"
      },
      "execution_count": 71,
      "outputs": []
    },
    {
      "cell_type": "code",
      "source": [
        "random_idx = random.randint(0, len(test_questions)-1)\n",
        "question = test_questions[random_idx]\n",
        "context = test_context[random_idx]\n",
        "print(question)\n",
        "result = model_inference(question, context)\n",
        "result"
      ],
      "metadata": {
        "colab": {
          "base_uri": "https://localhost:8080/"
        },
        "id": "RN9JEcVHQsoF",
        "outputId": "9088f8b3-ead3-4a1a-e5df-ace14225d30a"
      },
      "execution_count": 111,
      "outputs": [
        {
          "output_type": "stream",
          "name": "stdout",
          "text": [
            "What distinguishes lantibiotics from antibiotics?\n",
            "Inference Time: 0.00s\n"
          ]
        },
        {
          "output_type": "execute_result",
          "data": {
            "text/plain": [
              "{'score': 0.17087984085083008,\n",
              " 'start': 109,\n",
              " 'end': 154,\n",
              " 'answer': 'Lantibiotics are biologically active peptides'}"
            ]
          },
          "metadata": {},
          "execution_count": 111
        }
      ]
    },
    {
      "cell_type": "code",
      "source": [
        "display_result(context, result)"
      ],
      "metadata": {
        "colab": {
          "base_uri": "https://localhost:8080/",
          "height": 287
        },
        "id": "I2fL_676PbnW",
        "outputId": "26bb138c-d58f-4ca0-80c6-7cc3f5574453"
      },
      "execution_count": 112,
      "outputs": [
        {
          "output_type": "display_data",
          "data": {
            "text/plain": [
              "<IPython.core.display.HTML object>"
            ],
            "text/html": [
              "<p style='font-size: 16px; width: 50%;'>Isolation and characterization of NAI-802, a new lantibiotic produced by two different Actinoplanes strains. \n",
              "    <span style='background-color: #33447f; color: white; width: 45em;'>Lantibiotics are biologically active peptides </span>\n",
              "    produced by Gram-positive bacteria. Starting from fermentation broth extracts preselected from a high-throughput screening program for discovering cell-wall inhibitors, we successfully isolated a new lantibiotic produced by Actinoplanes sp., designated as NAI-802. MS and NMR analysis together with explorative chemistry established that NAI-802 consists of 21 amino acids, 19 of which are identical to those present in the class II lantibiotic actagardine. Interestingly, NAI-802 carries one extra alanine and one extra arginine at the N- and C-termini, respectively. As expected from the overall higher positive charge, NAI-802 was slightly more active than actagardine against staphylococci and streptococci. Further improvement of its antibacterial activity was achieved by adding one additional positive charge through conversion of the C-terminal carboxylate into the corresponding basic amide. NAI-802 thus represents a novel promising candidate for treating Gram-positive infections caused by multidrug-resistant pathogens.</p>"
            ]
          },
          "metadata": {}
        }
      ]
    },
    {
      "cell_type": "code",
      "source": [],
      "metadata": {
        "id": "O_BMtXTWqnVR"
      },
      "execution_count": null,
      "outputs": []
    }
  ]
}